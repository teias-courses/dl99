{
  "nbformat": 4,
  "nbformat_minor": 0,
  "metadata": {
    "colab": {
      "name": "Assignment 1.ipynb",
      "provenance": [],
      "collapsed_sections": [
        "zDKgUvfw7gTO",
        "QilVSubqFXn4",
        "J45mVu3l8lVz",
        "DVvWWoLK8lfO",
        "HWRra63i2oFS"
      ],
      "toc_visible": true
    },
    "kernelspec": {
      "name": "python3",
      "display_name": "Python 3"
    }
  },
  "cells": [
    {
      "cell_type": "markdown",
      "metadata": {
        "id": "8_wEtBmL1Hwk"
      },
      "source": [
        "# Assignment #01 - Introduction to ML tools\n",
        "\n",
        "\n",
        "Deep Learning / Fall 1399, Khatam University\n",
        "\n",
        "\n",
        "\n",
        "---\n",
        "\n"
      ]
    },
    {
      "cell_type": "markdown",
      "metadata": {
        "id": "J-_PRgRX1NDO"
      },
      "source": [
        "**Please pay attention to these notes:**\n",
        "<br><br>\n",
        "\n",
        "\n",
        "- **Assignment Due:** <b><font color='red'>1399/9/7</font></b> 23:59:00\n",
        "- If you need any additional information, please review the assignment page on the course website.\n",
        "- The items you need to answer are highlighted in <font color=\"purple\">**bold purple**</font> and the coding parts you need to implement are denoted by:\n",
        "```\n",
        "########################################\n",
        "#     Put your implementation here     #\n",
        "########################################\n",
        "```\n",
        "- We always recommend co-operation and discussion in groups for assignments. However, **each student has to finish all the questions by him/herself**. If our matching system identifies any sort of copying, you'll be responsible for consequences.\n",
        "- Students who audit this course should submit their assignments like other students to be qualified for attending the rest of the sessions.\n",
        "- If you have any questions about this assignment, feel free to drop us a line. You may also post your questions on the course Microsoft Teams channel.\n",
        "- You must run this notebook on Google Colab platform, it depends on Google Colab VM for some of the depencecies.\n",
        "- You can double click on collapsed code cells to expand them.\n",
        "- <b><font color='red'>When you are ready to submit, please follow the instructions at the end of this notebook.</font></b>\n",
        "\n",
        "\n",
        "<br>\n"
      ]
    },
    {
      "cell_type": "markdown",
      "metadata": {
        "id": "OTZtiOeg1vHP"
      },
      "source": [
        "\n",
        "\n",
        "---\n",
        "\n"
      ]
    },
    {
      "cell_type": "markdown",
      "metadata": {
        "id": "zDKgUvfw7gTO"
      },
      "source": [
        "# Introduction"
      ]
    },
    {
      "cell_type": "markdown",
      "metadata": {
        "id": "RBrRyCdUFhlj"
      },
      "source": [
        "In this assignment, you will:\n",
        "- Work with some famous machine learning libraries such as **NumPy, Pandas, Matplotlib** and **sklearn** \n",
        "- Learn how to visualize data\n",
        "- Solve a simple practical classification task \n",
        "\n",
        "\n",
        "\n",
        "Most of the required libraries including numpy, pandas, and matplotlib are already installed on colab environment; However, in this assignment you are going to use **Basemape** toolkit for matplotlib which is not installed. So please run the following cell and restart your runtime to finish the installation before going through the rest of the assignment:  "
      ]
    },
    {
      "cell_type": "code",
      "metadata": {
        "id": "gF0naQxmxPft",
        "cellView": "form"
      },
      "source": [
        "#@title Install Basemap! (run the cell and restart your runtime afterward)\n",
        "!apt-get install libgeos-3.5.0\n",
        "!apt-get install libgeos-dev\n",
        "!pip install https://github.com/matplotlib/basemap/archive/master.zip"
      ],
      "execution_count": null,
      "outputs": []
    },
    {
      "cell_type": "markdown",
      "metadata": {
        "id": "QilVSubqFXn4"
      },
      "source": [
        "# 1 . Covid-19 "
      ]
    },
    {
      "cell_type": "markdown",
      "metadata": {
        "id": "fRdOBoREDBI4"
      },
      "source": [
        "There is no doubt that everyone's life has been through many changes since Corona-Virus appeared. It is the most serious concern in the world right now, and many attempts have been made to help the world recover. Hence, machine learning has been widely used all over the globe, to either predict the future or describe the current situation of the disaster. \n",
        "\n",
        "The first step to every machine learning problem is to have an insight into the data. In this assignment, we are going to take a look at how Covid-19 has been spread over the world, by visualizing the number of cases over time.\n",
        "\n",
        "\n",
        "\n",
        "*   <font color='green'>First download the data by running the following cell:</font> \n",
        "\n",
        "\n"
      ]
    },
    {
      "cell_type": "code",
      "metadata": {
        "id": "kNsTtNbK8iWU",
        "cellView": "form"
      },
      "source": [
        "#@title Download the data!\n",
        "from IPython.display import clear_output\n",
        "\n",
        "!wget --no-check-certificate 'https://docs.google.com/uc?export=download&id=1GqeCnO2TUI4kDqsxVZYdMGL6J3mvsIrS' -O Confirmed.csv\n",
        "!wget --no-check-certificate 'https://docs.google.com/uc?export=download&id=1o0OonLudsargCRJ8q4NTUhlgDZdJJ-xd' -O Death.csv\n",
        "!wget --no-check-certificate 'https://docs.google.com/uc?export=download&id=1o9rqSNL6XrjayYHBYZxyY60NkOgRTSFz' -O Recovered.csv\n",
        "\n",
        "clear_output()\n",
        "print (\"Done!\")"
      ],
      "execution_count": null,
      "outputs": []
    },
    {
      "cell_type": "markdown",
      "metadata": {
        "id": "qEwwdQ5y1OFc"
      },
      "source": [
        "\n",
        "*   <font color='green'>Now read the dataset in Pandas DataFrame format using the following cell:</font> \n",
        "\n"
      ]
    },
    {
      "cell_type": "code",
      "metadata": {
        "id": "B-vn2mi-1NYm",
        "cellView": "form"
      },
      "source": [
        "#@title Read the datasets!\n",
        "import pandas as pd\n",
        "\n",
        "confirmed = pd.read_csv (\"/content/Confirmed.csv\")\n",
        "death = pd.read_csv (\"/content/Death.csv\")\n",
        "recovered = pd.read_csv (\"/content/Recovered.csv\")\n",
        "\n",
        "print (\"Done!\")"
      ],
      "execution_count": null,
      "outputs": []
    },
    {
      "cell_type": "markdown",
      "metadata": {
        "id": "L2MUoJ7i3l5-"
      },
      "source": [
        "\n",
        "*   <font color='green'>Now let's take a quick look at the \"confirmed\" dataset:</font> \n"
      ]
    },
    {
      "cell_type": "code",
      "metadata": {
        "id": "ZkNsG9U-1x0k",
        "cellView": "form"
      },
      "source": [
        "#@title Take a look!\n",
        "recovered.head(n=10)"
      ],
      "execution_count": null,
      "outputs": []
    },
    {
      "cell_type": "markdown",
      "metadata": {
        "id": "vuQpmKke45Fs"
      },
      "source": [
        "\n",
        "In this part, you are going to <font color=\"purple\">**create a simple scatter plot comparing the trend of confirmed, dead, and recovered cases in Iran**</font> (Country/Region = Iran) by following these steps:\n",
        "\n",
        "Your plot should be similar to this one (drawn for United States) and have the following properties:\n",
        "\n",
        "*   <font color='green'>a single 45 degree angled X-axis tick per 20 days</font> \n",
        "*   <font color='green'>a legend</font> \n",
        "*   <font color='green'>axis labels</font> \n",
        "*   <font color='green'>log-scaled Y-axis</font> \n",
        "\n",
        "\n",
        "\n",
        "<p align=\"center\"><img src=\"https://drive.google.com/uc?id=10yvruyXcJbYC302pOg1x0hI4ynhTgNQc\" width=\"600\"/></p>\n",
        "\n",
        "\n"
      ]
    },
    {
      "cell_type": "code",
      "metadata": {
        "id": "8kIPNkHE3Ny3"
      },
      "source": [
        "#@title Your part #1\n",
        "\n",
        "########################################\n",
        "#     Put your implementation here     #\n",
        "########################################\n",
        "\n"
      ],
      "execution_count": null,
      "outputs": []
    },
    {
      "cell_type": "markdown",
      "metadata": {
        "id": "dE2c5s54hT__"
      },
      "source": [
        "You can draw markers on the map with different sizes using the following function:"
      ]
    },
    {
      "cell_type": "code",
      "metadata": {
        "id": "nKTKCegbhTm8",
        "cellView": "form"
      },
      "source": [
        "#@title draw_on_map function\n",
        "\n",
        "import numpy as np\n",
        "import matplotlib.pyplot as plt\n",
        "from mpl_toolkits.basemap import Basemap\n",
        "\n",
        "\n",
        "\n",
        "def draw_on_map (color=\"r\", markersize=20, lon=0, lat=0, ax=None):\n",
        "    \"\"\"\n",
        "    Draws markers on the map on specified longitudes and latitudes  \n",
        "\n",
        "    Parameters\n",
        "    ----------\n",
        "    color : str/list of str\n",
        "        A single string indicating the color of all the markers or \n",
        "        a list of strings indicating the color of each marker. Possible\n",
        "        string values are \"r\" for red, \"g\" for green, \"y\" for yellow and\n",
        "        \"b\" for blue.\n",
        "\n",
        "    markersize : integer/list of integer\n",
        "        A single integer indicating the radius of all the markers or \n",
        "        a list of integers indicating the radius of each marker.\n",
        "        \n",
        "    lon : integer/list of integer\n",
        "        A single integer indicating the longitude of a single marker or \n",
        "        a list of integers indicating the longitude of each marker.\n",
        "\n",
        "\n",
        "    lat : integer/list of integer\n",
        "        A single integer indicating the latitude of a single marker or \n",
        "        a list of integers indicating the latitude of each marker.\n",
        "\n",
        "    ax : matplotlib.axes\n",
        "        The matplotlib axes on which the plot is drawn.\n",
        "\n",
        "    \"\"\"\n",
        "    ax.clear()\n",
        "    \n",
        "    m = Basemap(projection='mill',llcrnrlat=-90,urcrnrlat=90,\\\n",
        "                llcrnrlon=-180,urcrnrlon=180,resolution='c', ax=ax)\n",
        "\n",
        "    m.drawcoastlines(color='white', linewidth=.7)\n",
        "    m.drawcountries(color='white', linewidth=.7)\n",
        "    m.drawmapboundary(fill_color='black')\n",
        "    xpt,ypt = m(lon,lat)\n",
        "    ax.scatter (xpt,ypt, color=color, s=markersize, alpha=0.5)\n",
        "\n",
        "\n",
        "\n",
        "######## testing the function ########\n",
        "\n",
        "iran_lon = 53.6880\n",
        "iran_lat = 32.4279 \n",
        "\n",
        "us_lon = -95.7129\n",
        "us_lat = 37.0902\n",
        "\n",
        "fig, axis = plt.subplots (figsize=(20,10))\n",
        "\n",
        "draw_on_map(color=[\"r\", \"g\"],\n",
        "            markersize=[300, 300],\n",
        "            lon=[iran_lon, us_lon],\n",
        "            lat=[iran_lat, us_lat],\n",
        "            ax=axis)\n",
        "\n",
        "fig.show()"
      ],
      "execution_count": null,
      "outputs": []
    },
    {
      "cell_type": "markdown",
      "metadata": {
        "id": "mdVKKKeLVvV9"
      },
      "source": [
        "Now, using the above function, you must <font color=\"purple\">**implement the following `vis_covid` function which takes the time index `i` and a `dataset` as input and draws markers on the longitudes and latitudes specified in the dataset. The radius of each marker must correspond to the number of cases indicated for the i-th time entry of that specific longitude and latitude which the marker is drawn for; The larger the number of the cases, the bigger the radius of the marker.** </font>\n",
        "\n",
        "For example, if we pass the \"confirmed\" dataset, for `i = 0`, `100` and `200` (which specify dates `1.22.2020`, `5.1.2020` and `8.9.2020` respectively), we should get the following outputs:\n",
        "</br>\n",
        "\n",
        "\n",
        "\n",
        "<p align=\"center\"><img src=\"https://drive.google.com/uc?id=1gfu6LBhffwd0tx78VKy5T9IAwM_TbJwy\" width=\"1100\"/></p>\n",
        "\n"
      ]
    },
    {
      "cell_type": "code",
      "metadata": {
        "id": "S0nzmsjNS3wP"
      },
      "source": [
        "#@title Your part #2\n",
        "\n",
        "def vis_covid (i, color, dataset, ax):\n",
        "    \"\"\"\n",
        "    Draws markers on the map on specified longitudes and latitudes  \n",
        "\n",
        "    Parameters\n",
        "    ----------\n",
        "    i : integer\n",
        "        A single integer indicating the index of time entry in the dataset.\n",
        "\n",
        "    color : str\n",
        "        A single string indicating the color of all the markers.\n",
        "        \n",
        "    dataset : pandas.DataFrame\n",
        "        The given dataset to be visualised.\n",
        "\n",
        "    ax : matplotlib.axes\n",
        "        The matplotlib axes on which the plot is drawn.\n",
        "\n",
        "    \"\"\"\n",
        "\n",
        "    ########################################\n",
        "    #     Put your implementation here     #\n",
        "    ########################################\n",
        "\n",
        "\n",
        "\n",
        "######## testing the function ########\n",
        "\n",
        "fig, axis = plt.subplots (figsize=(30,15))\n",
        "vis_covid (200, \"r\", confirmed, axis)\n",
        "fig.show()\n"
      ],
      "execution_count": null,
      "outputs": []
    },
    {
      "cell_type": "markdown",
      "metadata": {
        "id": "tQrrysBchj_L"
      },
      "source": [
        "Now let's make an animation using the function you just implemented! (this may take a while, be patient)"
      ]
    },
    {
      "cell_type": "code",
      "metadata": {
        "id": "EaGlN1aOeUGt",
        "cellView": "form"
      },
      "source": [
        "#@title Create the animation\n",
        "from matplotlib.animation import FuncAnimation\n",
        "from matplotlib import rc\n",
        "from IPython.display import clear_output\n",
        "rc('animation', html='jshtml')\n",
        "\n",
        "fig, axis = plt.subplots (figsize=(15,8))\n",
        "frames = 60\n",
        "\n",
        "def animate(i):\n",
        "  clear_output()\n",
        "  print (\"frame \", i, \"/\", frames, \" rendered!\")\n",
        "  vis_covid (i*4, \"r\", confirmed, axis)\n",
        "  \n",
        "\n",
        "ani = FuncAnimation(fig, animate, frames=frames, interval=30);\n",
        "ani.save('covid_spread.gif', writer='pillow', fps=30, dpi=50);"
      ],
      "execution_count": null,
      "outputs": []
    },
    {
      "cell_type": "code",
      "metadata": {
        "id": "4Wi6vAfVlWEM",
        "cellView": "form"
      },
      "source": [
        "#@title Display the animation!\n",
        "from IPython.display import Image\n",
        "Image(open('/content/covid_spread.gif','rb').read())"
      ],
      "execution_count": null,
      "outputs": []
    },
    {
      "cell_type": "markdown",
      "metadata": {
        "id": "J45mVu3l8lVz"
      },
      "source": [
        "# 2 . Fa_MNIST "
      ]
    },
    {
      "cell_type": "markdown",
      "metadata": {
        "id": "yrmAmDvsToSs"
      },
      "source": [
        "Now let's have some fun with NumPy! In this assignment, we are going to implement the **K-means** clustering algorithm using NumPy and apply it to some image data.\n",
        "\n",
        "We are going to use [\"Hoda\": a Persian hand-written digits dataset](http://farsiocr.ir/%D9%85%D8%AC%D9%85%D9%88%D8%B9%D9%87-%D8%AF%D8%A7%D8%AF%D9%87/%D9%85%D8%AC%D9%85%D9%88%D8%B9%D9%87-%D8%A7%D8%B1%D9%82%D8%A7%D9%85-%D8%AF%D8%B3%D8%AA%D9%86%D9%88%DB%8C%D8%B3-%D9%87%D8%AF%DB%8C/) for this assignment. Let's download the dataset by running the following cell:"
      ]
    },
    {
      "cell_type": "code",
      "metadata": {
        "id": "lFLDmYrg8lV7",
        "cellView": "form"
      },
      "source": [
        "#@title Download the data!\n",
        "from IPython.display import clear_output\n",
        "\n",
        "!wget --no-check-certificate 'https://docs.google.com/uc?export=download&id=1sd5hIgupwPipkokqIXhD5qcKgHxl7C8B' -O Data.np\n",
        "!wget --no-check-certificate 'https://docs.google.com/uc?export=download&id=1SWdZMXWkHAgTuCcuz3Ydm81hgWwi-bYe' -O Label.np\n",
        "\n",
        "clear_output()\n",
        "print (\"Done!\")"
      ],
      "execution_count": null,
      "outputs": []
    },
    {
      "cell_type": "code",
      "metadata": {
        "id": "UhrNT8mhOrG4",
        "cellView": "form"
      },
      "source": [
        "#@title Read the datasets!\n",
        "import numpy as np\n",
        "\n",
        "data = np.load(\"/content/Data.np\", allow_pickle=True)\n",
        "labels = np.load(\"/content/Label.np\", allow_pickle=True)\n",
        "\n",
        "print (\"The dataset is a\",\n",
        "       type(data),\n",
        "       \"with\",\n",
        "       len(data),\n",
        "       type(data[0]),\n",
        "       \"elements!\")\n",
        "print (\"data.shape is:\", data.shape)"
      ],
      "execution_count": null,
      "outputs": []
    },
    {
      "cell_type": "markdown",
      "metadata": {
        "id": "MhbetrsleNi1"
      },
      "source": [
        "As you can see, our dataset is an array of arrays. However, the dimension of the array is one, which means the elements are stored as objects since they have different shapes. We can observe this fact if we visualize a few instances of our data:"
      ]
    },
    {
      "cell_type": "code",
      "metadata": {
        "id": "jVqdjxDzRNKX",
        "cellView": "form"
      },
      "source": [
        "#@title Visualize!\n",
        "\n",
        "import matplotlib.pyplot as plt\n",
        "\n",
        "fig, ax = plt.subplots(2, 5, figsize=(10,5))\n",
        "\n",
        "sampled_indices = np.random.randint(data.shape[0], size=10)\n",
        "sampled = data[sampled_indices]\n",
        "sampled_labels = labels[sampled_indices]\n",
        "\n",
        "for row in range (2):\n",
        "  for col in range (5):\n",
        "    sample = sampled[row*5 + col]\n",
        "    label = sampled_labels[row*5 + col]\n",
        "    ax[row][col].imshow(sample, cmap='gray')\n",
        "    ax[row][col].axis('off')\n",
        "    ax[row][col].set_title(\"Label : \"+ str(label))\n",
        "fig.show()"
      ],
      "execution_count": null,
      "outputs": []
    },
    {
      "cell_type": "markdown",
      "metadata": {
        "id": "FJRDVUS8fELH"
      },
      "source": [
        "In most of the machine learning algorithm pipelines, we usually want our image dataset to have a consistent sample shape. Therefore, the first step is normally to either pad or crop the images to make them square-shaped, and then rescale the images to make them have the same size.\n",
        "Here, you are going to <font color=\"purple\">**implement a function which given the initial dataset and a final output image size S**</font>:\n",
        " \n",
        "\n",
        "1.   <font color='green'>For each image in the dataset, if its width is greater than its heigh, pad the heigh equally from both sides with 0 until it's equal with the width, and vice-versa.</font> \n",
        "2.   <font color='green'>Scale each image to have shape (S, S). You can use [OpenCV resize](https://www.tutorialkart.com/opencv/python/opencv-python-resize-image/) method for this purpose</font>  \n"
      ]
    },
    {
      "cell_type": "code",
      "metadata": {
        "id": "OLZuV7GWgcMp"
      },
      "source": [
        "#@title Your part #1\n",
        "import numpy as np\n",
        "import cv2\n",
        "\n",
        "\n",
        "def reshape_images(dataset, size):\n",
        "  \"\"\"\n",
        "  Pads and rescales images in the given dataset.  \n",
        "\n",
        "  Parameters\n",
        "  ----------\n",
        "  dataset : numpy.array/list of numpy.arrays\n",
        "      The given dataset on which we are doing the padding and scaling on.\n",
        "\n",
        "  size : integer\n",
        "      The final shape of each image will be (size, size) \n",
        "\n",
        "\n",
        "  Returns\n",
        "  -------\n",
        "  reshaped_dataset : numpy.ndarray\n",
        "  \n",
        "  Final reshaped dataset as a numpy ndarray with shape (len(dataset), size, size)\n",
        "\n",
        "  \"\"\"\n",
        "\n",
        "  ########################################\n",
        "  #     Put your implementation here     #\n",
        "  ########################################\n",
        "\n",
        "\n",
        "######## using the function ########\n",
        "\n",
        "scaled_data = reshape_images(data, size=28)\n",
        "scaled_data.shape\n",
        "\n",
        "assert scaled_data.shape == (60000, 28, 28), \"Your output shape is wrong!\"\n"
      ],
      "execution_count": null,
      "outputs": []
    },
    {
      "cell_type": "markdown",
      "metadata": {
        "id": "GB2EdXZUQ89_"
      },
      "source": [
        "Now, each sample is a 28x28 pixel image. \n",
        "Let's visualize few samples again to see the result of scaling:"
      ]
    },
    {
      "cell_type": "code",
      "metadata": {
        "cellView": "form",
        "id": "zMFWQ2N-0S9-"
      },
      "source": [
        "#@title Visualize!\n",
        "\n",
        "import matplotlib.pyplot as plt\n",
        "\n",
        "fig, ax = plt.subplots(2, 5, figsize=(10,5))\n",
        "\n",
        "sampled_indices = np.random.randint(scaled_data.shape[0], size=10)\n",
        "sampled = scaled_data[sampled_indices]\n",
        "sampled_labels = labels[sampled_indices]\n",
        "\n",
        "for row in range (2):\n",
        "  for col in range (5):\n",
        "    sample = sampled[row*5 + col]\n",
        "    label = sampled_labels[row*5 + col]\n",
        "    ax[row][col].imshow(sample, cmap='gray')\n",
        "    ax[row][col].axis('off')\n",
        "    ax[row][col].set_title(\"Label : \"+ str(label))\n",
        "fig.show()"
      ],
      "execution_count": null,
      "outputs": []
    },
    {
      "cell_type": "markdown",
      "metadata": {
        "id": "Mc-7PR0b0hg7"
      },
      "source": [
        "Nice and easy! \n",
        "\n",
        "The most simple representation of each sample would be if we consider the value of each pixel as a feature, hence representing each image with a 784-d vector (28x28 = 784)."
      ]
    },
    {
      "cell_type": "code",
      "metadata": {
        "id": "G09FSqAr3W0Z"
      },
      "source": [
        "#@title Pixle values as image features\n",
        "data_flatten = scaled_data.reshape((scaled_data.shape[0], -1))\n",
        "print (\"New dataset shape is \", data_flatten.shape)"
      ],
      "execution_count": null,
      "outputs": []
    },
    {
      "cell_type": "markdown",
      "metadata": {
        "id": "f1xXF8i91zmY"
      },
      "source": [
        "It is always nice if possible to observe your data points visually. However, in this case, our data points are in a 784-dimensional space, and can not be plotted as they are. Using **PCA (principal component analysis)**, we can find the n-most important directions of the space on which our data is scattered (n directions in which the most variance of the data is explained). So, using this technique we can reduce the dimensions to 2 and have a visualization of our data:"
      ]
    },
    {
      "cell_type": "code",
      "metadata": {
        "id": "FAlThT1w8QYJ",
        "cellView": "form"
      },
      "source": [
        "1#@title PCA visualization\n",
        "import numpy as np\n",
        "from sklearn.decomposition import PCA\n",
        "import matplotlib.pyplot as plt\n",
        "from matplotlib.colors import ListedColormap\n",
        "\n",
        "pca = PCA(n_components=2).fit(data_flatten)\n",
        "data_transformed = pca.transform(data_flatten)\n",
        "\n",
        "\n",
        "fig, ax = plt.subplots(figsize=(10,10))\n",
        "scatter = ax.scatter (data_transformed[:,0], data_transformed[:,1], marker=\".\", c=labels, cmap=\"Paired\")\n",
        "classes = list(range(10))\n",
        "ax.legend(handles=scatter.legend_elements()[0], labels=classes)\n",
        "ax.axis('off')\n",
        "fig.show()"
      ],
      "execution_count": null,
      "outputs": []
    },
    {
      "cell_type": "markdown",
      "metadata": {
        "id": "RDtIXsg64Nvd"
      },
      "source": [
        "As you can see, some of the numbers are overlapping more than the others (1, 2, and 3); On the other hand, some of them are clearly separated (7 and 8). This is caused by the way we represented our images. All a neural network does is to find a better representation for each image (by finding more meaningful and distinct features than raw pixel values) to make them more separated in the representation space. \n",
        "\n",
        "Anyway, this is not what we are here for, not yet! We want to <font color=\"purple\">**implement K-means**</font>, a well-known clustering algorithm! \n",
        "\n",
        "Clustering is one of the most common exploratory data analysis techniques used to get an intuition about the structure of the data. It can be defined as the task of identifying subgroups in the data such that data points in the same subgroup (cluster) are more similar (based on a pre-defined similarity measure, often euclidean distance) than data points in different clusters. \n",
        "\n",
        "to implement K-means, follow these steps:\n",
        "\n",
        "\n",
        "*   <font color='green'>Pick K random points as cluster centers called centroids.</font>\n",
        "*   <font color='green'>Assign each data point​ to nearest cluster by calculating its euclidean-distance to each centroid.</font>\n",
        "*   <font color='green'>Update the centroid to be the average of the assigned points.</font>\n",
        "*   <font color='green'>Repeat Step 2 and 3 for some itterations.</font>\n",
        "\n",
        "Look at this animation for a better understanding:\n",
        "\n",
        "<p align=\"center\"><img src=\"https://drive.google.com/uc?id=1FSWGOksL90HWIb6Zr5SY2strXml9kvHG\" width=\"400\"/></p>\n",
        "\n",
        "To encourage using NumPy methods, <font color='red'> you are allowed to only use 3 for loops </font> (one of which is the outermost iterations loop! So, practically 2 loops are allowed).\n",
        "\n",
        "\n"
      ]
    },
    {
      "cell_type": "code",
      "metadata": {
        "id": "xMbpSjiEBLA3",
        "cellView": "form"
      },
      "source": [
        "#@title Your part #2\n",
        "from tqdm.notebook import tqdm\n",
        "\n",
        "iterations = 10\n",
        "k = 40\n",
        "dataset = data_flatten\n",
        "centroids = np.random.randint(100, size=(k, 784))\n",
        "\n",
        "for iteration in tqdm(range(iterations)):\n",
        "\n",
        "  ########################################\n",
        "  #     Put your implementation here     #\n",
        "  ########################################\n"
      ],
      "execution_count": null,
      "outputs": []
    },
    {
      "cell_type": "markdown",
      "metadata": {
        "id": "rv4yPukTayim"
      },
      "source": [
        "Now let's do something fun to see if your K-means implementation is correct. Each cluster center is a vector of 784 dimensions. However, we can reshape it back to a 28 by 28 image and visualize it. So let's do this and see if our cluster centers look anything like our data points:"
      ]
    },
    {
      "cell_type": "code",
      "metadata": {
        "id": "wGIK3itvMlSO",
        "cellView": "form"
      },
      "source": [
        "#@title Visualize centroids\n",
        "import matplotlib.pyplot as plt\n",
        "\n",
        "fig, ax = plt.subplots(8, 5, figsize=(10,5))\n",
        "\n",
        "for row in range (8):\n",
        "  for col in range (5):\n",
        "    ax[row][col].imshow(centroids[row*5+col].reshape(28,28), cmap='gray')\n",
        "    ax[row][col].axis('off')\n",
        "fig.show()"
      ],
      "execution_count": null,
      "outputs": []
    },
    {
      "cell_type": "markdown",
      "metadata": {
        "id": "DVvWWoLK8lfO"
      },
      "source": [
        "# 3 . Sentiment Analysis"
      ]
    },
    {
      "cell_type": "markdown",
      "metadata": {
        "id": "tBTRPKjgCd7_"
      },
      "source": [
        "Now that you have worked with two type of data (tabular, image), let's step into a new genre, **Text**! From another point of view, you already encountered *clustering* as a major class of unsupervised learning. Now we will face a **Classification** problem, from the category of supervised learning problems. (Some other types of problems/tasks are listed in [section 5](https://www.deeplearningbook.org/contents/ml.html).1.1 of the deeplearningbook.)\n",
        "\n",
        "Here in the last assignment, the main task is to classify [user comments on Digikala products](https://www.digikala.com/opendata/) into three classes:\n",
        "<font color=\"green\">\n",
        "* Positive\n",
        "</font>\n",
        "* Neutral\n",
        "<font color=\"red\">\n",
        "* Negative\n",
        "</font>\n",
        "\n",
        "We will follow a step by step procedure together:\n",
        "\n",
        "\n",
        "1. <font color=\"green\"> Load, clean our (or more precisely *Digikala's*) datset with **pandas**\n",
        "</font>\n",
        "<font color=\"green\">\n",
        "2. Transform data, define and fit our model on the data using **scikit-learn**\n",
        "</font>\n",
        "<font color=\"green\">\n",
        "3. Evaluate our model based on quantitative measures and manual (qualitative) inspection\n",
        "</font>\n"
      ]
    },
    {
      "cell_type": "markdown",
      "metadata": {
        "id": "_hjTrDKVFMIT"
      },
      "source": [
        "Let's start by downloading the data..."
      ]
    },
    {
      "cell_type": "code",
      "metadata": {
        "id": "lD_USkwLM4n1",
        "cellView": "form"
      },
      "source": [
        "#@title Download the data!\n",
        "from IPython.display import clear_output\n",
        "\n",
        "!wget --no-check-certificate 'https://docs.google.com/uc?export=download&id=1lb7gyXkI4Cs4Pp038_iKrcnVg9yeQcou' -O digikala_comments.xlsx\n",
        "\n",
        "clear_output()\n",
        "print(\"Done\")"
      ],
      "execution_count": null,
      "outputs": []
    },
    {
      "cell_type": "code",
      "metadata": {
        "id": "rAsll2WmzCn4",
        "cellView": "form"
      },
      "source": [
        "# @title Read xlsx data\n",
        "import pandas as pd\n",
        "df = pd.read_excel('/content/digikala_comments.xlsx')\n",
        "df.head(3)"
      ],
      "execution_count": null,
      "outputs": []
    },
    {
      "cell_type": "markdown",
      "metadata": {
        "id": "JfKA4lFZGeol"
      },
      "source": [
        "There are many columns in the table, but we need only two of them. The easier one is the `comment` column as the textual input to our problem. what about the other (the output / answer / label / target...)?\n",
        "\n",
        "As the data does not contain the score submitted by users, we use another column that shows polarity of the user opinion about the product. It's the `recommend` column. When the user recommends others to buy the product, he/she surely thinks positive about that product and vice-versa. right? <font color=\"purple\">**Have any problem with this? Explain it.**</font>\n"
      ]
    },
    {
      "cell_type": "markdown",
      "metadata": {
        "id": "DeA4by5Eo2Xg"
      },
      "source": [
        "\n",
        "<font color=\"purple\">  --- **Put your answer here!** ---</font>\n",
        "</br>"
      ]
    },
    {
      "cell_type": "markdown",
      "metadata": {
        "id": "6FyEH4cdpWhS"
      },
      "source": [
        "\n",
        "Maybe you're right, but we have no way out of this! :)\n",
        "If we dont take it hard about the label, we are doing [Sentiment Analysis](https://en.wikipedia.org/wiki/Sentiment_analysis) on the user comments..."
      ]
    },
    {
      "cell_type": "markdown",
      "metadata": {
        "id": "Xb7c2PSeKyse"
      },
      "source": [
        "## Clean dataset"
      ]
    },
    {
      "cell_type": "markdown",
      "metadata": {
        "id": "8q5BFrJEK5Zs"
      },
      "source": [
        "Our label column is one of these values for each comment:"
      ]
    },
    {
      "cell_type": "code",
      "metadata": {
        "id": "r8kJLJQILgPu"
      },
      "source": [
        "df.recommend.unique()"
      ],
      "execution_count": null,
      "outputs": []
    },
    {
      "cell_type": "markdown",
      "metadata": {
        "id": "9Zjdt2IBLu2l"
      },
      "source": [
        "<font color=\"purple\">**Add a new column named `label` to the DataFrame based one the `recommend` column. assign `1`, `0`, `-1` values to `recommended`, `no_idea`, `not_recommended`, respectively.**</font>\n"
      ]
    },
    {
      "cell_type": "code",
      "metadata": {
        "id": "5cmY4U2PzCoR"
      },
      "source": [
        "#@title Your part #1\n",
        "\n",
        "########################################\n",
        "#     Put your implementation here     #\n",
        "########################################\n",
        "\n",
        "df.head(3)"
      ],
      "execution_count": null,
      "outputs": []
    },
    {
      "cell_type": "markdown",
      "metadata": {
        "id": "ZyiWtFBYOHbN"
      },
      "source": [
        "<font color=\"purple\">**Drop rows with missing values of `recommend` (any value other than `recommended`, `no_idea`, `not_recommended`).**</font>"
      ]
    },
    {
      "cell_type": "code",
      "metadata": {
        "id": "kCOKzhrXLSSX",
        "outputId": "6d32e622-f28d-4749-814f-a088451f3922",
        "colab": {
          "base_uri": "https://localhost:8080/"
        }
      },
      "source": [
        "#@title Your part #2\n",
        "\n",
        "########################################\n",
        "#     Put your implementation here     #\n",
        "########################################\n",
        "\n",
        "len(df)"
      ],
      "execution_count": null,
      "outputs": [
        {
          "output_type": "stream",
          "text": [
            "/usr/local/lib/python3.6/dist-packages/pandas/core/strings.py:2001: UserWarning: This pattern has match groups. To actually get the groups, use str.extract.\n",
            "  return func(self, *args, **kwargs)\n"
          ],
          "name": "stderr"
        },
        {
          "output_type": "execute_result",
          "data": {
            "text/plain": [
              "63618"
            ]
          },
          "metadata": {
            "tags": []
          },
          "execution_count": 92
        }
      ]
    },
    {
      "cell_type": "markdown",
      "metadata": {
        "id": "rKPGVAQwPaXc"
      },
      "source": [
        "<font color=\"purple\">**Drop all useless columns, including the old `recommend` column.**</font> Dont doubt if it seems too easy! :)"
      ]
    },
    {
      "cell_type": "code",
      "metadata": {
        "id": "JApHI1_zPkPR"
      },
      "source": [
        "#@title Your part #3\n",
        "\n",
        "########################################\n",
        "#     Put your implementation here     #\n",
        "########################################\n",
        "\n",
        "df.head(3)"
      ],
      "execution_count": null,
      "outputs": []
    },
    {
      "cell_type": "markdown",
      "metadata": {
        "id": "awSS_AK1ToqD"
      },
      "source": [
        "Now let's check the `comment` column. How about its character lenght?\n",
        "\n",
        "**First Change `df` in the below cell to your current version of DataFrame!**"
      ]
    },
    {
      "cell_type": "code",
      "metadata": {
        "id": "rn_E2EsFR3Tl",
        "cellView": "form"
      },
      "source": [
        "# @title Frequency of comments by char length\n",
        "hist = df.comment.str.len().plot.hist(bins=500, figsize=(20, 4))"
      ],
      "execution_count": null,
      "outputs": []
    },
    {
      "cell_type": "markdown",
      "metadata": {
        "id": "MRskG6e_QmdD"
      },
      "source": [
        "As you see in the histogram, some comments are too short and some others are toooo long.\n",
        "\n",
        "<font color=\"purple\">**Choose values which you think are the best for min and max character length of comments and drop those short/long comments.**</font>"
      ]
    },
    {
      "cell_type": "code",
      "metadata": {
        "id": "9XF-DOT2Qft2",
        "cellView": "form"
      },
      "source": [
        "MIN_CHAR_LEN =  #@param {type:\"integer\"}\n",
        "MAX_CHAR_LEN =  #@param {type:\"integer\"}\n",
        "\n",
        "#############\n",
        "clean_df = df[(df.comment.str.len() > MIN_CHAR_LEN) & (df.comment.str.len() < MAX_CHAR_LEN)]\n",
        "#############\n",
        "\n",
        "hist = clean_df.comment.str.len().plot.hist(bins=(MAX_CHAR_LEN-MIN_CHAR_LEN)//5, figsize=(20, 4))"
      ],
      "execution_count": null,
      "outputs": []
    },
    {
      "cell_type": "markdown",
      "metadata": {
        "id": "sV-HM2T4VND2"
      },
      "source": [
        "It's time to check how many examples are remaining for each label..."
      ]
    },
    {
      "cell_type": "code",
      "metadata": {
        "id": "St3Of0TvVLo4"
      },
      "source": [
        "print('label\\tcount')\n",
        "clean_df.label.value_counts()"
      ],
      "execution_count": null,
      "outputs": []
    },
    {
      "cell_type": "markdown",
      "metadata": {
        "id": "xGoNsxJaWG_n"
      },
      "source": [
        "Seems more than half of the comments are labeled positive! This means we have an **unbalanced** dataset and this is bad news!\n",
        "\n",
        "We don't know how to deal with an unbalanced data (Is it realy a special case?), so <font color=\"purple\">**make the dataset balanced by taking maximum possible equal number of examples for each label.**</font>"
      ]
    },
    {
      "cell_type": "code",
      "metadata": {
        "id": "UPURur1MXfkX"
      },
      "source": [
        "#@title Your part #4\n",
        "\n",
        "########################################\n",
        "#     Put your implementation here     #\n",
        "########################################\n",
        "\n",
        "print('label\\tcount')\n",
        "balanced_df.label.value_counts()"
      ],
      "execution_count": null,
      "outputs": []
    },
    {
      "cell_type": "markdown",
      "metadata": {
        "id": "Lb5AvcZhQ-4_"
      },
      "source": [
        "...and say goodbye to pandas, by extracting values of comments, labels from the final DataFrame (next cell)."
      ]
    },
    {
      "cell_type": "code",
      "metadata": {
        "id": "fCjeCCi8zCpm"
      },
      "source": [
        "texts = balanced_df.comment.astype(str).values\n",
        "labels = balanced_df.label.values\n",
        "\n",
        "list(zip(texts[:3], labels[:3]))"
      ],
      "execution_count": null,
      "outputs": []
    },
    {
      "cell_type": "markdown",
      "metadata": {
        "id": "sFP76-wvshHj"
      },
      "source": [
        "It is a common practice to split datasets into separate train and test sets. in order to evaluate the generalization power of our model, the model shouldn't have seen any examples from test set.\n",
        "\n",
        "We take 20% of the examples as test set and will not use them until evaluation part..."
      ]
    },
    {
      "cell_type": "code",
      "metadata": {
        "id": "hCIqMiuzzCpu",
        "cellView": "form"
      },
      "source": [
        "# @title Split dataset \n",
        "\n",
        "from sklearn.model_selection import train_test_split\n",
        "\n",
        "texts_train, texts_test, labels_train, labels_test = train_test_split(\n",
        "    texts, labels, test_size=0.20,\n",
        "    random_state=10, \n",
        "    stratify=labels      # what does it do?\n",
        "  )     \n",
        "print(len(texts))\n",
        "len(texts_train), len(texts_test)"
      ],
      "execution_count": null,
      "outputs": []
    },
    {
      "cell_type": "markdown",
      "metadata": {
        "id": "M5MwWstRzCp3"
      },
      "source": [
        "## Vectorize Text"
      ]
    },
    {
      "cell_type": "markdown",
      "metadata": {
        "id": "R0nVEXNUc3C4"
      },
      "source": [
        "We cannot give text as a string input to a machine learning model, because they can understand numerical vectors. How do you make a numerical vector out of a (problably long) string?!\n",
        "<font color=\"green\">\n",
        "* It already has a numerical (binary) representation in system memory? Riiight, But... \n",
        "* Split text it into smaller parts? good idea! into what? word or character or...? and then?</font>"
      ]
    },
    {
      "cell_type": "markdown",
      "metadata": {
        "id": "y7GUtVZHc02t"
      },
      "source": [
        "First we wil split our text into words, as they are the smallest meaningful units of text. This is called **tokenizing**. As the comments are in Persian, it is better to use a Persian tool to process our comment. We (install and) use [hazm](https://github.com/sobhe/hazm/) just to tokenize comments, but it has much more to do... Another library for processing Persian is [parsivar](https://github.com/ICTRC/Parsivar). \n",
        "\n",
        "Check those libraries if you are realy interested in NLP..."
      ]
    },
    {
      "cell_type": "code",
      "metadata": {
        "cellView": "form",
        "id": "zMflZwF7zCp-"
      },
      "source": [
        "# @title install hazm\n",
        "from IPython.display import clear_output\n",
        "!pip install hazm\n",
        "clear_output()"
      ],
      "execution_count": null,
      "outputs": []
    },
    {
      "cell_type": "code",
      "metadata": {
        "id": "i-dUMPZolaQG",
        "cellView": "form"
      },
      "source": [
        "# @title Tokenize a comment\n",
        "from hazm import word_tokenize\n",
        "\n",
        "word_tokenize(texts_train[10])"
      ],
      "execution_count": null,
      "outputs": []
    },
    {
      "cell_type": "markdown",
      "metadata": {
        "id": "IwVQVI_8j2ld"
      },
      "source": [
        "After tokenization, we use one of the simplest methods of vectorizing/representing text, [Bag-of-Words](https://en.wikipedia.org/wiki/Bag-of-words_model).\n",
        "\n",
        "You can learn about **B**ag-**o**f-**W**ords [here](https://maelfabien.github.io/machinelearning/NLP_2). In a single sentence, it turns a text into a n-dimensional integer vector, where each item indicates number of ocurrances of a specific word in the text.\n",
        "\n",
        "<font color='purple'>**Is Bag-of-Words a good representation of text? Does it miss some useful information? Is it possible that BoW makes a positive comment look like negative, vice-versa? Explain by giving examples.**</font> "
      ]
    },
    {
      "cell_type": "markdown",
      "metadata": {
        "id": "cMB6tFZprtis"
      },
      "source": [
        "\n",
        "<font color=\"purple\">  --- **Put your answer here!** ---</font>\n",
        "</br>"
      ]
    },
    {
      "cell_type": "markdown",
      "metadata": {
        "id": "WKlJwqKUU09W"
      },
      "source": [
        "If you know how BoW works, it's time to get our hands dirty with scikit-learn. BoW is implemented as `CountVectorizer` there..."
      ]
    },
    {
      "cell_type": "code",
      "metadata": {
        "cellView": "form",
        "id": "fw1cJiXBzCqR"
      },
      "source": [
        "# @title Count Vectorizer (BoW)\n",
        "from sklearn.feature_extraction.text import CountVectorizer\n",
        "\n",
        "MIN_DF =  # @param {\"type\": \"integer\"}\n",
        "MAX_DF =  # @param {\"type\": \"number\"}\n",
        "MAX_FEATURES =  # @param {\"type\": \"integer\"}\n",
        "\n",
        "vectorizer = CountVectorizer(\n",
        "    tokenizer=word_tokenize,\n",
        "    min_df=MIN_DF,\n",
        "    max_df=MAX_DF,\n",
        "    max_features=MAX_FEATURES\n",
        ")\n",
        "\n",
        "?vectorizer   # shows documentation for the vectorizer object"
      ],
      "execution_count": null,
      "outputs": []
    },
    {
      "cell_type": "code",
      "metadata": {
        "id": "x9R0an72yL0j",
        "outputId": "0d692d5a-67be-48ed-a7f7-737f7c7c3f19",
        "colab": {
          "base_uri": "https://localhost:8080/"
        }
      },
      "source": [
        "X_train = vectorizer.fit_transform(texts_train)     # returns a sparse matrix (not dense)\n",
        "X_test = vectorizer.transform(texts_test)\n",
        "\n",
        "y_train = labels_train\n",
        "y_test = labels_test\n",
        "\n",
        "X_train.todense().shape, X_test.todense().shape     # convert sparse to dense matrix (normal 2d array)"
      ],
      "execution_count": null,
      "outputs": [
        {
          "output_type": "execute_result",
          "data": {
            "text/plain": [
              "((18789, 6778), (4698, 6778))"
            ]
          },
          "metadata": {
            "tags": []
          },
          "execution_count": 125
        }
      ]
    },
    {
      "cell_type": "markdown",
      "metadata": {
        "id": "1OFGSV3rqcPX"
      },
      "source": [
        "<font color='purple'>**Read scikit-learn docs on `CountVectorizer` and explain what is the meaning and benefit of setting these parameters:**\n",
        "* **min_df**\n",
        "* **max_df**\n",
        "</font>"
      ]
    },
    {
      "cell_type": "markdown",
      "metadata": {
        "id": "TV24E66csHVG"
      },
      "source": [
        "\n",
        "<font color=\"purple\">  --- **Put your answer here!** ---</font>\n",
        "</br>"
      ]
    },
    {
      "cell_type": "markdown",
      "metadata": {
        "id": "Evdc7-Qjz9wJ"
      },
      "source": [
        "## Fit, Evaluate Classifier"
      ]
    },
    {
      "cell_type": "markdown",
      "metadata": {
        "id": "z3sfIXjPitkV"
      },
      "source": [
        "We chose **K-Nearest-Neighbor** model to fit on our data. As the name clearly suggests, KNN predicts the class of a new data point, by voting from k nearest neighbors of it (from training set). Neighbours are computed using a distance measure in our feature space.\n",
        "\n",
        "Here you can see how KNN works in a 2D input space:\n",
        "\n",
        "<img src=\"https://machinelearningknowledge.ai/wp-content/uploads/2018/08/KNN-Classification.gif\" width=\"640px\">\n",
        "\n",
        "This model and some other similar models are explained in [scikit-learn tutorial](https://scikit-learn.org/stable/modules/neighbors.html#nearest-neighbors-classification)."
      ]
    },
    {
      "cell_type": "markdown",
      "metadata": {
        "id": "lpqLm79mcNSs"
      },
      "source": [
        "Let's fit and evalute the model with a few lines of code..."
      ]
    },
    {
      "cell_type": "code",
      "metadata": {
        "id": "ttCejpQD0V5d",
        "cellView": "form"
      },
      "source": [
        "# @title Define, Fit KNN model\n",
        "%%time\n",
        "from sklearn.neighbors import KNeighborsClassifier\n",
        "\n",
        "K =  # @param {\"type\": \"integer\"}\n",
        "\n",
        "classifier = KNeighborsClassifier(n_neighbors=K)\n",
        "classifier.fit(X_train, y_train)"
      ],
      "execution_count": null,
      "outputs": []
    },
    {
      "cell_type": "code",
      "metadata": {
        "id": "Tiz5kLow4H5I"
      },
      "source": [
        "%%time\n",
        "from sklearn.metrics import accuracy_score, precision_score, recall_score, f1_score\n",
        "\n",
        "pred_test = classifier.predict(X_test)\n",
        "print(accuracy_score(y_test, pred_test))"
      ],
      "execution_count": null,
      "outputs": []
    },
    {
      "cell_type": "markdown",
      "metadata": {
        "id": "h5kL9XBfcsxu"
      },
      "source": [
        "As you can see, fitting KNN on data takes no time. But using it for prediction (on smaller count of data) takes considerable time!\n",
        "\n",
        "This is because KNN is a **lazy model** or a [lazy learning algorithm](https://en.wikipedia.org/wiki/Lazy_learning)! All of its computations are happening at inference/prediction time. Fitting the model just stores training data to use it later!"
      ]
    },
    {
      "cell_type": "markdown",
      "metadata": {
        "id": "xur6Kb_XeYmM"
      },
      "source": [
        "By changing parameter `K` in the cells above, you will see it has a significant effect on accuracy of the model. The question is *which k value, leads to the highest accuracy?* A deeper question would be *which evaluation metric (other than accuracy) best describes the quality of our model?* \n",
        "\n",
        "First, add three new items to your set of evaluation metrics:\n",
        "* [Precision](https://en.wikipedia.org/wiki/Precision_and_recall)\n",
        "* [Recall](https://en.wikipedia.org/wiki/Precision_and_recall)\n",
        "* [F1-Score](https://en.wikipedia.org/wiki/F-score)\n",
        "\n",
        "If you're not familiar with each one, read enough to understand it deeply. You will see them everywhere in machine learning literature. \n",
        "\n",
        "Now we are going to search for best value of k to maximize an evaluation metric. There are standard ways to do parameter search in scikit-learn, but let's do it our way, visualy. We want to plot the result of each metric for different values of k, to gain insight about how k affects model quality.\n",
        "\n",
        "<font color=\"purple\">**Implement the `plot_metrics_by_k` function which plots the score of the model on test set based on each metric, given a list of k values `ks`.**\n",
        "* **Plot each metric separately (4 plots in total).**\n",
        "* **Use logarithmic scale on horizontal axis (k).**\n",
        "* **Precision, Recall, F1-Score are calculated separately for each label (3 lines in each plot).**</font>\n",
        "\n",
        "Scikit-learn has implemented functions for each metric. You'll need to prepare labels and model predictions for them and do some dirty work with matplotlib! :)"
      ]
    },
    {
      "cell_type": "code",
      "metadata": {
        "id": "1UxmhaKa2FUj"
      },
      "source": [
        "#@title Your part #5\n",
        "\n",
        "import matplotlib.pyplot as plt\n",
        "from sklearn.metrics import accuracy_score, precision_score, recall_score, f1_score\n",
        "\n",
        "def plot_metrics_by_k(ks, X_train, y_train, X_test, y_test):\n",
        "  ########################################\n",
        "  #     Put your implementation here     #\n",
        "  ########################################\n",
        "\n",
        "\n",
        "ks = [2**i+1 for i in range(1, int(math.log(X_train.shape[0], 2))+1)] + [X_train.shape[0]]\n",
        "plot_metrics_by_k(ks, X_train, y_train, X_test, y_test)"
      ],
      "execution_count": null,
      "outputs": []
    },
    {
      "cell_type": "markdown",
      "metadata": {
        "id": "vG9elPUCGnAd"
      },
      "source": [
        "<font color=\"purple\">**According to the plots:**\n",
        "1. **Which value of K leads to highest model quality? (Based on which metric?)**</font>\n",
        "2. <font color=\"purple\">**What happens to the model when we increase k too much (based on each metric)? Why?**</font>"
      ]
    },
    {
      "cell_type": "markdown",
      "metadata": {
        "id": "kbaGZs2ttSpf"
      },
      "source": [
        "\n",
        "<font color=\"purple\">  --- **Put your answer here!** ---</font>\n",
        "</br>"
      ]
    },
    {
      "cell_type": "markdown",
      "metadata": {
        "id": "YUvBzXJUj1cR"
      },
      "source": [
        "If you are not satisfied with the quality of your classifier (or even if you are!), you can improve it in many ways. One of them is using a better vectorizer.\n",
        "\n",
        "There is an extension to BoW, called **Term Frequency-Inverse Document Frequency (TF-IDF)**. Read about it [here](https://maelfabien.github.io/machinelearning/NLP_2). And You can use it with the same parameters from `CountVectorizer`."
      ]
    },
    {
      "cell_type": "code",
      "metadata": {
        "id": "o4B_8chTp_pS",
        "cellView": "form"
      },
      "source": [
        "# @title TF-IDF Vectorizer\n",
        "from sklearn.feature_extraction.text import TfidfVectorizer\n",
        "\n",
        "MIN_DF =  # @param {\"type\": \"integer\"}\n",
        "MAX_DF =   # @param {\"type\": \"number\"}\n",
        "MAX_FEATURES =  # @param {\"type\": \"integer\"}\n",
        "\n",
        "vectorizer = TfidfVectorizer(\n",
        "    tokenizer=word_tokenize,\n",
        "    min_df=MIN_DF,\n",
        "    max_df=MAX_DF,\n",
        "    max_features=MAX_FEATURES\n",
        ")"
      ],
      "execution_count": null,
      "outputs": []
    },
    {
      "cell_type": "code",
      "metadata": {
        "id": "BpSzLEZszwo7",
        "outputId": "c41f3604-3192-455f-86d5-9f23dab69921",
        "colab": {
          "base_uri": "https://localhost:8080/"
        }
      },
      "source": [
        "X_train = vectorizer.fit_transform(texts_train)     # returns a sparse matrix\n",
        "X_test = vectorizer.transform(texts_test)\n",
        "\n",
        "X_train.todense().shape, X_test.todense().shape"
      ],
      "execution_count": null,
      "outputs": [
        {
          "output_type": "execute_result",
          "data": {
            "text/plain": [
              "((18789, 6778), (4698, 6778))"
            ]
          },
          "metadata": {
            "tags": []
          },
          "execution_count": 129
        }
      ]
    },
    {
      "cell_type": "markdown",
      "metadata": {
        "id": "dUZFOiWNk2wd"
      },
      "source": [
        "Plot the test accuracy again with the new training, test set, transformed by TF-IDF..."
      ]
    },
    {
      "cell_type": "code",
      "metadata": {
        "id": "Z04rEX_F0No6"
      },
      "source": [
        "ks = [2**i+1 for i in range(1, int(math.log(X_train.shape[0], 2))+1)] + [X_train.shape[0]]\n",
        "plot_accuracy_by_k(ks, X_train, y_train, X_test, y_test)"
      ],
      "execution_count": null,
      "outputs": []
    },
    {
      "cell_type": "markdown",
      "metadata": {
        "id": "BOHInO4utwrz"
      },
      "source": [
        "\n",
        "<font color=\"purple\">**Did TF-IDF improve the results significantly? If true, explain why?**</font>"
      ]
    },
    {
      "cell_type": "markdown",
      "metadata": {
        "id": "O8uUZ2MotrNY"
      },
      "source": [
        "\n",
        "<font color=\"purple\">  --- **Put your answer here!** ---</font>\n",
        "</br>"
      ]
    },
    {
      "cell_type": "markdown",
      "metadata": {
        "id": "dEBfVrol0LBv"
      },
      "source": [
        "## Manual Inspect"
      ]
    },
    {
      "cell_type": "markdown",
      "metadata": {
        "id": "4Kp4nhoe3bYv"
      },
      "source": [
        "Pick the best parameters for your KNN model. Also make sure the correct version of data (vectorized by best vectorizer) is used to fit the model...\n"
      ]
    },
    {
      "cell_type": "code",
      "metadata": {
        "id": "8UuNwGMD37-V",
        "cellView": "form",
        "outputId": "b26b8474-fd9c-4d9c-d8b4-c49f35930744",
        "colab": {
          "base_uri": "https://localhost:8080/"
        }
      },
      "source": [
        "# @title Define, Fit best model\n",
        "\n",
        "from sklearn.neighbors import KNeighborsClassifier\n",
        "\n",
        "K = 20 # @param {\"type\": \"integer\"}\n",
        "\n",
        "classifier = KNeighborsClassifier(n_neighbors=K)\n",
        "classifier.fit(X_train, y_train)"
      ],
      "execution_count": null,
      "outputs": [
        {
          "output_type": "execute_result",
          "data": {
            "text/plain": [
              "KNeighborsClassifier(algorithm='auto', leaf_size=30, metric='minkowski',\n",
              "                     metric_params=None, n_jobs=None, n_neighbors=20, p=2,\n",
              "                     weights='uniform')"
            ]
          },
          "metadata": {
            "tags": []
          },
          "execution_count": 110
        }
      ]
    },
    {
      "cell_type": "markdown",
      "metadata": {
        "id": "0U1UpFxG7qz_"
      },
      "source": [
        "By looking at the Confusion Matrix below, you can see which label is harder for the model to predict..."
      ]
    },
    {
      "cell_type": "code",
      "metadata": {
        "id": "b-_u3APj72nN",
        "cellView": "form",
        "outputId": "ecff624c-bcb0-422d-8c5d-5227e56ba868",
        "colab": {
          "base_uri": "https://localhost:8080/",
          "height": 289
        }
      },
      "source": [
        "# @title Plot Confusion Matrix\n",
        "\n",
        "from sklearn.metrics import plot_confusion_matrix\n",
        "import matplotlib.pyplot as plt\n",
        "\n",
        "plt.rcParams['font.size'] = 12\n",
        "\n",
        "plot_confusion_matrix(classifier, X_test, y_test)\n",
        "plt.show()"
      ],
      "execution_count": null,
      "outputs": [
        {
          "output_type": "display_data",
          "data": {
            "image/png": "[encoded data removed]",
            "text/plain": [
              "<Figure size 432x288 with 2 Axes>"
            ]
          },
          "metadata": {
            "tags": [],
            "needs_background": "light"
          }
        }
      ]
    },
    {
      "cell_type": "markdown",
      "metadata": {
        "id": "d9vCgcTM8PiL"
      },
      "source": [
        "<font color=\"purple\">**According to the confusion matrix,**\n",
        "1. **Predicting which label is the easiest for the model?**</font>\n",
        "2. <font color=\"purple\">**Which one is the hardest? Why?**</font>\n",
        "3. <font color=\"purple\">**Which label does the model confuse the hardest one with!?!? Why?**\n",
        "</font>"
      ]
    },
    {
      "cell_type": "markdown",
      "metadata": {
        "id": "SnVz92Vrt4GJ"
      },
      "source": [
        "\n",
        "<font color=\"purple\">  --- **Put your answer here!** ---</font>\n",
        "</br>"
      ]
    },
    {
      "cell_type": "markdown",
      "metadata": {
        "id": "2QbatLGG9byV"
      },
      "source": [
        "Now that you know the weakness point of your model, let's manually test it to see if the numbers are right about it, or not?\n",
        "\n",
        "in the following code cell, you can input your desired text, see the sentiment predicted by model, and see which examples are nearest neighbors of the input and cause the model to make that prediction."
      ]
    },
    {
      "cell_type": "code",
      "metadata": {
        "id": "RPgXBLMR45AA",
        "cellView": "form"
      },
      "source": [
        "# @title Get Neighbors\n",
        "text = \"\" # @param {\"type\": \"string\"}\n",
        "\n",
        "x = vectorizer.transform([text])\n",
        "\n",
        "print('predicted sentiment:\\t', classifier.predict(x), '\\n')\n",
        "distances, indexes = classifier.kneighbors(x)\n",
        "\n",
        "for distance, index in zip(distances[0], indexes[0]):\n",
        "  print(f'label: {labels_train[index]}\\ndistance:{distance}\\n{texts_train[index]}\\n')\n",
        "# neighbors"
      ],
      "execution_count": null,
      "outputs": []
    },
    {
      "cell_type": "markdown",
      "metadata": {
        "id": "RDYUlDBoHaJj"
      },
      "source": [
        "<font color=\"purple\">**Based on manual inspection, which one of the followings is the main source of errors?**\n",
        "1. **The KNN algorithm**\n",
        "2. **The vectorization method**\n",
        "3. **Tokenization**\n",
        "3. **Or the dataset**\n",
        "**No problem if you feel that everyone is guilty! :)\n",
        "Justify your explanation with examples.**\n",
        "</font>"
      ]
    },
    {
      "cell_type": "markdown",
      "metadata": {
        "id": "hGOP5HPauaTE"
      },
      "source": [
        "\n",
        "<font color=\"purple\">  --- **Put your answer here!** ---</font>\n",
        "</br>"
      ]
    },
    {
      "cell_type": "markdown",
      "metadata": {
        "id": "HWRra63i2oFS"
      },
      "source": [
        "# Submission"
      ]
    },
    {
      "cell_type": "markdown",
      "metadata": {
        "id": "BQ6iRsAn2rlE"
      },
      "source": [
        "Congratulations! You finished the assignment & you're ready to submit your work. Please follow the instructions:\n",
        "\n",
        "1. Check and review your answers. Make sure all of the cell outputs are what you want. \n",
        "2. Select File > Save.\n",
        "3. **Fill your information** & run the cell bellow.\n",
        "4. Run **Make Submission** cell, It may take several minutes and it may ask you for your credential.\n",
        "5. Run **Download Submission** cell to obtain your submission as a zip file.\n",
        "6. Grab the downloaded file (`dl_asg01__xx__xx.zip`) and hand it over in microsoft teams."
      ]
    },
    {
      "cell_type": "markdown",
      "metadata": {
        "id": "lL9OYI1C1wRq"
      },
      "source": [
        "## Fill your information (Run the cell)"
      ]
    },
    {
      "cell_type": "code",
      "metadata": {
        "id": "ra5wTxj62CWc",
        "cellView": "form"
      },
      "source": [
        "#@title Enter your information & \"RUN the cell!!\" { run: \"auto\" }\n",
        "student_id = \"\" #@param {type:\"string\"}\n",
        "student_name = \"\" #@param {type:\"string\"}\n",
        "\n",
        "print(\"your student id:\", student_id)\n",
        "print(\"your name:\", student_name)\n",
        "\n",
        "\n",
        "from pathlib import Path\n",
        "\n",
        "ASSIGNMENT_PATH = Path('asg01')\n",
        "ASSIGNMENT_PATH.mkdir(parents=True, exist_ok=True)"
      ],
      "execution_count": null,
      "outputs": []
    },
    {
      "cell_type": "markdown",
      "metadata": {
        "id": "OFYJJJhh3kpj"
      },
      "source": [
        "## Make Submission (Run the cell)"
      ]
    },
    {
      "cell_type": "code",
      "metadata": {
        "id": "cBQc5tBQ2sFJ",
        "cellView": "form"
      },
      "source": [
        "#@title Make submission\n",
        "! pip install -U --quiet PyDrive > /dev/null\n",
        "! pip install -U --quiet jdatetime > /dev/null\n",
        "\n",
        "# ! wget -q https://github.com/github/hub/releases/download/v2.10.0/hub-linux-amd64-2.10.0.tgz \n",
        "\n",
        "\n",
        "import os\n",
        "import time\n",
        "import yaml\n",
        "import json\n",
        "import jdatetime\n",
        "\n",
        "from google.colab import files\n",
        "from IPython.display import Javascript\n",
        "from pydrive.auth import GoogleAuth\n",
        "from pydrive.drive import GoogleDrive\n",
        "from google.colab import auth\n",
        "from oauth2client.client import GoogleCredentials\n",
        "\n",
        "asg_name = 'Assignment 1'\n",
        "script_save = '''\n",
        "require([\"base/js/namespace\"],function(Jupyter) {\n",
        "    Jupyter.notebook.save_checkpoint();\n",
        "});\n",
        "'''\n",
        "# repo_name = 'iust-deep-learning-assignments'\n",
        "submission_file_name = 'dl_asg01__%s__%s.zip'%(student_id, student_name.lower().replace(' ',  '_'))\n",
        "\n",
        "sub_info = {\n",
        "    'student_id': student_id,\n",
        "    'student_name': student_name, \n",
        "    'dateime': str(jdatetime.date.today()),\n",
        "    'asg_name': asg_name\n",
        "}\n",
        "json.dump(sub_info, open('info.json', 'w'))\n",
        "\n",
        "Javascript(script_save)\n",
        "\n",
        "auth.authenticate_user()\n",
        "gauth = GoogleAuth()\n",
        "gauth.credentials = GoogleCredentials.get_application_default()\n",
        "drive = GoogleDrive(gauth)\n",
        "file_id = drive.ListFile({'q':\"title='%s.ipynb'\"%asg_name}).GetList()[0]['id']\n",
        "downloaded = drive.CreateFile({'id': file_id})\n",
        "downloaded.GetContentFile('%s.ipynb'%asg_name) \n",
        "\n",
        "! jupyter nbconvert --to script \"$asg_name\".ipynb > /dev/null\n",
        "! jupyter nbconvert --to html \"$asg_name\".ipynb > /dev/null\n",
        "! zip \"$submission_file_name\" \"$asg_name\".ipynb \"$asg_name\".html \"$asg_name\".txt info.json > /dev/null\n",
        "\n",
        "print(\"##########################################\")\n",
        "print(\"Done! Submisson created, Please download using the bellow cell!\")"
      ],
      "execution_count": null,
      "outputs": []
    },
    {
      "cell_type": "code",
      "metadata": {
        "id": "RclPk2VM30Qa",
        "outputId": "92c0935e-d2b6-4d14-a799-63d36986692a",
        "colab": {
          "base_uri": "https://localhost:8080/",
          "height": 17
        }
      },
      "source": [
        "files.download(submission_file_name)"
      ],
      "execution_count": null,
      "outputs": [
        {
          "output_type": "display_data",
          "data": {
            "application/javascript": [
              "\n",
              "    async function download(id, filename, size) {\n",
              "      if (!google.colab.kernel.accessAllowed) {\n",
              "        return;\n",
              "      }\n",
              "      const div = document.createElement('div');\n",
              "      const label = document.createElement('label');\n",
              "      label.textContent = `Downloading \"${filename}\": `;\n",
              "      div.appendChild(label);\n",
              "      const progress = document.createElement('progress');\n",
              "      progress.max = size;\n",
              "      div.appendChild(progress);\n",
              "      document.body.appendChild(div);\n",
              "\n",
              "      const buffers = [];\n",
              "      let downloaded = 0;\n",
              "\n",
              "      const channel = await google.colab.kernel.comms.open(id);\n",
              "      // Send a message to notify the kernel that we're ready.\n",
              "      channel.send({})\n",
              "\n",
              "      for await (const message of channel.messages) {\n",
              "        // Send a message to notify the kernel that we're ready.\n",
              "        channel.send({})\n",
              "        if (message.buffers) {\n",
              "          for (const buffer of message.buffers) {\n",
              "            buffers.push(buffer);\n",
              "            downloaded += buffer.byteLength;\n",
              "            progress.value = downloaded;\n",
              "          }\n",
              "        }\n",
              "      }\n",
              "      const blob = new Blob(buffers, {type: 'application/binary'});\n",
              "      const a = document.createElement('a');\n",
              "      a.href = window.URL.createObjectURL(blob);\n",
              "      a.download = filename;\n",
              "      div.appendChild(a);\n",
              "      a.click();\n",
              "      div.remove();\n",
              "    }\n",
              "  "
            ],
            "text/plain": [
              "<IPython.core.display.Javascript object>"
            ]
          },
          "metadata": {
            "tags": []
          }
        },
        {
          "output_type": "display_data",
          "data": {
            "application/javascript": [
              "download(\"download_3e723401-b910-43d1-a5d1-5152e9ad3c57\", \"dl_asg01__97722239__kiamehr_rezaee.zip\", 1780603)"
            ],
            "text/plain": [
              "<IPython.core.display.Javascript object>"
            ]
          },
          "metadata": {
            "tags": []
          }
        }
      ]
    }
  ]
}