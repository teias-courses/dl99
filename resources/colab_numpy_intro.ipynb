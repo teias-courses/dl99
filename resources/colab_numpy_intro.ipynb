{
  "nbformat": 4,
  "nbformat_minor": 0,
  "metadata": {
    "colab": {
      "name": "colab_numpy_intro.ipynb",
      "provenance": [],
      "collapsed_sections": [
        "6a-TQCV_5Zwl",
        "lBG1o1uN9WFK",
        "LBV74Jkekn9E",
        "ai7D5Dbo3ZUR",
        "hHwlM5Nm5gkG",
        "9XurKzSLeDXd",
        "4r7dh9SBqpYG",
        "4A3DLrGQ9Mky",
        "YxH58FrJFFS0",
        "v0CC5-1RD19R",
        "Ls0pm53ZnWso"
      ],
      "mount_file_id": "1QlPfKoHVpxc0sTzwpXK4MZqAXrVDDcuf",
      "authorship_tag": "ABX9TyPM4DiqzAT4AtQ1TFXGT3nq",
      "include_colab_link": true
    },
    "kernelspec": {
      "name": "python3",
      "display_name": "Python 3"
    },
    "accelerator": "GPU"
  },
  "cells": [
    {
      "cell_type": "markdown",
      "metadata": {
        "id": "view-in-github",
        "colab_type": "text"
      },
      "source": [
        "<a href=\"https://colab.research.google.com/github/teias-courses/dl99/blob/gh-pages/resources/colab_numpy_intro.ipynb\" target=\"_parent\"><img src=\"https://colab.research.google.com/assets/colab-badge.svg\" alt=\"Open In Colab\"/></a>"
      ]
    },
    {
      "cell_type": "markdown",
      "metadata": {
        "id": "dHWMf52L2kv-"
      },
      "source": [
        "# Python Notebook, Google Colab \n",
        "\n",
        "Read More:\n",
        "* [Jupyter Documentation](https://jupyter.org/documentation)\n",
        "* [Overview of Colaboratory Features](https://colab.research.google.com/notebooks/basic_features_overview.ipynb)"
      ]
    },
    {
      "cell_type": "markdown",
      "metadata": {
        "id": "6a-TQCV_5Zwl"
      },
      "source": [
        "## Python Notebook\n",
        "\n",
        "A python notebook is a document consisting of two types of blocks (cells):\n",
        "* **Code cell**: Python code (and its output)\n",
        "* **Markdown Cell**: Text in markdown syntax (like this one)\n",
        "\n",
        "When backed by a python kernel, we can run code cells and generate outputs...\n",
        "\n",
        "Python notebooks are stored as ```.ipynb``` files."
      ]
    },
    {
      "cell_type": "markdown",
      "metadata": {
        "id": "lBG1o1uN9WFK"
      },
      "source": [
        "### Code Cells"
      ]
    },
    {
      "cell_type": "code",
      "metadata": {
        "id": "dxzqUMz52fU7",
        "outputId": "6452107e-a462-4d45-d016-478e56558cd2",
        "colab": {
          "base_uri": "https://localhost:8080/"
        }
      },
      "source": [
        "x = 25\n",
        "print(x)\n",
        "\n",
        "x * 5   # prints value of last line as a expression"
      ],
      "execution_count": null,
      "outputs": [
        {
          "output_type": "stream",
          "text": [
            "25\n"
          ],
          "name": "stdout"
        },
        {
          "output_type": "execute_result",
          "data": {
            "text/plain": [
              "125"
            ]
          },
          "metadata": {
            "tags": []
          },
          "execution_count": 1
        }
      ]
    },
    {
      "cell_type": "code",
      "metadata": {
        "id": "YK0XGJeW3E6z",
        "outputId": "e5408e48-d0fc-4fa3-b318-62eb6b2d604f",
        "colab": {
          "base_uri": "https://localhost:8080/"
        }
      },
      "source": [
        "y = x + 1   # has access to x which was defined above\n",
        "y"
      ],
      "execution_count": null,
      "outputs": [
        {
          "output_type": "execute_result",
          "data": {
            "text/plain": [
              "26"
            ]
          },
          "metadata": {
            "tags": []
          },
          "execution_count": 2
        }
      ]
    },
    {
      "cell_type": "markdown",
      "metadata": {
        "id": "axHSmKiIFpD3"
      },
      "source": [
        "We can run **Bash Commands** in code cells\n"
      ]
    },
    {
      "cell_type": "code",
      "metadata": {
        "id": "YHfj24WeX-1C",
        "outputId": "d5e809d7-0f80-479c-ddac-55a85e38e555",
        "colab": {
          "base_uri": "https://localhost:8080/"
        }
      },
      "source": [
        "!wget -O hinton.jpg https://awards.acm.org/binaries/content/gallery/acm/awards/photo/h-j/hinton_4791679 "
      ],
      "execution_count": null,
      "outputs": [
        {
          "output_type": "stream",
          "text": [
            "--2020-11-10 13:22:00--  https://awards.acm.org/binaries/content/gallery/acm/awards/photo/h-j/hinton_4791679\n",
            "Resolving awards.acm.org (awards.acm.org)... 5.79.89.115, 5.79.89.114, 2001:1af8:4700:a158:121:0:1:114, ...\n",
            "Connecting to awards.acm.org (awards.acm.org)|5.79.89.115|:443... connected.\n",
            "HTTP request sent, awaiting response... 200 OK\n",
            "Length: 183274 (179K) [image/jpeg]\n",
            "Saving to: ‘hinton.jpg’\n",
            "\n",
            "hinton.jpg          100%[===================>] 178.98K   783KB/s    in 0.2s    \n",
            "\n",
            "2020-11-10 13:22:01 (783 KB/s) - ‘hinton.jpg’ saved [183274/183274]\n",
            "\n"
          ],
          "name": "stdout"
        }
      ]
    },
    {
      "cell_type": "code",
      "metadata": {
        "id": "-jcD2QMV9esf",
        "outputId": "145048e2-7131-4a95-d946-515986274628",
        "colab": {
          "base_uri": "https://localhost:8080/"
        }
      },
      "source": [
        "data_dir = 'my_data'\n",
        "!mkdir {data_dir}     # makes my_data directory\n",
        "!ls"
      ],
      "execution_count": null,
      "outputs": [
        {
          "output_type": "stream",
          "text": [
            "drive  hinton.jpg  my_data  sample_data\n"
          ],
          "name": "stdout"
        }
      ]
    },
    {
      "cell_type": "code",
      "metadata": {
        "id": "-uHnfLVUiW0N",
        "outputId": "2e3126cd-bf7c-4118-de50-f87d92b6cf22",
        "colab": {
          "base_uri": "https://localhost:8080/"
        }
      },
      "source": [
        "!pwd\n",
        "!cd my_data   # has no effect\n",
        "!pwd"
      ],
      "execution_count": null,
      "outputs": [
        {
          "output_type": "stream",
          "text": [
            "/content\n",
            "/content\n"
          ],
          "name": "stdout"
        }
      ]
    },
    {
      "cell_type": "markdown",
      "metadata": {
        "id": "QH5qes0n-JJt"
      },
      "source": [
        "### Magic Commands\n",
        "\n",
        "A very handy feature of IPython. There are two types of magic:\n",
        "* **Line Magic** runs like a line of code.\n",
        "* **Cell Magic** affects the behavior of the whole cell.\n",
        "\n",
        "\n"
      ]
    },
    {
      "cell_type": "code",
      "metadata": {
        "id": "GbxZZBU5_VV9",
        "outputId": "c6b76ea4-5ae3-44be-b850-df8cd9dc092c",
        "colab": {
          "base_uri": "https://localhost:8080/"
        }
      },
      "source": [
        "%cd my_data\n",
        "a = %pwd"
      ],
      "execution_count": null,
      "outputs": [
        {
          "output_type": "stream",
          "text": [
            "/content/my_data\n"
          ],
          "name": "stdout"
        }
      ]
    },
    {
      "cell_type": "code",
      "metadata": {
        "id": "9T6UHkqxndcB",
        "outputId": "c21756c2-287e-43bd-fd64-a6e0528ab419",
        "colab": {
          "base_uri": "https://localhost:8080/",
          "height": 170
        }
      },
      "source": [
        "%lsmagic"
      ],
      "execution_count": null,
      "outputs": [
        {
          "output_type": "execute_result",
          "data": {
            "application/json": {
              "cell": {
                "prun": "ExecutionMagics",
                "file": "Other",
                "!": "OSMagics",
                "capture": "ExecutionMagics",
                "timeit": "ExecutionMagics",
                "script": "ScriptMagics",
                "pypy": "Other",
                "system": "OSMagics",
                "perl": "Other",
                "html": "DisplayMagics",
                "bash": "Other",
                "shell": "Other",
                "HTML": "Other",
                "python": "Other",
                "SVG": "Other",
                "javascript": "DisplayMagics",
                "bigquery": "Other",
                "js": "DisplayMagics",
                "writefile": "OSMagics",
                "ruby": "Other",
                "python3": "Other",
                "python2": "Other",
                "latex": "DisplayMagics",
                "sx": "OSMagics",
                "svg": "DisplayMagics",
                "sh": "Other",
                "time": "ExecutionMagics",
                "debug": "ExecutionMagics"
              },
              "line": {
                "psource": "NamespaceMagics",
                "logstart": "LoggingMagics",
                "popd": "OSMagics",
                "tensorflow_version": "Other",
                "loadpy": "CodeMagics",
                "colors": "BasicMagics",
                "who_ls": "NamespaceMagics",
                "lf": "Other",
                "ll": "Other",
                "pprint": "BasicMagics",
                "lk": "Other",
                "ls": "Other",
                "save": "CodeMagics",
                "tb": "ExecutionMagics",
                "lx": "Other",
                "pylab": "PylabMagics",
                "killbgscripts": "ScriptMagics",
                "quickref": "BasicMagics",
                "magic": "BasicMagics",
                "dhist": "OSMagics",
                "edit": "KernelMagics",
                "logstop": "LoggingMagics",
                "gui": "BasicMagics",
                "prun": "ExecutionMagics",
                "debug": "ExecutionMagics",
                "page": "BasicMagics",
                "logstate": "LoggingMagics",
                "ed": "Other",
                "pushd": "OSMagics",
                "timeit": "ExecutionMagics",
                "set_env": "OSMagics",
                "rehashx": "OSMagics",
                "hist": "Other",
                "qtconsole": "KernelMagics",
                "rm": "Other",
                "dirs": "OSMagics",
                "run": "ExecutionMagics",
                "reset_selective": "NamespaceMagics",
                "pinfo2": "NamespaceMagics",
                "matplotlib": "PylabMagics",
                "unload_ext": "ExtensionMagics",
                "doctest_mode": "BasicMagics",
                "logoff": "LoggingMagics",
                "reload_ext": "ExtensionMagics",
                "pdb": "ExecutionMagics",
                "load": "CodeMagics",
                "lsmagic": "BasicMagics",
                "autosave": "KernelMagics",
                "cd": "OSMagics",
                "pastebin": "CodeMagics",
                "alias_magic": "BasicMagics",
                "cp": "Other",
                "autocall": "AutoMagics",
                "ldir": "Other",
                "bookmark": "OSMagics",
                "connect_info": "KernelMagics",
                "mkdir": "Other",
                "system": "OSMagics",
                "whos": "NamespaceMagics",
                "rmdir": "Other",
                "automagic": "AutoMagics",
                "store": "StoreMagics",
                "more": "KernelMagics",
                "shell": "Other",
                "pdef": "NamespaceMagics",
                "precision": "BasicMagics",
                "pinfo": "NamespaceMagics",
                "pwd": "OSMagics",
                "psearch": "NamespaceMagics",
                "reset": "NamespaceMagics",
                "recall": "HistoryMagics",
                "xdel": "NamespaceMagics",
                "xmode": "BasicMagics",
                "cat": "Other",
                "mv": "Other",
                "rerun": "HistoryMagics",
                "logon": "LoggingMagics",
                "history": "HistoryMagics",
                "pycat": "OSMagics",
                "pip": "Other",
                "unalias": "OSMagics",
                "env": "OSMagics",
                "load_ext": "ExtensionMagics",
                "config": "ConfigMagics",
                "profile": "BasicMagics",
                "pfile": "NamespaceMagics",
                "less": "KernelMagics",
                "who": "NamespaceMagics",
                "notebook": "BasicMagics",
                "man": "KernelMagics",
                "sx": "OSMagics",
                "macro": "ExecutionMagics",
                "clear": "KernelMagics",
                "alias": "OSMagics",
                "time": "ExecutionMagics",
                "sc": "OSMagics",
                "rep": "Other",
                "pdoc": "NamespaceMagics"
              }
            },
            "text/plain": [
              "Available line magics:\n",
              "%alias  %alias_magic  %autocall  %automagic  %autosave  %bookmark  %cat  %cd  %clear  %colors  %config  %connect_info  %cp  %debug  %dhist  %dirs  %doctest_mode  %ed  %edit  %env  %gui  %hist  %history  %killbgscripts  %ldir  %less  %lf  %lk  %ll  %load  %load_ext  %loadpy  %logoff  %logon  %logstart  %logstate  %logstop  %ls  %lsmagic  %lx  %macro  %magic  %man  %matplotlib  %mkdir  %more  %mv  %notebook  %page  %pastebin  %pdb  %pdef  %pdoc  %pfile  %pinfo  %pinfo2  %pip  %popd  %pprint  %precision  %profile  %prun  %psearch  %psource  %pushd  %pwd  %pycat  %pylab  %qtconsole  %quickref  %recall  %rehashx  %reload_ext  %rep  %rerun  %reset  %reset_selective  %rm  %rmdir  %run  %save  %sc  %set_env  %shell  %store  %sx  %system  %tb  %tensorflow_version  %time  %timeit  %unalias  %unload_ext  %who  %who_ls  %whos  %xdel  %xmode\n",
              "\n",
              "Available cell magics:\n",
              "%%!  %%HTML  %%SVG  %%bash  %%bigquery  %%capture  %%debug  %%file  %%html  %%javascript  %%js  %%latex  %%perl  %%prun  %%pypy  %%python  %%python2  %%python3  %%ruby  %%script  %%sh  %%shell  %%svg  %%sx  %%system  %%time  %%timeit  %%writefile\n",
              "\n",
              "Automagic is ON, % prefix IS NOT needed for line magics."
            ]
          },
          "metadata": {
            "tags": []
          },
          "execution_count": 7
        }
      ]
    },
    {
      "cell_type": "code",
      "metadata": {
        "id": "pnXWVnDQ9s2A",
        "outputId": "0b30b282-d442-41ff-e4ba-b395a36ca78d",
        "colab": {
          "base_uri": "https://localhost:8080/"
        }
      },
      "source": [
        "%whos int"
      ],
      "execution_count": null,
      "outputs": [
        {
          "output_type": "stream",
          "text": [
            "Variable   Type    Data/Info\n",
            "----------------------------\n",
            "x          int     25\n",
            "y          int     26\n"
          ],
          "name": "stdout"
        }
      ]
    },
    {
      "cell_type": "code",
      "metadata": {
        "id": "uwzkszBECxJp",
        "outputId": "804d60a6-fd60-417c-f3e5-b69e093d751f",
        "colab": {
          "base_uri": "https://localhost:8080/"
        }
      },
      "source": [
        "%timeit [i**2 for i in range(10**6)]"
      ],
      "execution_count": null,
      "outputs": [
        {
          "output_type": "stream",
          "text": [
            "1 loop, best of 3: 268 ms per loop\n"
          ],
          "name": "stdout"
        }
      ]
    },
    {
      "cell_type": "code",
      "metadata": {
        "id": "4ZGeWdVx_s0J",
        "outputId": "8685d349-e85f-4206-d3ea-e2975a44fda6",
        "colab": {
          "base_uri": "https://localhost:8080/",
          "height": 408
        }
      },
      "source": [
        "%pdb on\n",
        "x = 1\n",
        "y = x - 1\n",
        "z = x/y\n",
        "w = x + 1"
      ],
      "execution_count": null,
      "outputs": [
        {
          "output_type": "stream",
          "text": [
            "Automatic pdb calling has been turned ON\n"
          ],
          "name": "stdout"
        },
        {
          "output_type": "error",
          "ename": "ZeroDivisionError",
          "evalue": "ignored",
          "traceback": [
            "\u001b[0;31m---------------------------------------------------------------------------\u001b[0m",
            "\u001b[0;31mZeroDivisionError\u001b[0m                         Traceback (most recent call last)",
            "\u001b[0;32m<ipython-input-10-2f9f57b0354d>\u001b[0m in \u001b[0;36m<module>\u001b[0;34m()\u001b[0m\n\u001b[1;32m      2\u001b[0m \u001b[0mx\u001b[0m \u001b[0;34m=\u001b[0m \u001b[0;36m1\u001b[0m\u001b[0;34m\u001b[0m\u001b[0;34m\u001b[0m\u001b[0m\n\u001b[1;32m      3\u001b[0m \u001b[0my\u001b[0m \u001b[0;34m=\u001b[0m \u001b[0mx\u001b[0m \u001b[0;34m-\u001b[0m \u001b[0;36m1\u001b[0m\u001b[0;34m\u001b[0m\u001b[0;34m\u001b[0m\u001b[0m\n\u001b[0;32m----> 4\u001b[0;31m \u001b[0mz\u001b[0m \u001b[0;34m=\u001b[0m \u001b[0mx\u001b[0m\u001b[0;34m/\u001b[0m\u001b[0my\u001b[0m\u001b[0;34m\u001b[0m\u001b[0;34m\u001b[0m\u001b[0m\n\u001b[0m\u001b[1;32m      5\u001b[0m \u001b[0mw\u001b[0m \u001b[0;34m=\u001b[0m \u001b[0mx\u001b[0m \u001b[0;34m+\u001b[0m \u001b[0;36m1\u001b[0m\u001b[0;34m\u001b[0m\u001b[0;34m\u001b[0m\u001b[0m\n",
            "\u001b[0;31mZeroDivisionError\u001b[0m: division by zero"
          ]
        },
        {
          "output_type": "stream",
          "text": [
            "> \u001b[0;32m<ipython-input-10-2f9f57b0354d>\u001b[0m(4)\u001b[0;36m<module>\u001b[0;34m()\u001b[0m\n",
            "\u001b[0;32m      1 \u001b[0;31m\u001b[0mget_ipython\u001b[0m\u001b[0;34m(\u001b[0m\u001b[0;34m)\u001b[0m\u001b[0;34m.\u001b[0m\u001b[0mmagic\u001b[0m\u001b[0;34m(\u001b[0m\u001b[0;34m'pdb on'\u001b[0m\u001b[0;34m)\u001b[0m\u001b[0;34m\u001b[0m\u001b[0;34m\u001b[0m\u001b[0m\n",
            "\u001b[0m\u001b[0;32m      2 \u001b[0;31m\u001b[0mx\u001b[0m \u001b[0;34m=\u001b[0m \u001b[0;36m1\u001b[0m\u001b[0;34m\u001b[0m\u001b[0;34m\u001b[0m\u001b[0m\n",
            "\u001b[0m\u001b[0;32m      3 \u001b[0;31m\u001b[0my\u001b[0m \u001b[0;34m=\u001b[0m \u001b[0mx\u001b[0m \u001b[0;34m-\u001b[0m \u001b[0;36m1\u001b[0m\u001b[0;34m\u001b[0m\u001b[0;34m\u001b[0m\u001b[0m\n",
            "\u001b[0m\u001b[0;32m----> 4 \u001b[0;31m\u001b[0mz\u001b[0m \u001b[0;34m=\u001b[0m \u001b[0mx\u001b[0m\u001b[0;34m/\u001b[0m\u001b[0my\u001b[0m\u001b[0;34m\u001b[0m\u001b[0;34m\u001b[0m\u001b[0m\n",
            "\u001b[0m\u001b[0;32m      5 \u001b[0;31m\u001b[0mw\u001b[0m \u001b[0;34m=\u001b[0m \u001b[0mx\u001b[0m \u001b[0;34m+\u001b[0m \u001b[0;36m1\u001b[0m\u001b[0;34m\u001b[0m\u001b[0;34m\u001b[0m\u001b[0m\n",
            "\u001b[0m\n",
            "ipdb> q\n"
          ],
          "name": "stdout"
        }
      ]
    },
    {
      "cell_type": "code",
      "metadata": {
        "id": "e7Tnv6wj_Rwz",
        "outputId": "ca4ad9b4-c55c-4c7b-ded3-4b3f28b2e242",
        "colab": {
          "base_uri": "https://localhost:8080/"
        }
      },
      "source": [
        "%pdb off"
      ],
      "execution_count": null,
      "outputs": [
        {
          "output_type": "stream",
          "text": [
            "Automatic pdb calling has been turned OFF\n"
          ],
          "name": "stdout"
        }
      ]
    },
    {
      "cell_type": "markdown",
      "metadata": {
        "id": "LBV74Jkekn9E"
      },
      "source": [
        "#### Cell Magic"
      ]
    },
    {
      "cell_type": "code",
      "metadata": {
        "id": "-KQN2S6HiMoV",
        "outputId": "bef02e27-55fa-493f-c2b1-099efe4dbb7d",
        "colab": {
          "base_uri": "https://localhost:8080/"
        }
      },
      "source": [
        "%%time\n",
        "l = [i**2 for i in range(10**7)]"
      ],
      "execution_count": null,
      "outputs": [
        {
          "output_type": "stream",
          "text": [
            "CPU times: user 2.54 s, sys: 183 ms, total: 2.73 s\n",
            "Wall time: 2.76 s\n"
          ],
          "name": "stdout"
        }
      ]
    },
    {
      "cell_type": "code",
      "metadata": {
        "id": "_lrLfXqQbZwb",
        "outputId": "c46aed88-3447-416c-aece-e1955f6b8428",
        "colab": {
          "base_uri": "https://localhost:8080/"
        }
      },
      "source": [
        "%%html\n",
        "This cell is <span style=\"background:#ddee66\">rendered</span> as {x} html.\n",
        "A <a href=\"\"> link</a> to nowhere! "
      ],
      "execution_count": null,
      "outputs": [
        {
          "output_type": "display_data",
          "data": {
            "text/html": [
              "This cell is <span style=\"background:#ddee66\">rendered</span> as {x} html.\n",
              "A <a href=\"\"> link</a> to nowhere! "
            ],
            "text/plain": [
              "<IPython.core.display.HTML object>"
            ]
          },
          "metadata": {
            "tags": []
          }
        }
      ]
    },
    {
      "cell_type": "code",
      "metadata": {
        "id": "AVGZ_Q5SaxM5",
        "outputId": "63032b36-6494-4e07-bd7d-b046d6c3d5cf",
        "colab": {
          "base_uri": "https://localhost:8080/"
        }
      },
      "source": [
        "%%writefile -a test.txt\n",
        "x = 5\n",
        "i am \"a student\""
      ],
      "execution_count": null,
      "outputs": [
        {
          "output_type": "stream",
          "text": [
            "Writing test.txt\n"
          ],
          "name": "stdout"
        }
      ]
    },
    {
      "cell_type": "markdown",
      "metadata": {
        "id": "ai7D5Dbo3ZUR"
      },
      "source": [
        "### Markdown Cells\n",
        "\n",
        "This is a markdown cell.\n",
        "It supports **bold**, *italicized* text formatting.\n",
        "\n",
        "```\n",
        "# And This is formatted as code\n",
        "x = -13\n",
        "y = abs(x * 5)\n",
        "```\n",
        "\n",
        "\n",
        "\n"
      ]
    },
    {
      "cell_type": "markdown",
      "metadata": {
        "id": "PDQVsw6p40ZS"
      },
      "source": [
        "You can have lists...\n",
        "\n",
        "* bulleted items\n",
        "* more items\n",
        "\n",
        "or \n",
        "1. numbered items\n",
        "2. item 2"
      ]
    },
    {
      "cell_type": "markdown",
      "metadata": {
        "id": "hHwlM5Nm5gkG"
      },
      "source": [
        "## Google Colab\n",
        "\n",
        "Colab provides us python kernels hosted by Google and a user-friendly UI to work with our notebook.\n",
        "\n",
        "* Almost all needed libraries for machine learning and deep learning are pre-installed in colab.\n",
        "* We can use hardware accelarators (GPU, TPU) which is neccessary for model training."
      ]
    },
    {
      "cell_type": "code",
      "metadata": {
        "id": "LLMWuwkjGN8b",
        "outputId": "65ffe0ba-7519-4b9e-cfde-727557e7c4e5",
        "colab": {
          "base_uri": "https://localhost:8080/"
        }
      },
      "source": [
        "!nvidia-smi"
      ],
      "execution_count": null,
      "outputs": [
        {
          "output_type": "stream",
          "text": [
            "Tue Nov 10 13:22:30 2020       \n",
            "+-----------------------------------------------------------------------------+\n",
            "| NVIDIA-SMI 455.32.00    Driver Version: 418.67       CUDA Version: 10.1     |\n",
            "|-------------------------------+----------------------+----------------------+\n",
            "| GPU  Name        Persistence-M| Bus-Id        Disp.A | Volatile Uncorr. ECC |\n",
            "| Fan  Temp  Perf  Pwr:Usage/Cap|         Memory-Usage | GPU-Util  Compute M. |\n",
            "|                               |                      |               MIG M. |\n",
            "|===============================+======================+======================|\n",
            "|   0  Tesla T4            Off  | 00000000:00:04.0 Off |                    0 |\n",
            "| N/A   61C    P8    11W /  70W |      0MiB / 15079MiB |      0%      Default |\n",
            "|                               |                      |                 ERR! |\n",
            "+-------------------------------+----------------------+----------------------+\n",
            "                                                                               \n",
            "+-----------------------------------------------------------------------------+\n",
            "| Processes:                                                                  |\n",
            "|  GPU   GI   CI        PID   Type   Process name                  GPU Memory |\n",
            "|        ID   ID                                                   Usage      |\n",
            "|=============================================================================|\n",
            "|  No running processes found                                                 |\n",
            "+-----------------------------------------------------------------------------+\n"
          ],
          "name": "stdout"
        }
      ]
    },
    {
      "cell_type": "markdown",
      "metadata": {
        "id": "DXGs_A5RcMmI"
      },
      "source": [
        "### Google Drive Integration"
      ]
    },
    {
      "cell_type": "code",
      "metadata": {
        "id": "XWulwT31ce5e"
      },
      "source": [
        "from google.colab import drive\n",
        "drive.mount('drive')"
      ],
      "execution_count": null,
      "outputs": []
    },
    {
      "cell_type": "markdown",
      "metadata": {
        "id": "9XurKzSLeDXd"
      },
      "source": [
        "### Colab Limitations\n",
        "* We may loose your session by closing browser tab for a while\n",
        "* Each session has a maximum runtime limit of 12H or less!\n",
        "* You cannot have GPU/TPU runtimes whenever you want... Use GPU only when you need it.\n",
        "\n",
        "### Use Shortcuts\n",
        "* **Ctrl + Enter** runs curent cell\n",
        "* **Shift + Enter** runs curent cell and moves to next or creates new cell\n",
        "* ..."
      ]
    },
    {
      "cell_type": "markdown",
      "metadata": {
        "id": "-SVhAfh22xFs"
      },
      "source": [
        "# Numpy\n",
        "\n",
        "Used resources:\n",
        "* [Official numpy Docs: Indexing](https://numpy.org/doc/stable/reference/arrays.indexing.html)\n",
        "* [Numerical calculations with NumPy](http://kestrel.nmt.edu/~raymond/software/python_notes/paper003.html)\n",
        "* [Introduction to Numpy and Pandas](https://github.com/guiwitz/NumpyPandas_course)\n",
        "\n",
        "Provides an efficient way to do calculations on multi-dimensional numerical data.\n",
        "\n",
        "* Its core data type is called **ndarray** or n-dimensional array. We will refer to ndarrays as arrays."
      ]
    },
    {
      "cell_type": "code",
      "metadata": {
        "id": "qJ6BkdY82yPR"
      },
      "source": [
        "import numpy as np  # everyone imports numpy like this"
      ],
      "execution_count": null,
      "outputs": []
    },
    {
      "cell_type": "markdown",
      "metadata": {
        "id": "qV3n9gReqFj2"
      },
      "source": [
        "## Creating Arrays"
      ]
    },
    {
      "cell_type": "markdown",
      "metadata": {
        "id": "4r7dh9SBqpYG"
      },
      "source": [
        "### From Python List"
      ]
    },
    {
      "cell_type": "code",
      "metadata": {
        "id": "QJv0EUabqzxA",
        "outputId": "607d2611-550d-45c8-ada1-77f2c591a81b",
        "colab": {
          "base_uri": "https://localhost:8080/"
        }
      },
      "source": [
        "a = np.array([1, 3, 5, 2, 4, 6])\n",
        "a"
      ],
      "execution_count": null,
      "outputs": [
        {
          "output_type": "execute_result",
          "data": {
            "text/plain": [
              "array([1, 3, 5, 2, 4, 6])"
            ]
          },
          "metadata": {
            "tags": []
          },
          "execution_count": 19
        }
      ]
    },
    {
      "cell_type": "code",
      "metadata": {
        "id": "Ul6Su1AArVoQ",
        "outputId": "920c2076-68df-45d9-b92d-b79f654da545",
        "colab": {
          "base_uri": "https://localhost:8080/"
        }
      },
      "source": [
        "b = np.array([[1., 3, 5], [2, 4, 6]])    # nested list\n",
        "b"
      ],
      "execution_count": null,
      "outputs": [
        {
          "output_type": "execute_result",
          "data": {
            "text/plain": [
              "array([[1., 3., 5.],\n",
              "       [2., 4., 6.]])"
            ]
          },
          "metadata": {
            "tags": []
          },
          "execution_count": 20
        }
      ]
    },
    {
      "cell_type": "code",
      "metadata": {
        "id": "0zcSw9torgem",
        "outputId": "fba1e9ad-379f-4cfd-8470-a202db4420b8",
        "colab": {
          "base_uri": "https://localhost:8080/"
        }
      },
      "source": [
        "c = np.array([[1, 3, 5], [2, 4, 6], [7, 9]])\n",
        "c"
      ],
      "execution_count": null,
      "outputs": [
        {
          "output_type": "execute_result",
          "data": {
            "text/plain": [
              "array([list([1, 3, 5]), list([2, 4, 6]), list([7, 9])], dtype=object)"
            ]
          },
          "metadata": {
            "tags": []
          },
          "execution_count": 21
        }
      ]
    },
    {
      "cell_type": "code",
      "metadata": {
        "id": "Ypds0n5xvY-X",
        "outputId": "f8e61af2-fd60-43bc-dd61-638dba3acf9b",
        "colab": {
          "base_uri": "https://localhost:8080/"
        }
      },
      "source": [
        "print('a.dtype:', a.dtype, '\\nb.dtype:', b.dtype)"
      ],
      "execution_count": null,
      "outputs": [
        {
          "output_type": "stream",
          "text": [
            "a.dtype: int64 \n",
            "b.dtype: float64\n"
          ],
          "name": "stdout"
        }
      ]
    },
    {
      "cell_type": "code",
      "metadata": {
        "id": "3K6QWEH64f6F",
        "outputId": "c1424ee5-9e35-4586-db94-f1a553ac950d",
        "colab": {
          "base_uri": "https://localhost:8080/"
        }
      },
      "source": [
        "print(b.astype(np.int64))   # or astype('int64')"
      ],
      "execution_count": null,
      "outputs": [
        {
          "output_type": "stream",
          "text": [
            "[[1 3 5]\n",
            " [2 4 6]]\n"
          ],
          "name": "stdout"
        }
      ]
    },
    {
      "cell_type": "code",
      "metadata": {
        "id": "GdQNHX7W0F1t",
        "outputId": "a011e6e4-0881-4e8a-ad0c-d7fe4edafc51",
        "colab": {
          "base_uri": "https://localhost:8080/"
        }
      },
      "source": [
        "print('a.ndim:', a.ndim, '\\tb.ndim', b.ndim)      # number of dimensions\n",
        "print('a.shape:', a.shape, '\\tb.shape:', b.shape) # size of each dimension\n",
        "print('a.size:', a.size, '\\tb.size:', b.size)     # total size of array (number of items)"
      ],
      "execution_count": null,
      "outputs": [
        {
          "output_type": "stream",
          "text": [
            "a.ndim: 1 \tb.ndim 2\n",
            "a.shape: (6,) \tb.shape: (2, 3)\n",
            "a.size: 6 \tb.size: 6\n"
          ],
          "name": "stdout"
        }
      ]
    },
    {
      "cell_type": "code",
      "metadata": {
        "id": "F7uDl75cFhxZ",
        "outputId": "d282d7ff-bf60-4007-d799-901ed5ca296c",
        "colab": {
          "base_uri": "https://localhost:8080/"
        }
      },
      "source": [
        "%whos ndarray"
      ],
      "execution_count": null,
      "outputs": [
        {
          "output_type": "stream",
          "text": [
            "Variable   Type       Data/Info\n",
            "-------------------------------\n",
            "a          ndarray    6: 6 elems, type `int64`, 48 bytes\n",
            "b          ndarray    2x3: 6 elems, type `float64`, 48 bytes\n",
            "c          ndarray    3: 3 elems, type `object`, 24 bytes\n"
          ],
          "name": "stdout"
        }
      ]
    },
    {
      "cell_type": "markdown",
      "metadata": {
        "id": "CCDrTvLZqr94"
      },
      "source": [
        "### 1D Sequences"
      ]
    },
    {
      "cell_type": "code",
      "metadata": {
        "id": "LuyMj9xbrrfJ",
        "outputId": "c39e2fe9-1cd9-4e4d-8e0a-d6775d84cb75",
        "colab": {
          "base_uri": "https://localhost:8080/"
        }
      },
      "source": [
        "ar = np.arange(5)\n",
        "ar"
      ],
      "execution_count": null,
      "outputs": [
        {
          "output_type": "execute_result",
          "data": {
            "text/plain": [
              "array([0, 1, 2, 3, 4])"
            ]
          },
          "metadata": {
            "tags": []
          },
          "execution_count": 26
        }
      ]
    },
    {
      "cell_type": "code",
      "metadata": {
        "id": "PBHSLRzBr5Sz",
        "outputId": "2c69c1d5-38f9-420c-aae7-50a7b9f9dbfe",
        "colab": {
          "base_uri": "https://localhost:8080/"
        }
      },
      "source": [
        "ar = np.arange(-5, 5)   # includes -5, excludes 5\n",
        "ar"
      ],
      "execution_count": null,
      "outputs": [
        {
          "output_type": "execute_result",
          "data": {
            "text/plain": [
              "array([-5, -4, -3, -2, -1,  0,  1,  2,  3,  4])"
            ]
          },
          "metadata": {
            "tags": []
          },
          "execution_count": 27
        }
      ]
    },
    {
      "cell_type": "code",
      "metadata": {
        "id": "LbkZh7d_r6Um",
        "outputId": "e887111f-2765-4668-d75d-4685ad744456",
        "colab": {
          "base_uri": "https://localhost:8080/"
        }
      },
      "source": [
        "ar = np.arange(-5, 5, 0.5)    # start, stop, step\n",
        "ar"
      ],
      "execution_count": null,
      "outputs": [
        {
          "output_type": "execute_result",
          "data": {
            "text/plain": [
              "array([-5. , -4.5, -4. , -3.5, -3. , -2.5, -2. , -1.5, -1. , -0.5,  0. ,\n",
              "        0.5,  1. ,  1.5,  2. ,  2.5,  3. ,  3.5,  4. ,  4.5])"
            ]
          },
          "metadata": {
            "tags": []
          },
          "execution_count": 28
        }
      ]
    },
    {
      "cell_type": "code",
      "metadata": {
        "id": "4GQMrbq90m5t",
        "outputId": "bbea69fd-9f4e-42b9-96b7-6973d6b0d90a",
        "colab": {
          "base_uri": "https://localhost:8080/"
        }
      },
      "source": [
        "ln = np.linspace(-5, 5, 20)\n",
        "ln"
      ],
      "execution_count": null,
      "outputs": [
        {
          "output_type": "execute_result",
          "data": {
            "text/plain": [
              "array([-5.        , -4.47368421, -3.94736842, -3.42105263, -2.89473684,\n",
              "       -2.36842105, -1.84210526, -1.31578947, -0.78947368, -0.26315789,\n",
              "        0.26315789,  0.78947368,  1.31578947,  1.84210526,  2.36842105,\n",
              "        2.89473684,  3.42105263,  3.94736842,  4.47368421,  5.        ])"
            ]
          },
          "metadata": {
            "tags": []
          },
          "execution_count": 29
        }
      ]
    },
    {
      "cell_type": "code",
      "metadata": {
        "id": "IqJs3_K_1Ksz",
        "outputId": "0c80d3e8-f040-4c51-fe1a-c4fad267de5d",
        "colab": {
          "base_uri": "https://localhost:8080/"
        }
      },
      "source": [
        "%whos ndarray"
      ],
      "execution_count": null,
      "outputs": [
        {
          "output_type": "stream",
          "text": [
            "Variable   Type       Data/Info\n",
            "-------------------------------\n",
            "a          ndarray    6: 6 elems, type `int64`, 48 bytes\n",
            "ar         ndarray    20: 20 elems, type `float64`, 160 bytes\n",
            "b          ndarray    2x3: 6 elems, type `float64`, 48 bytes\n",
            "c          ndarray    3: 3 elems, type `object`, 24 bytes\n",
            "ln         ndarray    20: 20 elems, type `float64`, 160 bytes\n"
          ],
          "name": "stdout"
        }
      ]
    },
    {
      "cell_type": "markdown",
      "metadata": {
        "id": "etANq-5eq0Vp"
      },
      "source": [
        "### Zeros & Ones"
      ]
    },
    {
      "cell_type": "code",
      "metadata": {
        "id": "x_lZAwwvu_od",
        "outputId": "0f4e9465-f4ff-40ef-d667-54bf13c92123",
        "colab": {
          "base_uri": "https://localhost:8080/"
        }
      },
      "source": [
        "z = np.zeros((2, 3, 5))\n",
        "z"
      ],
      "execution_count": null,
      "outputs": [
        {
          "output_type": "execute_result",
          "data": {
            "text/plain": [
              "array([[[0., 0., 0., 0., 0.],\n",
              "        [0., 0., 0., 0., 0.],\n",
              "        [0., 0., 0., 0., 0.]],\n",
              "\n",
              "       [[0., 0., 0., 0., 0.],\n",
              "        [0., 0., 0., 0., 0.],\n",
              "        [0., 0., 0., 0., 0.]]])"
            ]
          },
          "metadata": {
            "tags": []
          },
          "execution_count": 31
        }
      ]
    },
    {
      "cell_type": "code",
      "metadata": {
        "id": "UPvtpAXW2GhA",
        "outputId": "defe1e3d-37e9-4c1f-f788-4d85613640ce",
        "colab": {
          "base_uri": "https://localhost:8080/"
        }
      },
      "source": [
        "o = np.ones((2, 3, 4, 2))\n",
        "o"
      ],
      "execution_count": null,
      "outputs": [
        {
          "output_type": "execute_result",
          "data": {
            "text/plain": [
              "array([[[[1., 1.],\n",
              "         [1., 1.],\n",
              "         [1., 1.],\n",
              "         [1., 1.]],\n",
              "\n",
              "        [[1., 1.],\n",
              "         [1., 1.],\n",
              "         [1., 1.],\n",
              "         [1., 1.]],\n",
              "\n",
              "        [[1., 1.],\n",
              "         [1., 1.],\n",
              "         [1., 1.],\n",
              "         [1., 1.]]],\n",
              "\n",
              "\n",
              "       [[[1., 1.],\n",
              "         [1., 1.],\n",
              "         [1., 1.],\n",
              "         [1., 1.]],\n",
              "\n",
              "        [[1., 1.],\n",
              "         [1., 1.],\n",
              "         [1., 1.],\n",
              "         [1., 1.]],\n",
              "\n",
              "        [[1., 1.],\n",
              "         [1., 1.],\n",
              "         [1., 1.],\n",
              "         [1., 1.]]]])"
            ]
          },
          "metadata": {
            "tags": []
          },
          "execution_count": 32
        }
      ]
    },
    {
      "cell_type": "code",
      "metadata": {
        "id": "eRcDLfk125Eg",
        "outputId": "5e26ea60-7a92-4964-858c-1e732bceebae",
        "colab": {
          "base_uri": "https://localhost:8080/"
        }
      },
      "source": [
        "e = np.empty((10, ))\n",
        "e"
      ],
      "execution_count": null,
      "outputs": [
        {
          "output_type": "execute_result",
          "data": {
            "text/plain": [
              "array([3.2286668e-316, 0.0000000e+000, 0.0000000e+000, 0.0000000e+000,\n",
              "       0.0000000e+000, 0.0000000e+000, 0.0000000e+000, 0.0000000e+000,\n",
              "       0.0000000e+000, 0.0000000e+000])"
            ]
          },
          "metadata": {
            "tags": []
          },
          "execution_count": 33
        }
      ]
    },
    {
      "cell_type": "markdown",
      "metadata": {
        "id": "bPJjXd--u8ge"
      },
      "source": [
        "### Random values"
      ]
    },
    {
      "cell_type": "code",
      "metadata": {
        "id": "CA7lBCviu_IX",
        "outputId": "8f5ca074-4ea3-463f-b2e1-0ca33bca5e84",
        "colab": {
          "base_uri": "https://localhost:8080/"
        }
      },
      "source": [
        "rn = np.random.randint(0, 10, (3, 4))   # low, high, size(shape)\n",
        "rn"
      ],
      "execution_count": null,
      "outputs": [
        {
          "output_type": "execute_result",
          "data": {
            "text/plain": [
              "array([[6, 5, 6, 6],\n",
              "       [1, 7, 5, 8],\n",
              "       [6, 3, 9, 5]])"
            ]
          },
          "metadata": {
            "tags": []
          },
          "execution_count": 34
        }
      ]
    },
    {
      "cell_type": "code",
      "metadata": {
        "id": "MKtV6iyG3V-C",
        "outputId": "ce2ed429-66d0-42ff-f8de-2352bdbe8de0",
        "colab": {
          "base_uri": "https://localhost:8080/"
        }
      },
      "source": [
        "rn = np.random.rand(3, 4)\n",
        "rn"
      ],
      "execution_count": null,
      "outputs": [
        {
          "output_type": "execute_result",
          "data": {
            "text/plain": [
              "array([[0.50686831, 0.09076964, 0.92103499, 0.29305406],\n",
              "       [0.04924242, 0.66996767, 0.3009527 , 0.6344106 ],\n",
              "       [0.57779368, 0.52594848, 0.91709998, 0.48573592]])"
            ]
          },
          "metadata": {
            "tags": []
          },
          "execution_count": 35
        }
      ]
    },
    {
      "cell_type": "code",
      "metadata": {
        "id": "1bRlTGme3f0S",
        "outputId": "126f14b1-0651-4e44-c87d-297130cfb910",
        "colab": {
          "base_uri": "https://localhost:8080/"
        }
      },
      "source": [
        "nm = np.random.normal(1.0, 5.0, size=1000)\n",
        "nm, nm.mean(), nm.std()"
      ],
      "execution_count": null,
      "outputs": [
        {
          "output_type": "execute_result",
          "data": {
            "text/plain": [
              "(array([ 1.19461992e+01,  3.59241961e+00,  1.99352748e+00, -1.71349872e+00,\n",
              "        -4.71754592e+00,  5.46744247e+00, -7.98389488e+00,  2.69409351e+00,\n",
              "         1.90841710e-01,  4.46807963e+00,  3.47547053e+00, -2.72161012e-01,\n",
              "         5.25328391e+00, -5.12610461e+00,  8.63601987e-01, -3.29707051e+00,\n",
              "         9.23341933e+00,  1.80220867e+00,  1.08557215e+01, -3.12999968e-01,\n",
              "         6.82700603e+00, -3.70479274e+00,  2.77267100e+00, -8.64091624e+00,\n",
              "        -3.21894199e+00,  3.98141470e+00, -1.78442259e+00, -1.69326245e+00,\n",
              "         6.45035166e+00,  1.30063614e+00, -3.71967837e+00,  6.47784310e+00,\n",
              "         4.93322461e+00,  3.31226139e+00,  4.26386096e+00, -4.54256133e-01,\n",
              "        -8.60995929e-01,  6.95802694e-01, -1.95763948e+00,  1.41395451e+00,\n",
              "        -2.37709342e+00,  2.56751522e+00,  6.52085743e+00, -3.12204936e-01,\n",
              "         1.25639579e+00,  2.35984026e+00,  2.26893528e-01,  2.58402230e+00,\n",
              "        -2.18328228e+00, -1.04191055e+01, -8.07454455e+00, -4.73835472e+00,\n",
              "         4.30502961e+00, -5.31236945e+00,  3.58650350e+00, -1.25488594e+00,\n",
              "         2.65843201e+00,  5.42945685e+00,  1.03085884e+01,  7.02643959e+00,\n",
              "        -6.87039513e+00, -1.12234912e+01,  2.63523922e+00,  3.58709903e+00,\n",
              "        -1.67202412e+00, -1.00087553e+00,  1.50287325e+00,  7.15682287e+00,\n",
              "         2.29033897e+00, -6.00680036e+00,  4.10151527e+00,  1.31930376e+00,\n",
              "         1.14103990e+01, -6.60638290e+00,  4.09484776e+00, -3.04880612e+00,\n",
              "        -4.15306988e+00, -3.33372724e+00,  2.62300509e+00, -1.78424224e+00,\n",
              "         3.03096867e+00,  3.25677153e+00,  2.64737463e+00,  3.78055539e+00,\n",
              "        -5.66012367e+00, -5.35696099e+00,  3.15231030e+00, -1.39023551e+00,\n",
              "        -9.88575903e+00,  2.31634227e-01, -1.19348048e+00, -1.27995042e+00,\n",
              "         2.54046586e+00,  4.02806133e+00,  5.22649635e+00,  4.79799981e-01,\n",
              "         3.86815680e+00,  1.93725091e+00,  1.41286597e+01,  5.41250372e+00,\n",
              "        -2.56939276e+00,  3.25444786e+00,  1.07372939e-01, -1.34090113e+00,\n",
              "        -7.40052967e-01, -1.90101235e+00,  6.12030853e+00,  4.81531869e+00,\n",
              "        -6.80087252e+00, -1.93629818e+00, -2.34947861e+00, -9.83406372e-01,\n",
              "        -6.86884113e+00,  2.20764741e+00,  1.87639384e+00,  1.53587290e-01,\n",
              "         8.56662731e+00, -5.97888139e+00,  5.39029254e+00,  2.35488407e+00,\n",
              "        -4.31353880e+00, -2.01194627e-01,  1.30299144e+00, -4.35220316e+00,\n",
              "         1.72652014e-01,  9.39640591e-01, -4.45711462e+00,  7.56246780e+00,\n",
              "         4.45944471e+00,  7.40923987e+00,  5.00208531e+00, -4.71334835e+00,\n",
              "        -1.55951972e+00,  3.70607948e+00, -6.04327636e+00, -5.76022814e+00,\n",
              "        -1.51743726e+00,  1.94165778e-01,  1.74295105e+00, -1.12354113e+00,\n",
              "        -6.74030844e-01, -1.43695162e+00, -6.79429650e+00,  1.19111030e+00,\n",
              "        -6.18005067e+00,  1.38571088e+00,  3.59912763e+00, -3.45609256e+00,\n",
              "        -1.65453829e+00, -1.40886336e+00, -7.15629293e+00,  3.73278289e+00,\n",
              "         5.20014488e+00, -5.47428318e+00, -1.88802525e+00,  4.06097636e+00,\n",
              "        -5.75127012e+00, -1.74153505e+00,  1.66611339e+00, -4.54647805e+00,\n",
              "        -1.67887822e+00, -1.35285944e+00,  1.55490958e+00,  2.58225881e+00,\n",
              "        -1.35271559e+00, -3.37909347e+00,  5.31944965e+00,  5.16219824e+00,\n",
              "         2.60755540e+00, -7.69230484e+00,  4.78687788e+00,  8.18211060e+00,\n",
              "        -1.02717703e+01,  7.32364590e+00, -1.74133116e+00,  5.54845985e+00,\n",
              "        -2.58044221e+00, -6.46724364e+00, -1.32378340e+00, -5.20838963e+00,\n",
              "        -4.18788941e+00, -4.05156732e+00,  3.13536321e+00,  5.25896346e+00,\n",
              "         9.37581567e-01, -1.43439423e+00,  4.91701795e-01, -1.09057452e+01,\n",
              "         4.13788906e+00,  3.38773147e+00,  6.25498986e+00, -8.88564418e+00,\n",
              "         1.37164507e+00,  2.32301111e+00,  1.61736879e+00,  5.57574563e-01,\n",
              "        -8.55024087e-02, -3.08667571e+00,  4.17654128e+00, -8.28772015e+00,\n",
              "        -2.51965533e-01,  4.53895754e+00,  1.04567390e+01,  6.97501359e+00,\n",
              "         2.51551707e-01,  2.66802042e+00,  5.14904149e+00, -9.65619937e+00,\n",
              "        -1.34914724e+01,  2.01314647e+00,  1.43517498e+00,  6.03695062e+00,\n",
              "         4.74343809e-01, -9.29600473e-01,  2.81813686e+00, -2.64111497e+00,\n",
              "        -1.47656491e+01, -4.85721833e+00,  1.08519960e+01,  2.78109426e+00,\n",
              "        -2.10165153e+00, -2.10164656e+00,  5.57231901e+00, -7.59246659e-01,\n",
              "        -4.35431455e+00, -1.83169215e-01, -7.58673116e-01, -3.09203566e+00,\n",
              "         7.56841057e-01,  6.18027073e+00,  4.33267481e+00,  6.51101120e-01,\n",
              "        -2.15072186e+00, -2.84191527e+00,  5.90616979e+00,  1.58128754e+00,\n",
              "         6.09456334e+00,  2.00640783e+00, -2.72665414e+00,  3.49562388e+00,\n",
              "        -3.95004425e+00,  6.65630852e+00,  2.93302477e+00,  5.19902824e+00,\n",
              "         4.85098938e+00,  9.27474532e+00,  5.08672459e-01,  1.02863259e+01,\n",
              "         2.14994217e+00,  9.15001891e+00, -1.93736469e+00, -2.04966966e+00,\n",
              "         4.65237432e+00, -8.42816099e+00,  2.89170481e-01,  2.05066051e+00,\n",
              "         3.77089319e+00,  7.65072498e-01,  6.52865361e+00,  4.66690903e+00,\n",
              "         8.15937389e-01,  4.81161347e+00,  7.66921411e+00, -6.17812505e+00,\n",
              "         4.27822381e+00,  9.93259096e+00,  4.81965319e+00,  7.18261561e+00,\n",
              "         1.18692169e+01,  4.79044198e+00,  3.63821225e+00,  4.14013703e+00,\n",
              "        -8.91969287e-01,  3.24941080e+00,  4.82456905e+00,  4.60235262e+00,\n",
              "        -1.76967125e+00,  6.65062456e+00,  4.34845818e+00,  9.02499850e+00,\n",
              "        -1.18206595e+00, -4.14774257e-01,  2.06488002e+00,  1.24565119e+00,\n",
              "         4.70753727e+00, -2.63108416e+00, -1.59749168e+01,  1.10897484e+01,\n",
              "         4.29488057e+00,  5.56992648e+00,  6.88859535e+00,  5.30307666e+00,\n",
              "        -3.94756927e+00,  8.89882364e+00,  2.85267678e+00, -2.98259582e+00,\n",
              "        -2.75547961e+00, -9.72617666e-01,  6.12684918e+00,  8.68036830e+00,\n",
              "         3.83981720e-01,  2.51874167e+00, -1.57393554e+00,  8.25250230e-01,\n",
              "         5.17892465e-02, -5.77511052e+00, -5.39310366e+00, -6.26144613e+00,\n",
              "        -7.28063550e+00,  3.50473785e+00,  5.15472421e+00, -1.83199494e+00,\n",
              "         5.59656765e+00, -7.47754909e+00,  5.27471438e-01, -2.45740850e+00,\n",
              "        -8.62596458e+00,  4.68660205e-01, -5.57493083e+00, -1.92945234e-01,\n",
              "         5.07978821e+00,  8.84123099e+00,  5.39418955e-01,  1.83526462e+00,\n",
              "        -7.88761575e-01,  9.75726325e+00,  4.54388027e+00,  2.43074228e+00,\n",
              "         3.31283260e+00, -6.16249990e-01, -1.86578159e+00,  7.24676068e+00,\n",
              "        -2.72701473e+00,  1.07190382e+01, -1.22290344e+00,  5.35137100e+00,\n",
              "         2.74514175e+00,  1.15008136e+00,  3.67561213e+00, -2.38142719e+00,\n",
              "         8.61541976e+00,  6.29817584e+00,  8.09838010e+00,  1.41943294e+00,\n",
              "         1.33838753e+01,  5.98063048e-01,  5.54576265e+00,  1.06837182e+01,\n",
              "         9.90244999e+00, -2.45990226e+00, -2.03559154e+00, -1.63191795e+00,\n",
              "         2.39827711e+00, -1.09471465e+00,  5.49285395e+00,  5.73359393e+00,\n",
              "        -5.88434445e+00,  1.13995737e+00,  1.44206766e+00,  2.75717276e+00,\n",
              "         2.09136096e+00, -5.05511384e-01,  2.13005667e+00,  9.90075895e-01,\n",
              "         9.62492807e-01,  1.63816334e+00,  5.78965421e+00, -4.62409203e+00,\n",
              "         9.30902454e+00,  5.11413774e+00,  2.52447409e+00,  1.57778954e-01,\n",
              "        -5.48290501e+00, -3.12446921e+00,  1.56502256e+00,  4.55258306e+00,\n",
              "        -1.93908942e+00, -1.73162650e+00,  5.42160747e-01, -2.49610384e+00,\n",
              "        -2.80167661e+00,  1.28197476e+00, -6.22487117e-01,  4.31140677e-01,\n",
              "        -2.65751869e-01,  6.97065175e-01,  1.71860039e+00,  9.40085316e+00,\n",
              "        -5.24957745e+00,  1.30597329e+00,  2.28411195e-01,  2.99310857e+00,\n",
              "        -9.23788280e+00, -1.14281854e+00,  4.63664144e+00,  6.06007390e+00,\n",
              "        -2.11490996e+00,  3.28287783e+00, -4.72477719e+00, -6.16200855e+00,\n",
              "         4.92623163e+00,  5.95358642e+00, -7.76895465e+00, -3.92356041e+00,\n",
              "         8.15068112e+00,  2.65056992e+00, -3.33467019e+00, -5.15763877e+00,\n",
              "         9.07624901e-02, -1.11646115e+01,  3.12438454e+00, -5.91795967e+00,\n",
              "         1.74560728e+00,  4.74023767e+00, -5.70106839e+00,  7.46074997e+00,\n",
              "         1.02907586e+00, -4.56903897e+00,  9.36699268e+00,  8.61930029e-01,\n",
              "        -5.86929689e-02,  4.15277955e+00,  3.64700971e+00,  7.68617611e+00,\n",
              "         5.71126563e+00,  1.29409061e+00, -1.38062533e+00, -4.20688259e+00,\n",
              "         5.51836901e+00,  2.94289854e+00,  4.30617159e+00, -2.26216697e+00,\n",
              "         3.00332294e+00,  5.04262486e+00,  6.92853883e+00,  3.19316090e+00,\n",
              "         2.33974074e+00,  5.91470876e+00,  7.53181861e+00,  4.48303830e+00,\n",
              "        -3.83300312e+00,  4.87862943e+00,  1.71324388e+00,  1.08939853e+01,\n",
              "         3.79466928e+00,  1.46585321e+00,  3.24059640e+00,  1.37483901e-01,\n",
              "         2.51125084e-01, -5.08881158e+00,  5.32702549e+00, -4.28346944e+00,\n",
              "         2.77397772e+00,  5.55024406e+00,  2.20222434e+00,  1.32794027e+00,\n",
              "         5.57968158e+00,  6.84536599e+00, -1.74156265e+00, -2.59579944e+00,\n",
              "        -1.49956928e-01, -1.84294111e+00,  7.82850442e+00,  9.57969643e-02,\n",
              "         4.39912950e+00,  5.43121876e+00, -1.66972976e+00,  4.09883714e+00,\n",
              "        -2.71159765e+00,  7.02845067e+00,  5.17868549e+00,  9.76497685e+00,\n",
              "         3.10636725e+00,  6.03994540e+00, -1.81261673e+00, -3.47251372e+00,\n",
              "         1.54557160e+00,  2.75992365e+00, -1.36572188e+00,  9.31478356e+00,\n",
              "         3.56914800e+00, -7.80039895e+00, -6.92745916e-02,  3.69713232e+00,\n",
              "         1.80272648e+00, -4.21404258e+00,  8.37101445e+00,  9.77579590e+00,\n",
              "        -6.29036058e+00, -5.26502238e+00,  7.67362114e+00,  5.81893328e+00,\n",
              "        -5.18870403e-01, -5.18945424e+00,  7.01740545e+00,  2.38501099e+00,\n",
              "         4.97335754e+00,  1.37235539e+00,  5.73440379e+00,  9.36891423e+00,\n",
              "         2.34023106e+00,  3.74851472e+00, -1.36429655e+00,  3.19466673e+00,\n",
              "        -1.17716168e+00,  7.98815150e-01,  2.37725682e+00, -4.76170155e+00,\n",
              "         6.32435620e+00,  6.39288866e+00, -5.40388776e+00, -5.29776129e+00,\n",
              "        -1.12734330e+01, -1.46927000e+00,  9.15234482e-01, -6.68494784e-02,\n",
              "         5.52233891e+00,  1.87142626e+00, -3.76019018e+00, -4.25936852e+00,\n",
              "         6.07330532e+00, -8.24953614e+00,  4.20587574e+00, -3.47570698e+00,\n",
              "        -2.47219353e+00,  1.02508841e+01,  2.87448928e+00, -1.85005668e+00,\n",
              "         1.68543096e+00, -1.09861601e+00,  1.26811040e+00,  4.85946342e+00,\n",
              "         7.63112205e+00,  5.47628958e+00, -4.53801029e+00,  3.74222671e+00,\n",
              "         4.16785872e+00,  3.94889688e+00, -3.12518155e+00, -1.27274834e+00,\n",
              "         3.48503979e+00,  4.48631691e-01,  3.99474972e+00,  4.77089140e+00,\n",
              "        -6.15150356e+00, -5.43452520e+00, -1.08111780e-01,  8.51674013e+00,\n",
              "        -5.08599667e+00, -3.27015611e+00, -6.26163259e-01,  1.04310919e+00,\n",
              "         1.25630487e+01, -1.38243212e+00,  1.75404274e+00,  6.06859226e+00,\n",
              "        -1.82955131e+00, -1.15339262e+00,  2.29691604e+00,  8.69066944e+00,\n",
              "        -4.69117604e+00,  2.54792170e+00, -4.62533779e+00, -1.31975234e-01,\n",
              "         4.40272663e-01,  1.00047941e+01,  1.61261310e+00, -8.04490255e+00,\n",
              "        -3.70296551e+00, -4.19778846e+00, -5.31508857e+00,  7.59428000e-01,\n",
              "         1.26318165e+00, -1.22540326e+00, -3.22465535e-01,  1.66031514e+00,\n",
              "        -7.19261629e+00,  5.92290008e+00, -1.35535548e+00,  5.25377436e+00,\n",
              "         7.19636673e+00,  3.40536989e+00,  8.18653909e+00,  4.80423189e+00,\n",
              "         5.58465071e-01,  8.17012483e-01,  1.98693777e+00, -1.31561056e+00,\n",
              "         3.69317192e+00,  1.06731222e+01, -2.98984095e+00,  2.59860715e+00,\n",
              "        -1.17230438e+01,  1.34167800e+00,  8.48770695e+00, -1.55152052e+00,\n",
              "         8.34641154e-01,  1.01599623e+01,  1.48383634e+00, -3.90988521e+00,\n",
              "         5.52767627e+00, -3.05446666e+00, -6.98554071e+00,  3.02118641e+00,\n",
              "         3.39546886e+00, -1.68255468e+00,  2.51308187e+00, -5.20089369e-01,\n",
              "         2.16673220e+00,  2.71310983e+00, -5.02389118e+00, -4.24064971e+00,\n",
              "         2.70254229e+00,  2.93109783e+00, -5.05309747e+00, -8.39723736e+00,\n",
              "         5.20021604e+00,  7.21065377e-01,  1.08691579e+01, -5.07012701e+00,\n",
              "         5.68176170e+00,  4.91045800e-01,  5.13125553e+00, -4.57165668e+00,\n",
              "         1.14009937e+01, -5.64975370e+00,  2.07987712e+00, -5.22632744e+00,\n",
              "        -1.44235580e+00, -2.00329732e+00,  2.12507642e-01,  7.24812259e+00,\n",
              "         8.68436417e+00,  5.37045923e+00, -1.18036167e+00,  1.07755954e+01,\n",
              "        -2.98737782e+00,  8.38029042e+00, -7.24855751e+00, -3.80064553e+00,\n",
              "        -2.33339034e+00,  7.22682050e+00,  2.99447754e+00,  3.98351337e+00,\n",
              "        -3.36562469e+00,  6.50612988e+00,  3.99894911e+00,  3.55051066e+00,\n",
              "         7.25597259e+00,  5.90966485e-01,  6.28775483e+00,  5.84742668e+00,\n",
              "        -9.57217301e+00,  5.08261370e+00,  8.50469638e-01,  3.32152410e+00,\n",
              "        -1.76346343e+00,  1.40701837e+01,  2.13710120e+00,  2.52566725e+00,\n",
              "         1.11682146e+00,  4.28709877e+00, -1.24094059e+00, -8.83884575e+00,\n",
              "         1.27687373e+01,  6.59216745e+00,  4.60415855e+00,  8.80150891e-01,\n",
              "        -7.60141837e+00, -1.11914033e+00,  4.97847324e-01, -5.05387537e-01,\n",
              "         2.35658574e+00,  1.02850647e+01,  7.91190819e-01, -1.36031880e+00,\n",
              "         1.30412217e+00, -4.19109016e+00,  3.06110745e+00, -4.32102407e-01,\n",
              "         2.37146405e+00, -5.92736873e-01, -1.19715098e+00,  1.52040804e+00,\n",
              "         1.10834377e+01, -3.98237020e+00,  2.48370841e+00, -4.84108627e+00,\n",
              "         8.77304692e+00,  7.31717022e+00,  4.58450036e+00, -4.19714615e+00,\n",
              "         8.78245360e-01, -5.31973625e+00,  3.46375368e+00,  6.20674390e+00,\n",
              "         4.27992017e+00,  1.03383927e+01, -6.32652734e+00, -5.47156750e+00,\n",
              "         5.30681723e+00,  1.13049586e+00,  2.59659825e+00,  4.58291863e+00,\n",
              "         1.02054012e+01, -1.04312696e+01, -4.44147525e+00,  6.30921917e-01,\n",
              "         3.92532522e+00, -2.87699138e-01,  1.02649999e+00,  2.81137010e+00,\n",
              "         3.07731831e+00,  1.22096278e+01, -6.08919308e+00, -8.64683048e+00,\n",
              "         2.76265904e+00,  1.72310791e-01,  5.43797076e+00, -8.17731671e-01,\n",
              "         1.07365584e+00, -1.48935053e+00, -2.47647449e+00,  7.42577868e+00,\n",
              "         2.78047355e+00,  3.07474286e-01, -5.60666211e+00, -4.54576483e+00,\n",
              "         7.67041666e+00,  2.41094191e+00,  1.77227620e+00,  1.04312713e+00,\n",
              "         8.05047205e-01,  1.00927280e+01,  4.53759405e+00,  3.83557264e+00,\n",
              "         8.33468282e-01, -4.91406360e+00,  1.58819716e+00,  1.98595730e+00,\n",
              "         9.77617907e-01,  8.28883320e-01,  6.50370558e+00, -4.34424159e+00,\n",
              "         5.98611883e-01,  7.43515023e+00,  1.50888159e+01,  1.70379870e+00,\n",
              "        -1.30539415e+00,  4.73279609e+00, -2.72375643e+00, -2.52427860e+00,\n",
              "         8.93253560e-01,  9.78891672e-01, -4.03790808e+00,  3.26593844e+00,\n",
              "        -4.21686807e+00,  7.82107959e-01, -8.92166088e-01,  1.92175985e-01,\n",
              "         1.00588387e+00,  1.09757131e+00, -2.46885569e-02,  1.05926981e+01,\n",
              "         3.30952981e-01, -5.42063712e-01, -1.92778931e+00,  3.98036469e+00,\n",
              "         1.44626967e+00, -5.13159411e+00, -5.73082381e+00,  9.24026360e-01,\n",
              "         2.22751829e+00, -7.90471730e-01,  1.38482041e+00, -2.57215780e+00,\n",
              "         3.10985713e+00,  1.12709967e+00, -2.56858837e+00, -1.11632095e+01,\n",
              "        -8.27267339e+00,  6.71885303e-01, -2.71611838e+00,  4.23304862e+00,\n",
              "         7.72273964e+00, -6.10763309e+00,  8.13531014e+00, -7.50528689e-01,\n",
              "         4.55210466e+00, -1.74739559e+00, -2.88923483e+00, -2.65772714e+00,\n",
              "         3.48316164e+00, -1.61210559e+00, -5.85804617e+00, -4.12130080e-01,\n",
              "         2.91240788e+00,  6.52202583e-01,  7.03328533e+00, -2.59619925e+00,\n",
              "         8.39408144e+00,  7.25125364e+00,  1.88788099e+00, -4.92633923e-01,\n",
              "        -3.90648734e+00, -3.03406838e+00,  3.69890142e+00, -5.63787728e+00,\n",
              "        -4.64607828e+00, -4.21675281e+00, -2.26173765e+00,  4.20969479e+00,\n",
              "         1.08240851e-01,  1.88637109e+00,  7.13753779e+00,  8.10603925e+00,\n",
              "         6.12223888e-01, -5.66930797e+00,  1.09255498e+00, -1.17263371e+01,\n",
              "        -3.17041592e+00, -7.79223821e+00, -1.06669873e+00, -5.87924972e+00,\n",
              "        -4.47900076e+00,  6.72440649e+00, -6.01920596e-01, -1.99365657e+00,\n",
              "         7.21381646e+00,  6.15586004e-01,  1.07007872e+00, -3.11295010e+00,\n",
              "        -2.22756336e+00,  2.30205723e+00,  7.18983615e+00, -6.99403152e+00,\n",
              "         6.05546688e-01, -1.23131714e+01,  5.77530196e+00,  8.62830052e+00,\n",
              "        -6.59693894e+00, -1.44537358e+00, -1.44830778e+00, -5.42030505e+00,\n",
              "         1.03263778e+01,  2.35836729e+00,  2.13299114e+00, -2.09815597e-01,\n",
              "        -7.27914969e+00,  5.19260750e-01,  5.24157017e+00,  2.49273280e-01,\n",
              "        -3.14599901e+00,  1.31236729e+01,  2.58026240e+00, -6.62747703e-01,\n",
              "         1.35239809e+01, -6.45084977e+00,  5.18900863e-01, -1.20925599e+00,\n",
              "         5.16137505e+00, -3.32645120e-01, -1.27365745e+00,  6.49711121e+00,\n",
              "         2.82583272e+00,  6.71637063e+00,  2.04161999e+00, -1.40203320e+00,\n",
              "        -4.44804039e+00,  2.63056283e+00, -1.90006941e+00, -3.39202945e-01,\n",
              "         2.54783553e+00, -3.18293600e+00,  5.85549807e-01,  8.70569597e+00,\n",
              "        -1.15416620e+00,  2.25571475e+00,  1.84439833e+00,  3.54437399e+00,\n",
              "        -5.91948249e+00,  1.33209643e+00, -6.41565849e+00,  8.74217491e+00,\n",
              "         8.50427567e-03,  1.31931019e+01, -4.19066538e+00,  8.94917822e+00,\n",
              "         6.80233551e+00,  1.21083192e+01, -6.08741147e+00, -4.12902697e+00,\n",
              "         8.71219890e+00, -3.73935812e+00, -7.40742962e+00,  5.96665188e+00,\n",
              "         2.48371254e+00,  1.74850713e+01,  1.04656254e+01,  1.77609557e+00,\n",
              "         9.95672543e-01,  4.66102290e+00,  4.08967836e+00,  6.83389381e+00,\n",
              "        -3.60897042e-02,  1.55426745e+00,  5.71851179e+00,  9.21092062e+00,\n",
              "        -7.23957228e+00,  8.03302660e+00,  1.04610719e+01,  3.88584180e+00,\n",
              "        -6.07633363e+00, -7.44816307e+00,  1.03405966e+01,  2.97123986e+00,\n",
              "         2.17850930e+00,  4.59646482e+00, -8.97373458e+00,  4.32368569e+00,\n",
              "         3.69082955e+00, -8.84255784e-01, -5.77074523e+00, -1.39617765e+00,\n",
              "         6.26030883e-01,  8.53193069e-01,  5.66660342e+00,  1.15735402e+00,\n",
              "         4.42595905e+00,  5.17610038e+00,  6.78011706e+00, -2.44871223e+00,\n",
              "         4.41748814e+00,  8.08764792e+00,  1.06846259e+00, -5.61853448e+00,\n",
              "        -8.84098154e-01,  2.57008490e+00, -1.16511170e+00, -1.86119561e-01,\n",
              "        -7.41472695e+00, -1.99314144e+00,  8.61618475e+00,  4.91469530e+00,\n",
              "        -2.18560738e-01, -2.57673156e+00, -4.44664402e+00, -4.82918079e+00,\n",
              "         1.14581489e+01,  5.86117922e-01,  3.36662634e+00,  4.33883122e+00,\n",
              "         3.67655984e+00, -8.37431882e-01, -1.10127747e+01, -2.68081496e+00,\n",
              "        -9.40158934e+00,  1.18085475e+00, -1.53411185e+01, -2.63929125e+00,\n",
              "         2.07284025e+00,  8.91377538e+00, -2.05539189e+00,  1.14050832e+01,\n",
              "         7.38889298e-01,  3.44409527e+00, -4.96568662e-02,  1.13129464e+01,\n",
              "         1.58818697e+00,  5.81820714e-01, -9.40992143e+00,  5.46682388e+00,\n",
              "        -3.02170601e+00, -1.46001567e+00,  1.43279750e+00,  3.36300460e+00,\n",
              "         1.65982540e+00, -6.12418089e+00,  2.06315977e+00,  4.57158177e+00,\n",
              "         6.42398799e-01, -1.25129446e+00,  6.25059556e+00,  7.71588795e+00,\n",
              "        -3.26275184e+00,  2.38662979e+00, -1.56529386e+00,  8.34771891e+00,\n",
              "        -3.89754624e+00, -3.40443866e+00, -1.05965307e+01,  1.03262881e+01,\n",
              "         5.17935250e+00,  5.75150548e+00,  6.07456397e-01, -6.22616455e+00,\n",
              "         1.02302346e+01, -3.10874644e+00, -2.67978475e+00, -5.97792232e+00]),\n",
              " 1.098786719660452,\n",
              " 5.041865883884383)"
            ]
          },
          "metadata": {
            "tags": []
          },
          "execution_count": 36
        }
      ]
    },
    {
      "cell_type": "markdown",
      "metadata": {
        "id": "nCCqvf1Ds5Ze"
      },
      "source": [
        "\n",
        "## Accessing & Indexing Arrays"
      ]
    },
    {
      "cell_type": "markdown",
      "metadata": {
        "id": "rgUp5cG_tHVG"
      },
      "source": [
        "### Basic Indexing, Slicing\n",
        "\n",
        "From numpy docs:\n",
        "* Basic slicing extends Python’s basic concept of slicing to N dimensions.\n",
        "* Basic slicing occurs when obj is a **slice object** (constructed by start:stop:step notation inside of brackets), an **integer**, or a **tuple of slice objects and integers**. Ellipsis and newaxis objects can be interspersed with these as well."
      ]
    },
    {
      "cell_type": "code",
      "metadata": {
        "id": "IFlWGgDv5kj5",
        "outputId": "06e8a30d-f0e3-4db9-a0e0-a9159d8110b5",
        "colab": {
          "base_uri": "https://localhost:8080/"
        }
      },
      "source": [
        "a = np.array([1, 3, 5, 2, 4, 6])\n",
        "a[2], a[2:5], a[:2]"
      ],
      "execution_count": null,
      "outputs": [
        {
          "output_type": "execute_result",
          "data": {
            "text/plain": [
              "(5, array([5, 2, 4]), array([1, 3]))"
            ]
          },
          "metadata": {
            "tags": []
          },
          "execution_count": 37
        }
      ]
    },
    {
      "cell_type": "code",
      "metadata": {
        "id": "tEt7IQdX57_p",
        "outputId": "75a782b1-ab5d-4f62-fed3-779fc99caf0d",
        "colab": {
          "base_uri": "https://localhost:8080/"
        }
      },
      "source": [
        "b = np.array([[1, 3, 5], \n",
        "              [2, 4, 6]])\n",
        "b[1], b[:1], b[1:]"
      ],
      "execution_count": null,
      "outputs": [
        {
          "output_type": "execute_result",
          "data": {
            "text/plain": [
              "(array([2, 4, 6]), array([[1, 3, 5]]), array([[2, 4, 6]]))"
            ]
          },
          "metadata": {
            "tags": []
          },
          "execution_count": 38
        }
      ]
    },
    {
      "cell_type": "code",
      "metadata": {
        "id": "bDdP6DUy6HVr",
        "outputId": "80f2f2a0-b038-4f65-d5bc-f76809ae2d4d",
        "colab": {
          "base_uri": "https://localhost:8080/"
        }
      },
      "source": [
        "b[-1, 2], b[0, :2]    # [ax0, ax1, ...]"
      ],
      "execution_count": null,
      "outputs": [
        {
          "output_type": "execute_result",
          "data": {
            "text/plain": [
              "(6, array([1, 3]))"
            ]
          },
          "metadata": {
            "tags": []
          },
          "execution_count": 39
        }
      ]
    },
    {
      "cell_type": "code",
      "metadata": {
        "id": "7iv76Cb7784Y",
        "outputId": "385a2076-fdc3-4533-a463-c13322c657ad",
        "colab": {
          "base_uri": "https://localhost:8080/"
        }
      },
      "source": [
        "nm = np.random.normal(size=10)\n",
        "print(nm)\n",
        "nm[0:8:2]    # [start:stop:step, ]"
      ],
      "execution_count": null,
      "outputs": [
        {
          "output_type": "stream",
          "text": [
            "[-0.08150409  0.4024019   0.08858401  0.11278456 -0.43865788 -0.20996886\n",
            "  0.22493608  1.05259873 -0.4198612  -0.02351037]\n"
          ],
          "name": "stdout"
        },
        {
          "output_type": "execute_result",
          "data": {
            "text/plain": [
              "array([-0.08150409,  0.08858401, -0.43865788,  0.22493608])"
            ]
          },
          "metadata": {
            "tags": []
          },
          "execution_count": 40
        }
      ]
    },
    {
      "cell_type": "markdown",
      "metadata": {
        "id": "0XtA78e-8QXn"
      },
      "source": [
        "### Advanced Indexing\n",
        "\n",
        "Again from numpy docs:\n",
        "\n",
        "* Advanced indexing is triggered when the selection object, *obj*, is a **non-tuple sequence** object, an **ndarray** (of data type integer or bool), or a **tuple with at least one sequence object or ndarray** (of data type integer or bool). \n",
        "* There are two types of advanced indexing: **integer** and **Boolean**."
      ]
    },
    {
      "cell_type": "code",
      "metadata": {
        "id": "IF-LSn6h9aHF",
        "outputId": "adcaea3e-1bf3-4521-d981-f7206fb93fe1",
        "colab": {
          "base_uri": "https://localhost:8080/"
        }
      },
      "source": [
        "a = np.array([1, 3, 5, 2, 4, 6])\n",
        "a[[3, 5, 0]]    # non-tuple sequence, a[(3, 5, 0)] returns error! why?"
      ],
      "execution_count": null,
      "outputs": [
        {
          "output_type": "execute_result",
          "data": {
            "text/plain": [
              "array([2, 6, 1])"
            ]
          },
          "metadata": {
            "tags": []
          },
          "execution_count": 41
        }
      ]
    },
    {
      "cell_type": "code",
      "metadata": {
        "id": "arRoPGGaBdUl",
        "outputId": "23ec7795-97b9-4171-b05b-d0a784ca7771",
        "colab": {
          "base_uri": "https://localhost:8080/"
        }
      },
      "source": [
        "print(nm)\n",
        "print(a)\n",
        "nm[a]   # indexing with another ndarray"
      ],
      "execution_count": null,
      "outputs": [
        {
          "output_type": "stream",
          "text": [
            "[-0.08150409  0.4024019   0.08858401  0.11278456 -0.43865788 -0.20996886\n",
            "  0.22493608  1.05259873 -0.4198612  -0.02351037]\n",
            "[1 3 5 2 4 6]\n"
          ],
          "name": "stdout"
        },
        {
          "output_type": "execute_result",
          "data": {
            "text/plain": [
              "array([ 0.4024019 ,  0.11278456, -0.20996886,  0.08858401, -0.43865788,\n",
              "        0.22493608])"
            ]
          },
          "metadata": {
            "tags": []
          },
          "execution_count": 42
        }
      ]
    },
    {
      "cell_type": "code",
      "metadata": {
        "id": "9LRicyUjB_nc",
        "outputId": "43c52eeb-3073-4d06-d195-0d31ba522a8f",
        "colab": {
          "base_uri": "https://localhost:8080/"
        }
      },
      "source": [
        "b = np.array([[1, 3, 5], \n",
        "              [2, 4, 6]])\n",
        "b[[1, 0, 1], [0, 2, 1]]   # tuple of sequence objects"
      ],
      "execution_count": null,
      "outputs": [
        {
          "output_type": "execute_result",
          "data": {
            "text/plain": [
              "array([2, 5, 4])"
            ]
          },
          "metadata": {
            "tags": []
          },
          "execution_count": 43
        }
      ]
    },
    {
      "cell_type": "code",
      "metadata": {
        "id": "ypZbUjT8EVTl",
        "outputId": "2e795636-ce31-457a-f35b-eb19c7a9687f",
        "colab": {
          "base_uri": "https://localhost:8080/"
        }
      },
      "source": [
        "print(b > 2)\n",
        "b[b>2]    # boolean indexing"
      ],
      "execution_count": null,
      "outputs": [
        {
          "output_type": "stream",
          "text": [
            "[[False  True  True]\n",
            " [False  True  True]]\n"
          ],
          "name": "stdout"
        },
        {
          "output_type": "execute_result",
          "data": {
            "text/plain": [
              "array([3, 5, 4, 6])"
            ]
          },
          "metadata": {
            "tags": []
          },
          "execution_count": 44
        }
      ]
    },
    {
      "cell_type": "markdown",
      "metadata": {
        "id": "4A3DLrGQ9Mky"
      },
      "source": [
        "### Views & Copies\n",
        "\n",
        "It is very important to know what you get by indexing an array?\n",
        "* a view of original array?\n",
        "* or a copy of it?"
      ]
    },
    {
      "cell_type": "code",
      "metadata": {
        "id": "Jz95cayZDCMA",
        "outputId": "6d07e300-1d3b-4848-aba7-dd1e7d2bf34c",
        "colab": {
          "base_uri": "https://localhost:8080/"
        }
      },
      "source": [
        "a = np.array([1, 3, 5, 2, 4, 6])\n",
        "x = a[:4]\n",
        "x"
      ],
      "execution_count": null,
      "outputs": [
        {
          "output_type": "execute_result",
          "data": {
            "text/plain": [
              "array([1, 3, 5, 2])"
            ]
          },
          "metadata": {
            "tags": []
          },
          "execution_count": 45
        }
      ]
    },
    {
      "cell_type": "code",
      "metadata": {
        "id": "LI6hcxjPEzfZ",
        "outputId": "ea58c478-0d50-4667-e59b-61e5b80c3783",
        "colab": {
          "base_uri": "https://localhost:8080/"
        }
      },
      "source": [
        "a[2] = -100\n",
        "x     # x was a view of a"
      ],
      "execution_count": null,
      "outputs": [
        {
          "output_type": "execute_result",
          "data": {
            "text/plain": [
              "array([   1,    3, -100,    2])"
            ]
          },
          "metadata": {
            "tags": []
          },
          "execution_count": 46
        }
      ]
    },
    {
      "cell_type": "code",
      "metadata": {
        "id": "soBb47WOE5vl",
        "outputId": "3f444322-7805-4fb3-9963-e647d730a7e2",
        "colab": {
          "base_uri": "https://localhost:8080/"
        }
      },
      "source": [
        "a = np.array([1, 3, 5, 2, 4, 6])\n",
        "x = a[[3, 0, 2]]\n",
        "x"
      ],
      "execution_count": null,
      "outputs": [
        {
          "output_type": "execute_result",
          "data": {
            "text/plain": [
              "array([2, 1, 5])"
            ]
          },
          "metadata": {
            "tags": []
          },
          "execution_count": 47
        }
      ]
    },
    {
      "cell_type": "code",
      "metadata": {
        "id": "AbBFKOiuFBHR",
        "outputId": "0720a16e-c527-485b-b601-71ded070c9b3",
        "colab": {
          "base_uri": "https://localhost:8080/"
        }
      },
      "source": [
        "a[2] = -100\n",
        "x     # x was a copy of a"
      ],
      "execution_count": null,
      "outputs": [
        {
          "output_type": "execute_result",
          "data": {
            "text/plain": [
              "array([2, 1, 5])"
            ]
          },
          "metadata": {
            "tags": []
          },
          "execution_count": 48
        }
      ]
    },
    {
      "cell_type": "markdown",
      "metadata": {
        "id": "YxH58FrJFFS0"
      },
      "source": [
        "#### Remember\n",
        "* What you get by **basic indexing** is a **view** of the original array.\n",
        "* But **advanced indexing** returns a **copy** of it."
      ]
    },
    {
      "cell_type": "markdown",
      "metadata": {
        "id": "6G2q3BMQFufz"
      },
      "source": [
        "### Reshaping Arrays\n",
        "\n",
        "We can change the number of array dimensions and the size of each dimension as long as the total number of array elements remains the same."
      ]
    },
    {
      "cell_type": "code",
      "metadata": {
        "id": "_zhVS7vHHXfV",
        "outputId": "acb9b0d8-a01f-4a3b-ee5f-96a64912ef1a",
        "colab": {
          "base_uri": "https://localhost:8080/"
        }
      },
      "source": [
        "b = np.array([[1., 3, 5], [2, 4, 6]])\n",
        "b.shape"
      ],
      "execution_count": null,
      "outputs": [
        {
          "output_type": "execute_result",
          "data": {
            "text/plain": [
              "(2, 3)"
            ]
          },
          "metadata": {
            "tags": []
          },
          "execution_count": 49
        }
      ]
    },
    {
      "cell_type": "code",
      "metadata": {
        "id": "LeXRQ9EDHfL5",
        "outputId": "282b76fb-4a25-444b-d33a-8d2e9a6a3767",
        "colab": {
          "base_uri": "https://localhost:8080/"
        }
      },
      "source": [
        "print('6:\\t', b.reshape(6))   \n",
        "print('(6,):\\t', b.reshape((6,)))   \n",
        "print('(1, 6):\\t', b.reshape((1, 6)))\n",
        "print('\\n(6, 1):\\n', b.reshape((6, 1)))"
      ],
      "execution_count": null,
      "outputs": [
        {
          "output_type": "stream",
          "text": [
            "6:\t [1. 3. 5. 2. 4. 6.]\n",
            "(6,):\t [1. 3. 5. 2. 4. 6.]\n",
            "(1, 6):\t [[1. 3. 5. 2. 4. 6.]]\n",
            "\n",
            "(6, 1):\n",
            " [[1.]\n",
            " [3.]\n",
            " [5.]\n",
            " [2.]\n",
            " [4.]\n",
            " [6.]]\n"
          ],
          "name": "stdout"
        }
      ]
    },
    {
      "cell_type": "code",
      "metadata": {
        "id": "iJHqjTz-HjOo",
        "outputId": "cb526513-0f41-454a-8fcf-0c7472b67af8",
        "colab": {
          "base_uri": "https://localhost:8080/",
          "height": 180
        }
      },
      "source": [
        "b.reshape((3, 4))"
      ],
      "execution_count": null,
      "outputs": [
        {
          "output_type": "error",
          "ename": "ValueError",
          "evalue": "ignored",
          "traceback": [
            "\u001b[0;31m---------------------------------------------------------------------------\u001b[0m",
            "\u001b[0;31mValueError\u001b[0m                                Traceback (most recent call last)",
            "\u001b[0;32m<ipython-input-51-5cc76b7be508>\u001b[0m in \u001b[0;36m<module>\u001b[0;34m()\u001b[0m\n\u001b[0;32m----> 1\u001b[0;31m \u001b[0mb\u001b[0m\u001b[0;34m.\u001b[0m\u001b[0mreshape\u001b[0m\u001b[0;34m(\u001b[0m\u001b[0;34m(\u001b[0m\u001b[0;36m3\u001b[0m\u001b[0;34m,\u001b[0m \u001b[0;36m4\u001b[0m\u001b[0;34m)\u001b[0m\u001b[0;34m)\u001b[0m\u001b[0;34m\u001b[0m\u001b[0;34m\u001b[0m\u001b[0m\n\u001b[0m",
            "\u001b[0;31mValueError\u001b[0m: cannot reshape array of size 6 into shape (3,4)"
          ]
        }
      ]
    },
    {
      "cell_type": "code",
      "metadata": {
        "id": "lOH8PBE_Hq4h",
        "outputId": "2e5a3394-5744-48da-85f4-9bf228a97534",
        "colab": {
          "base_uri": "https://localhost:8080/"
        }
      },
      "source": [
        "b.reshape((-1, 2))    # we dont know/care about axis-0"
      ],
      "execution_count": null,
      "outputs": [
        {
          "output_type": "execute_result",
          "data": {
            "text/plain": [
              "array([[1., 3.],\n",
              "       [5., 2.],\n",
              "       [4., 6.]])"
            ]
          },
          "metadata": {
            "tags": []
          },
          "execution_count": 52
        }
      ]
    },
    {
      "cell_type": "markdown",
      "metadata": {
        "id": "SV7EqKaGFywU"
      },
      "source": [
        "## Array Mathematics"
      ]
    },
    {
      "cell_type": "markdown",
      "metadata": {
        "id": "v0CC5-1RD19R"
      },
      "source": [
        "### Basic math"
      ]
    },
    {
      "cell_type": "code",
      "metadata": {
        "id": "cOysk2ZRdMrs",
        "outputId": "59bc5262-a8f7-46dd-ac71-cab485faf09a",
        "colab": {
          "base_uri": "https://localhost:8080/"
        }
      },
      "source": [
        "x = np.array([[1., 2, 3],\n",
        "              [4, 5, 6]])\n",
        "y = np.array([[3., -1, -2],\n",
        "              [4, 7, 0]])\n",
        "print(x.shape, y.shape)"
      ],
      "execution_count": null,
      "outputs": [
        {
          "output_type": "stream",
          "text": [
            "(2, 3) (2, 3)\n"
          ],
          "name": "stdout"
        }
      ]
    },
    {
      "cell_type": "code",
      "metadata": {
        "id": "ZEEjHfDpeMKd",
        "outputId": "c31d6d2a-4b3c-4324-b28b-a7ccf94327e3",
        "colab": {
          "base_uri": "https://localhost:8080/"
        }
      },
      "source": [
        "x + y"
      ],
      "execution_count": null,
      "outputs": [
        {
          "output_type": "execute_result",
          "data": {
            "text/plain": [
              "array([[ 4.,  1.,  1.],\n",
              "       [ 8., 12.,  6.]])"
            ]
          },
          "metadata": {
            "tags": []
          },
          "execution_count": 54
        }
      ]
    },
    {
      "cell_type": "code",
      "metadata": {
        "id": "kFiUpTR8dnY_",
        "outputId": "d08e7d7e-f21f-4644-ae69-9a615a7709bd",
        "colab": {
          "base_uri": "https://localhost:8080/"
        }
      },
      "source": [
        "x * y     "
      ],
      "execution_count": null,
      "outputs": [
        {
          "output_type": "execute_result",
          "data": {
            "text/plain": [
              "array([[ 3., -2., -6.],\n",
              "       [16., 35.,  0.]])"
            ]
          },
          "metadata": {
            "tags": []
          },
          "execution_count": 55
        }
      ]
    },
    {
      "cell_type": "code",
      "metadata": {
        "id": "vT-JX4HddrDb",
        "outputId": "e83e68bc-6da1-4d66-807f-44e47ed12d15",
        "colab": {
          "base_uri": "https://localhost:8080/"
        }
      },
      "source": [
        "x ** y"
      ],
      "execution_count": null,
      "outputs": [
        {
          "output_type": "execute_result",
          "data": {
            "text/plain": [
              "array([[1.00000000e+00, 5.00000000e-01, 1.11111111e-01],\n",
              "       [2.56000000e+02, 7.81250000e+04, 1.00000000e+00]])"
            ]
          },
          "metadata": {
            "tags": []
          },
          "execution_count": 56
        }
      ]
    },
    {
      "cell_type": "code",
      "metadata": {
        "id": "EIIQyF2wePA-",
        "outputId": "c703bc43-2543-4ebc-beb6-6fe7ddaae516",
        "colab": {
          "base_uri": "https://localhost:8080/"
        }
      },
      "source": [
        "x / y"
      ],
      "execution_count": null,
      "outputs": [
        {
          "output_type": "stream",
          "text": [
            "/usr/local/lib/python3.6/dist-packages/ipykernel_launcher.py:1: RuntimeWarning: divide by zero encountered in true_divide\n",
            "  \"\"\"Entry point for launching an IPython kernel.\n"
          ],
          "name": "stderr"
        },
        {
          "output_type": "execute_result",
          "data": {
            "text/plain": [
              "array([[ 0.33333333, -2.        , -1.5       ],\n",
              "       [ 1.        ,  0.71428571,         inf]])"
            ]
          },
          "metadata": {
            "tags": []
          },
          "execution_count": 57
        }
      ]
    },
    {
      "cell_type": "code",
      "metadata": {
        "id": "2sGOE8ozpeSd",
        "outputId": "d58cd3df-33a7-46a8-fd8d-7c7bffba04a7",
        "colab": {
          "base_uri": "https://localhost:8080/"
        }
      },
      "source": [
        "x[x > y]"
      ],
      "execution_count": null,
      "outputs": [
        {
          "output_type": "execute_result",
          "data": {
            "text/plain": [
              "array([2., 3., 6.])"
            ]
          },
          "metadata": {
            "tags": []
          },
          "execution_count": 58
        }
      ]
    },
    {
      "cell_type": "code",
      "metadata": {
        "id": "MyQhSzNZput5",
        "outputId": "fdeaad9c-8947-45c6-99d2-20cb9f6d358d",
        "colab": {
          "base_uri": "https://localhost:8080/"
        }
      },
      "source": [
        "x == y"
      ],
      "execution_count": null,
      "outputs": [
        {
          "output_type": "execute_result",
          "data": {
            "text/plain": [
              "array([[False, False, False],\n",
              "       [ True, False, False]])"
            ]
          },
          "metadata": {
            "tags": []
          },
          "execution_count": 59
        }
      ]
    },
    {
      "cell_type": "markdown",
      "metadata": {
        "id": "VSnb2L8DcRJ-"
      },
      "source": [
        "### Arrays with different shape\n",
        "Numpy operations are usually done on pairs of arrays on an element-by-element basis. In the simplest case, the two arrays must have exactly the same shape, as in the above examples.\n",
        "\n",
        "Numpy’s **broadcasting** rule relaxes this constraint when the arrays’ shapes meet certain constraints.\n",
        "\n",
        "Read more on [numpy docs](https://numpy.org/doc/stable/user/basics.broadcasting.html)."
      ]
    },
    {
      "cell_type": "code",
      "metadata": {
        "id": "3q2GYSaAelJi",
        "outputId": "445a2d91-9964-49e8-84d2-38d90d94513f",
        "colab": {
          "base_uri": "https://localhost:8080/"
        }
      },
      "source": [
        "x + 10      # simplest form of broadcasting"
      ],
      "execution_count": null,
      "outputs": [
        {
          "output_type": "execute_result",
          "data": {
            "text/plain": [
              "array([[11., 12., 13.],\n",
              "       [14., 15., 16.]])"
            ]
          },
          "metadata": {
            "tags": []
          },
          "execution_count": 60
        }
      ]
    },
    {
      "cell_type": "code",
      "metadata": {
        "id": "8igmzuXKjrjj",
        "outputId": "028ac0f6-ec28-4363-dbfb-10cac20bb27a",
        "colab": {
          "base_uri": "https://localhost:8080/"
        }
      },
      "source": [
        "x + np.array([1, 2, 3])"
      ],
      "execution_count": null,
      "outputs": [
        {
          "output_type": "execute_result",
          "data": {
            "text/plain": [
              "array([[2., 4., 6.],\n",
              "       [5., 7., 9.]])"
            ]
          },
          "metadata": {
            "tags": []
          },
          "execution_count": 61
        }
      ]
    },
    {
      "cell_type": "code",
      "metadata": {
        "id": "z-aK_AvijhlK",
        "outputId": "8e3e5186-5f48-476c-daec-4a06a0e4723b",
        "colab": {
          "base_uri": "https://localhost:8080/",
          "height": 180
        }
      },
      "source": [
        "x + np.array([1, 2, 3, 4, 5])"
      ],
      "execution_count": null,
      "outputs": [
        {
          "output_type": "error",
          "ename": "ValueError",
          "evalue": "ignored",
          "traceback": [
            "\u001b[0;31m---------------------------------------------------------------------------\u001b[0m",
            "\u001b[0;31mValueError\u001b[0m                                Traceback (most recent call last)",
            "\u001b[0;32m<ipython-input-62-43591ba098a4>\u001b[0m in \u001b[0;36m<module>\u001b[0;34m()\u001b[0m\n\u001b[0;32m----> 1\u001b[0;31m \u001b[0mx\u001b[0m \u001b[0;34m+\u001b[0m \u001b[0mnp\u001b[0m\u001b[0;34m.\u001b[0m\u001b[0marray\u001b[0m\u001b[0;34m(\u001b[0m\u001b[0;34m[\u001b[0m\u001b[0;36m1\u001b[0m\u001b[0;34m,\u001b[0m \u001b[0;36m2\u001b[0m\u001b[0;34m,\u001b[0m \u001b[0;36m3\u001b[0m\u001b[0;34m,\u001b[0m \u001b[0;36m4\u001b[0m\u001b[0;34m,\u001b[0m \u001b[0;36m5\u001b[0m\u001b[0;34m]\u001b[0m\u001b[0;34m)\u001b[0m\u001b[0;34m\u001b[0m\u001b[0;34m\u001b[0m\u001b[0m\n\u001b[0m",
            "\u001b[0;31mValueError\u001b[0m: operands could not be broadcast together with shapes (2,3) (5,) "
          ]
        }
      ]
    },
    {
      "cell_type": "code",
      "metadata": {
        "id": "USeGZNglj-eM",
        "outputId": "ae56b2ce-3c8f-4005-ba5e-da1a4c1fe70a",
        "colab": {
          "base_uri": "https://localhost:8080/",
          "height": 180
        }
      },
      "source": [
        "x + np.array([1, 2])"
      ],
      "execution_count": null,
      "outputs": [
        {
          "output_type": "error",
          "ename": "ValueError",
          "evalue": "ignored",
          "traceback": [
            "\u001b[0;31m---------------------------------------------------------------------------\u001b[0m",
            "\u001b[0;31mValueError\u001b[0m                                Traceback (most recent call last)",
            "\u001b[0;32m<ipython-input-63-f54516b353c5>\u001b[0m in \u001b[0;36m<module>\u001b[0;34m()\u001b[0m\n\u001b[0;32m----> 1\u001b[0;31m \u001b[0mx\u001b[0m \u001b[0;34m+\u001b[0m \u001b[0mnp\u001b[0m\u001b[0;34m.\u001b[0m\u001b[0marray\u001b[0m\u001b[0;34m(\u001b[0m\u001b[0;34m[\u001b[0m\u001b[0;36m1\u001b[0m\u001b[0;34m,\u001b[0m \u001b[0;36m2\u001b[0m\u001b[0;34m]\u001b[0m\u001b[0;34m)\u001b[0m\u001b[0;34m\u001b[0m\u001b[0;34m\u001b[0m\u001b[0m\n\u001b[0m",
            "\u001b[0;31mValueError\u001b[0m: operands could not be broadcast together with shapes (2,3) (2,) "
          ]
        }
      ]
    },
    {
      "cell_type": "markdown",
      "metadata": {
        "id": "e6UblucmjTUL"
      },
      "source": [
        "Two dimensions are compatible when\n",
        "* they are equal, or\n",
        "* one of them is 1\n",
        "\n",
        "Also Arrays do not need to have the same number of dimensions. Lining up the sizes of the **trailing axes** of these arrays according to the broadcast rules, shows that they are compatible...\n",
        "\n",
        "```\n",
        "A      (2d array):  5 x 4\n",
        "B      (1d array):      1\n",
        "Result (2d array):  5 x 4\n",
        "\n",
        "Image  (3d array): 256 x 256 x 3\n",
        "Scale  (1d array):             3\n",
        "Result (3d array): 256 x 256 x 3\n",
        "\n",
        "A      (4d array):  8 x 1 x 6 x 1\n",
        "B      (3d array):      7 x 1 x 9\n",
        "Result          ???\n",
        "```"
      ]
    },
    {
      "cell_type": "code",
      "metadata": {
        "id": "5fhLYoVpesMB",
        "outputId": "6f5418ce-0dc6-4803-f9e0-2e42a5868197",
        "colab": {
          "base_uri": "https://localhost:8080/"
        }
      },
      "source": [
        "x = np.array([[1., 2, 3],\n",
        "              [4, 5, 6]])\n",
        "y = np.array([[3., -1, -2],\n",
        "              [5, 7, 0]])\n",
        "y1 = y[1]\n",
        "y2 = y[:, 2]\n",
        "print(x.shape, y.shape)\n",
        "print(y1.shape, y2.shape)"
      ],
      "execution_count": null,
      "outputs": [
        {
          "output_type": "stream",
          "text": [
            "(2, 3) (2, 3)\n",
            "(3,) (2,)\n"
          ],
          "name": "stdout"
        }
      ]
    },
    {
      "cell_type": "code",
      "metadata": {
        "id": "oF3aMe6BfGEk",
        "outputId": "5962b34e-2927-4f95-a319-541a3573c597",
        "colab": {
          "base_uri": "https://localhost:8080/"
        }
      },
      "source": [
        "x + y1"
      ],
      "execution_count": null,
      "outputs": [
        {
          "output_type": "execute_result",
          "data": {
            "text/plain": [
              "array([[ 6.,  9.,  3.],\n",
              "       [ 9., 12.,  6.]])"
            ]
          },
          "metadata": {
            "tags": []
          },
          "execution_count": 65
        }
      ]
    },
    {
      "cell_type": "code",
      "metadata": {
        "id": "Iy0ItevafJFn",
        "outputId": "633f61e4-15cd-4a19-d9f0-447037aaf9c1",
        "colab": {
          "base_uri": "https://localhost:8080/",
          "height": 180
        }
      },
      "source": [
        "x + y2"
      ],
      "execution_count": null,
      "outputs": [
        {
          "output_type": "error",
          "ename": "ValueError",
          "evalue": "ignored",
          "traceback": [
            "\u001b[0;31m---------------------------------------------------------------------------\u001b[0m",
            "\u001b[0;31mValueError\u001b[0m                                Traceback (most recent call last)",
            "\u001b[0;32m<ipython-input-66-f76c5dfdae89>\u001b[0m in \u001b[0;36m<module>\u001b[0;34m()\u001b[0m\n\u001b[0;32m----> 1\u001b[0;31m \u001b[0mx\u001b[0m \u001b[0;34m+\u001b[0m \u001b[0my2\u001b[0m\u001b[0;34m\u001b[0m\u001b[0;34m\u001b[0m\u001b[0m\n\u001b[0m",
            "\u001b[0;31mValueError\u001b[0m: operands could not be broadcast together with shapes (2,3) (2,) "
          ]
        }
      ]
    },
    {
      "cell_type": "code",
      "metadata": {
        "id": "UBec9zyDfOEB",
        "outputId": "f663c464-d227-4347-aa5b-68ed0c3427be",
        "colab": {
          "base_uri": "https://localhost:8080/"
        }
      },
      "source": [
        "x + y2.reshape(2, 1)    "
      ],
      "execution_count": null,
      "outputs": [
        {
          "output_type": "execute_result",
          "data": {
            "text/plain": [
              "array([[-1.,  0.,  1.],\n",
              "       [ 4.,  5.,  6.]])"
            ]
          },
          "metadata": {
            "tags": []
          },
          "execution_count": 67
        }
      ]
    },
    {
      "cell_type": "markdown",
      "metadata": {
        "id": "Rt7gFM8kqUwg"
      },
      "source": [
        "### Array assignment"
      ]
    },
    {
      "cell_type": "code",
      "metadata": {
        "id": "iYCiEbRCqaxn",
        "outputId": "768d16c8-01fd-4e48-9ed2-93dbd3a9e1fd",
        "colab": {
          "base_uri": "https://localhost:8080/"
        }
      },
      "source": [
        "x = np.ones((3, 4))\n",
        "x"
      ],
      "execution_count": null,
      "outputs": [
        {
          "output_type": "execute_result",
          "data": {
            "text/plain": [
              "array([[1., 1., 1., 1.],\n",
              "       [1., 1., 1., 1.],\n",
              "       [1., 1., 1., 1.]])"
            ]
          },
          "metadata": {
            "tags": []
          },
          "execution_count": 68
        }
      ]
    },
    {
      "cell_type": "code",
      "metadata": {
        "id": "p7KK0OleqhNy",
        "outputId": "c2cd2507-8e73-43ec-a8b8-f16552966692",
        "colab": {
          "base_uri": "https://localhost:8080/"
        }
      },
      "source": [
        "x[0] = 3\n",
        "x"
      ],
      "execution_count": null,
      "outputs": [
        {
          "output_type": "execute_result",
          "data": {
            "text/plain": [
              "array([[3., 3., 3., 3.],\n",
              "       [1., 1., 1., 1.],\n",
              "       [1., 1., 1., 1.]])"
            ]
          },
          "metadata": {
            "tags": []
          },
          "execution_count": 69
        }
      ]
    },
    {
      "cell_type": "code",
      "metadata": {
        "id": "7sbAbPGPqpmm",
        "outputId": "b8ebba47-d956-4b99-ab48-7c3360b8876e",
        "colab": {
          "base_uri": "https://localhost:8080/"
        }
      },
      "source": [
        "x[2] = np.zeros((4,))\n",
        "x"
      ],
      "execution_count": null,
      "outputs": [
        {
          "output_type": "execute_result",
          "data": {
            "text/plain": [
              "array([[3., 3., 3., 3.],\n",
              "       [1., 1., 1., 1.],\n",
              "       [0., 0., 0., 0.]])"
            ]
          },
          "metadata": {
            "tags": []
          },
          "execution_count": 70
        }
      ]
    },
    {
      "cell_type": "code",
      "metadata": {
        "id": "3F46Mo8Pq078",
        "outputId": "b5073cfa-eaa0-4c1a-cc34-a89f00419e3b",
        "colab": {
          "base_uri": "https://localhost:8080/"
        }
      },
      "source": [
        "x[[0, 1], [1, 2]] = -np.ones((2,))    # advanced indexing\n",
        "x"
      ],
      "execution_count": null,
      "outputs": [
        {
          "output_type": "execute_result",
          "data": {
            "text/plain": [
              "array([[ 3., -1.,  3.,  3.],\n",
              "       [ 1.,  1., -1.,  1.],\n",
              "       [ 0.,  0.,  0.,  0.]])"
            ]
          },
          "metadata": {
            "tags": []
          },
          "execution_count": 71
        }
      ]
    },
    {
      "cell_type": "markdown",
      "metadata": {
        "id": "Ls0pm53ZnWso"
      },
      "source": [
        "### Array methods"
      ]
    },
    {
      "cell_type": "code",
      "metadata": {
        "id": "aMcg8pW0nnx8"
      },
      "source": [
        "a = np.array([[1., 5, 3],\n",
        "              [4, 2, 6]])"
      ],
      "execution_count": null,
      "outputs": []
    },
    {
      "cell_type": "code",
      "metadata": {
        "id": "gMsBcFFkntzN",
        "outputId": "cca082ac-dc37-403b-b853-2acac12984b2",
        "colab": {
          "base_uri": "https://localhost:8080/"
        }
      },
      "source": [
        "a.max(), a.min()"
      ],
      "execution_count": null,
      "outputs": [
        {
          "output_type": "execute_result",
          "data": {
            "text/plain": [
              "(6.0, 1.0)"
            ]
          },
          "metadata": {
            "tags": []
          },
          "execution_count": 73
        }
      ]
    },
    {
      "cell_type": "code",
      "metadata": {
        "id": "r1BgrLjrn140",
        "outputId": "bfc0f15f-6aac-4aa6-cd75-aace0b3c3497",
        "colab": {
          "base_uri": "https://localhost:8080/"
        }
      },
      "source": [
        "a.sum(), a.mean()"
      ],
      "execution_count": null,
      "outputs": [
        {
          "output_type": "execute_result",
          "data": {
            "text/plain": [
              "(21.0, 3.5)"
            ]
          },
          "metadata": {
            "tags": []
          },
          "execution_count": 74
        }
      ]
    },
    {
      "cell_type": "code",
      "metadata": {
        "id": "nQfMjdZEoHI8",
        "outputId": "e18c5189-b7a2-40a2-c86e-5af4f2fdf7d7",
        "colab": {
          "base_uri": "https://localhost:8080/"
        }
      },
      "source": [
        "a.var(), a.std()"
      ],
      "execution_count": null,
      "outputs": [
        {
          "output_type": "execute_result",
          "data": {
            "text/plain": [
              "(2.9166666666666665, 1.707825127659933)"
            ]
          },
          "metadata": {
            "tags": []
          },
          "execution_count": 75
        }
      ]
    },
    {
      "cell_type": "code",
      "metadata": {
        "id": "Zs4altjipDEV",
        "outputId": "0beea330-78df-40a7-c15a-784a32274005",
        "colab": {
          "base_uri": "https://localhost:8080/"
        }
      },
      "source": [
        "a.max(axis=1), a.sum(axis=0)"
      ],
      "execution_count": null,
      "outputs": [
        {
          "output_type": "execute_result",
          "data": {
            "text/plain": [
              "(array([5., 6.]), array([5., 7., 9.]))"
            ]
          },
          "metadata": {
            "tags": []
          },
          "execution_count": 76
        }
      ]
    },
    {
      "cell_type": "code",
      "metadata": {
        "id": "HwDUszXLoMJ8",
        "outputId": "246f82d9-aab8-4e8c-a57a-01e4df75604c",
        "colab": {
          "base_uri": "https://localhost:8080/"
        }
      },
      "source": [
        "a.transpose()   # a.T"
      ],
      "execution_count": null,
      "outputs": [
        {
          "output_type": "execute_result",
          "data": {
            "text/plain": [
              "array([[1., 4.],\n",
              "       [5., 2.],\n",
              "       [3., 6.]])"
            ]
          },
          "metadata": {
            "tags": []
          },
          "execution_count": 77
        }
      ]
    },
    {
      "cell_type": "code",
      "metadata": {
        "id": "d-feo4-Moj1u",
        "outputId": "867f6254-9aad-4666-e6bf-d05cc358408d",
        "colab": {
          "base_uri": "https://localhost:8080/"
        }
      },
      "source": [
        "a.reshape((3, 2))"
      ],
      "execution_count": null,
      "outputs": [
        {
          "output_type": "execute_result",
          "data": {
            "text/plain": [
              "array([[1., 5.],\n",
              "       [3., 4.],\n",
              "       [2., 6.]])"
            ]
          },
          "metadata": {
            "tags": []
          },
          "execution_count": 78
        }
      ]
    },
    {
      "cell_type": "markdown",
      "metadata": {
        "id": "H9_O0nbXryrK"
      },
      "source": [
        "## Combining Arrays"
      ]
    },
    {
      "cell_type": "markdown",
      "metadata": {
        "id": "H2-Er9IZsVgp"
      },
      "source": [
        "### Concatenation\n",
        "\n",
        "Extends arrays along specified axis to get a larger array, with same number of dimensions."
      ]
    },
    {
      "cell_type": "code",
      "metadata": {
        "id": "NKYKOssQsIIs",
        "outputId": "e4e6c26e-39ac-465f-c9f6-36977926badc",
        "colab": {
          "base_uri": "https://localhost:8080/"
        }
      },
      "source": [
        "a = np.ones((3, 4))\n",
        "b = 2 * np.ones((3, 5))\n",
        "c = 3 * np.ones((3, 4))\n",
        "a"
      ],
      "execution_count": null,
      "outputs": [
        {
          "output_type": "execute_result",
          "data": {
            "text/plain": [
              "array([[1., 1., 1., 1.],\n",
              "       [1., 1., 1., 1.],\n",
              "       [1., 1., 1., 1.]])"
            ]
          },
          "metadata": {
            "tags": []
          },
          "execution_count": 79
        }
      ]
    },
    {
      "cell_type": "code",
      "metadata": {
        "id": "kcWWRMmBtJxO",
        "outputId": "315f336b-6923-4644-d4cb-aad230409e26",
        "colab": {
          "base_uri": "https://localhost:8080/"
        }
      },
      "source": [
        "np.concatenate([a, c])          # default axis is 0"
      ],
      "execution_count": null,
      "outputs": [
        {
          "output_type": "execute_result",
          "data": {
            "text/plain": [
              "array([[1., 1., 1., 1.],\n",
              "       [1., 1., 1., 1.],\n",
              "       [1., 1., 1., 1.],\n",
              "       [3., 3., 3., 3.],\n",
              "       [3., 3., 3., 3.],\n",
              "       [3., 3., 3., 3.]])"
            ]
          },
          "metadata": {
            "tags": []
          },
          "execution_count": 81
        }
      ]
    },
    {
      "cell_type": "code",
      "metadata": {
        "id": "af3WNBlMsqTu",
        "outputId": "87b4cf44-3cd8-4019-bc3c-0b18084f4436",
        "colab": {
          "base_uri": "https://localhost:8080/",
          "height": 218
        }
      },
      "source": [
        "np.concatenate([a, b])          # default axis is 0"
      ],
      "execution_count": null,
      "outputs": [
        {
          "output_type": "error",
          "ename": "ValueError",
          "evalue": "ignored",
          "traceback": [
            "\u001b[0;31m---------------------------------------------------------------------------\u001b[0m",
            "\u001b[0;31mValueError\u001b[0m                                Traceback (most recent call last)",
            "\u001b[0;32m<ipython-input-82-62c55f74fa5a>\u001b[0m in \u001b[0;36m<module>\u001b[0;34m()\u001b[0m\n\u001b[0;32m----> 1\u001b[0;31m \u001b[0mnp\u001b[0m\u001b[0;34m.\u001b[0m\u001b[0mconcatenate\u001b[0m\u001b[0;34m(\u001b[0m\u001b[0;34m[\u001b[0m\u001b[0ma\u001b[0m\u001b[0;34m,\u001b[0m \u001b[0mb\u001b[0m\u001b[0;34m]\u001b[0m\u001b[0;34m)\u001b[0m          \u001b[0;31m# default axis is 0\u001b[0m\u001b[0;34m\u001b[0m\u001b[0;34m\u001b[0m\u001b[0m\n\u001b[0m",
            "\u001b[0;32m<__array_function__ internals>\u001b[0m in \u001b[0;36mconcatenate\u001b[0;34m(*args, **kwargs)\u001b[0m\n",
            "\u001b[0;31mValueError\u001b[0m: all the input array dimensions for the concatenation axis must match exactly, but along dimension 1, the array at index 0 has size 4 and the array at index 1 has size 5"
          ]
        }
      ]
    },
    {
      "cell_type": "code",
      "metadata": {
        "id": "R_gj7chms_Qu",
        "outputId": "9b8cde30-d606-4397-f434-58a32eb8fbd1",
        "colab": {
          "base_uri": "https://localhost:8080/"
        }
      },
      "source": [
        "np.concatenate([a, b], axis=1)    # or axis=-1"
      ],
      "execution_count": null,
      "outputs": [
        {
          "output_type": "execute_result",
          "data": {
            "text/plain": [
              "array([[1., 1., 1., 1., 2., 2., 2., 2., 2.],\n",
              "       [1., 1., 1., 1., 2., 2., 2., 2., 2.],\n",
              "       [1., 1., 1., 1., 2., 2., 2., 2., 2.]])"
            ]
          },
          "metadata": {
            "tags": []
          },
          "execution_count": 83
        }
      ]
    },
    {
      "cell_type": "markdown",
      "metadata": {
        "id": "GA-BJtUtsYF5"
      },
      "source": [
        "### Stacking\n",
        "\n",
        "If we have several arrays with **exact same sizes**, we can also stack them, i.e. assemble them along a new dimension."
      ]
    },
    {
      "cell_type": "code",
      "metadata": {
        "id": "8efVUOHnsfvk",
        "outputId": "547bdf9d-ad8f-477c-e9d8-4b71ec95b1d2",
        "colab": {
          "base_uri": "https://localhost:8080/"
        }
      },
      "source": [
        "stack = np.stack([a, c])    # adds new axis in 0\n",
        "print(stack.shape)\n",
        "stack"
      ],
      "execution_count": null,
      "outputs": [
        {
          "output_type": "stream",
          "text": [
            "(2, 3, 4)\n"
          ],
          "name": "stdout"
        },
        {
          "output_type": "execute_result",
          "data": {
            "text/plain": [
              "array([[[1., 1., 1., 1.],\n",
              "        [1., 1., 1., 1.],\n",
              "        [1., 1., 1., 1.]],\n",
              "\n",
              "       [[3., 3., 3., 3.],\n",
              "        [3., 3., 3., 3.],\n",
              "        [3., 3., 3., 3.]]])"
            ]
          },
          "metadata": {
            "tags": []
          },
          "execution_count": 84
        }
      ]
    },
    {
      "cell_type": "code",
      "metadata": {
        "id": "7Oj05NuRulUi",
        "outputId": "e33a5d08-1fdf-4862-b436-34d62c2e1edd",
        "colab": {
          "base_uri": "https://localhost:8080/"
        }
      },
      "source": [
        "stack = np.stack([a, c], axis=-1)\n",
        "print(stack.shape)\n",
        "stack"
      ],
      "execution_count": null,
      "outputs": [
        {
          "output_type": "stream",
          "text": [
            "(3, 4, 2)\n"
          ],
          "name": "stdout"
        },
        {
          "output_type": "execute_result",
          "data": {
            "text/plain": [
              "array([[[1., 3.],\n",
              "        [1., 3.],\n",
              "        [1., 3.],\n",
              "        [1., 3.]],\n",
              "\n",
              "       [[1., 3.],\n",
              "        [1., 3.],\n",
              "        [1., 3.],\n",
              "        [1., 3.]],\n",
              "\n",
              "       [[1., 3.],\n",
              "        [1., 3.],\n",
              "        [1., 3.],\n",
              "        [1., 3.]]])"
            ]
          },
          "metadata": {
            "tags": []
          },
          "execution_count": 85
        }
      ]
    },
    {
      "cell_type": "markdown",
      "metadata": {
        "id": "K2x-mBuxuwB2"
      },
      "source": [
        "## Save & Load Arrays\n",
        "\n",
        "Search for it when needed! :)"
      ]
    }
  ]
}