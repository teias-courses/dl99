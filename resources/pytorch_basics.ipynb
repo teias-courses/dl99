{
  "nbformat": 4,
  "nbformat_minor": 0,
  "metadata": {
    "colab": {
      "name": "pytorch_basics.ipynb",
      "provenance": [],
      "authorship_tag": "ABX9TyNlswmS/XZLhQIgvmEApwLS",
      "include_colab_link": true
    },
    "kernelspec": {
      "name": "python3",
      "display_name": "Python 3"
    },
    "accelerator": "GPU"
  },
  "cells": [
    {
      "cell_type": "markdown",
      "metadata": {
        "id": "view-in-github",
        "colab_type": "text"
      },
      "source": [
        "<a href=\"https://colab.research.google.com/github/teias-courses/dl99/blob/gh-pages/resources/pytorch_basics.ipynb\" target=\"_parent\"><img src=\"https://colab.research.google.com/assets/colab-badge.svg\" alt=\"Open In Colab\"/></a>"
      ]
    },
    {
      "cell_type": "code",
      "metadata": {
        "id": "vE8eHVv9odFm"
      },
      "source": [
        "import numpy as np\r\n",
        "import torch"
      ],
      "execution_count": 1,
      "outputs": []
    },
    {
      "cell_type": "markdown",
      "metadata": {
        "id": "xePbDQEnPNni"
      },
      "source": [
        "# Tensor attributes"
      ]
    },
    {
      "cell_type": "code",
      "metadata": {
        "colab": {
          "base_uri": "https://localhost:8080/"
        },
        "id": "WQCRBYJPofBF",
        "outputId": "0d6398df-6484-4e8a-a2a3-27e5ba09bee0"
      },
      "source": [
        "x = torch.tensor([[4., 5., 6.]])\r\n",
        "\r\n",
        "print('x:', x)\r\n",
        "print('x.ndim:', x.ndim)\r\n",
        "print('x.shape:', x.shape)\r\n",
        "print('x.size():', x.size())\r\n",
        "print('x.dtype:', x.dtype)\r\n",
        "print('x.device:', x.device)"
      ],
      "execution_count": 2,
      "outputs": [
        {
          "output_type": "stream",
          "text": [
            "x: tensor([[4., 5., 6.]])\n",
            "x.ndim: 2\n",
            "x.shape: torch.Size([1, 3])\n",
            "x.size(): torch.Size([1, 3])\n",
            "x.dtype: torch.float32\n",
            "x.device: cpu\n"
          ],
          "name": "stdout"
        }
      ]
    },
    {
      "cell_type": "code",
      "metadata": {
        "colab": {
          "base_uri": "https://localhost:8080/"
        },
        "id": "YHa_5ZRtV90Q",
        "outputId": "56457e8f-d497-4da6-aaa0-0135ed4e023d"
      },
      "source": [
        "y = torch.tensor([[4, 5, 6.]], dtype=torch.long, device=torch.device('cuda:0'))\r\n",
        "print('y:', y)\r\n",
        "print('y.dtype:', y.dtype)\r\n",
        "print('y.device:', y.device)"
      ],
      "execution_count": 3,
      "outputs": [
        {
          "output_type": "stream",
          "text": [
            "y: tensor([[4, 5, 6]], device='cuda:0')\n",
            "y.dtype: torch.int64\n",
            "y.device: cuda:0\n"
          ],
          "name": "stdout"
        }
      ]
    },
    {
      "cell_type": "code",
      "metadata": {
        "colab": {
          "base_uri": "https://localhost:8080/"
        },
        "id": "D_fC_ZFLR-Gq",
        "outputId": "41f34ce0-83db-42d4-bbdd-a170efc0a867"
      },
      "source": [
        "x_long = x.to(torch.long)   # to() returns a copy if conversion needed\r\n",
        "print('x_long.dtype:', x_long.dtype)\r\n",
        "\r\n",
        "x_long = x.long()           # alias\r\n",
        "print('x_long.dtype:', x_long.dtype)"
      ],
      "execution_count": 4,
      "outputs": [
        {
          "output_type": "stream",
          "text": [
            "x_long.dtype: torch.int64\n",
            "x_long.dtype: torch.int64\n"
          ],
          "name": "stdout"
        }
      ]
    },
    {
      "cell_type": "code",
      "metadata": {
        "colab": {
          "base_uri": "https://localhost:8080/"
        },
        "id": "hpwSrih4ShkQ",
        "outputId": "4d55ac5a-d014-491f-f924-5011de3fd5eb"
      },
      "source": [
        "x_gpu = x.to(torch.device('cuda:0'))  # to() returns a copy if conversion needed\r\n",
        "print('x_gpu.device:', x_gpu.device)\r\n",
        "\r\n",
        "x_gpu = x.cuda()                      # alias\r\n",
        "print('x_gpu.device:', x_gpu.device)"
      ],
      "execution_count": 5,
      "outputs": [
        {
          "output_type": "stream",
          "text": [
            "x_gpu.device: cuda:0\n",
            "x_gpu.device: cuda:0\n"
          ],
          "name": "stdout"
        }
      ]
    },
    {
      "cell_type": "markdown",
      "metadata": {
        "id": "tY2MJ-HgXxH8"
      },
      "source": [
        "# Skipping tensor creation and indexing :)"
      ]
    },
    {
      "cell_type": "markdown",
      "metadata": {
        "id": "xBFTiwAdPWoP"
      },
      "source": [
        "# Conversion to numpy and pure python"
      ]
    },
    {
      "cell_type": "markdown",
      "metadata": {
        "id": "Ji0nRek5UrhN"
      },
      "source": [
        "## python lists, numbers"
      ]
    },
    {
      "cell_type": "code",
      "metadata": {
        "colab": {
          "base_uri": "https://localhost:8080/"
        },
        "id": "cuHlXEMrTx6D",
        "outputId": "c509cf3c-f22b-4f52-851d-ed82b65c5804"
      },
      "source": [
        "x = torch.tensor([[4., 5., 6.]])    # accepts python list\r\n",
        "\r\n",
        "x.tolist()    # returns python list"
      ],
      "execution_count": 7,
      "outputs": [
        {
          "output_type": "execute_result",
          "data": {
            "text/plain": [
              "[[4.0, 5.0, 6.0]]"
            ]
          },
          "metadata": {
            "tags": []
          },
          "execution_count": 7
        }
      ]
    },
    {
      "cell_type": "code",
      "metadata": {
        "colab": {
          "base_uri": "https://localhost:8080/"
        },
        "id": "onM_Y7EiT7tN",
        "outputId": "acb120ff-e962-4c64-9d78-12b36f3f7438"
      },
      "source": [
        "y = torch.tensor([[7.]])\r\n",
        "\r\n",
        "print('y:', y)\r\n",
        "print('y.tolist():', y.tolist())\r\n",
        "print('y.item():', y.item())    # if y has a single value\r\n",
        "                                # returns that as python number"
      ],
      "execution_count": 8,
      "outputs": [
        {
          "output_type": "stream",
          "text": [
            "y: tensor([[7.]])\n",
            "y.tolist(): [[7.0]]\n",
            "y.item(): 7.0\n"
          ],
          "name": "stdout"
        }
      ]
    },
    {
      "cell_type": "markdown",
      "metadata": {
        "id": "_HZm7vG2Uq6c"
      },
      "source": [
        "## numpy arrays\r\n"
      ]
    },
    {
      "cell_type": "code",
      "metadata": {
        "colab": {
          "base_uri": "https://localhost:8080/"
        },
        "id": "06MwftaDpt__",
        "outputId": "d152b608-12f7-4dbd-e614-8ed98d8b2fc8"
      },
      "source": [
        "a_np = np.array([[1, 2],\r\n",
        "                 [3, 4]])\r\n",
        "a_pt = torch.from_numpy(a_np) # shares memory with numpy\r\n",
        "print(a_pt)"
      ],
      "execution_count": 9,
      "outputs": [
        {
          "output_type": "stream",
          "text": [
            "tensor([[1, 2],\n",
            "        [3, 4]])\n"
          ],
          "name": "stdout"
        }
      ]
    },
    {
      "cell_type": "code",
      "metadata": {
        "colab": {
          "base_uri": "https://localhost:8080/"
        },
        "id": "3QacPPr5p3Di",
        "outputId": "17982d61-72ca-465f-f612-1c248f08e3b6"
      },
      "source": [
        "a_pt[0, 0] = 0\r\n",
        "a_np"
      ],
      "execution_count": 10,
      "outputs": [
        {
          "output_type": "execute_result",
          "data": {
            "text/plain": [
              "array([[0, 2],\n",
              "       [3, 4]])"
            ]
          },
          "metadata": {
            "tags": []
          },
          "execution_count": 10
        }
      ]
    },
    {
      "cell_type": "code",
      "metadata": {
        "colab": {
          "base_uri": "https://localhost:8080/"
        },
        "id": "f-KDLvoPObpT",
        "outputId": "6290de47-206b-45c7-8e27-117dc0304e70"
      },
      "source": [
        "b_pt = torch.tensor([1., 2., 3.])\r\n",
        "b_np = b_pt.numpy()   # shares memory with pytorch\r\n",
        "b_np"
      ],
      "execution_count": 11,
      "outputs": [
        {
          "output_type": "execute_result",
          "data": {
            "text/plain": [
              "array([1., 2., 3.], dtype=float32)"
            ]
          },
          "metadata": {
            "tags": []
          },
          "execution_count": 11
        }
      ]
    },
    {
      "cell_type": "code",
      "metadata": {
        "colab": {
          "base_uri": "https://localhost:8080/"
        },
        "id": "kAav3v6nq1XR",
        "outputId": "a01c03be-226d-4b5e-d8ed-6249d2dd1d93"
      },
      "source": [
        "b_np[1] = -5\r\n",
        "b_pt"
      ],
      "execution_count": 12,
      "outputs": [
        {
          "output_type": "execute_result",
          "data": {
            "text/plain": [
              "tensor([ 1., -5.,  3.])"
            ]
          },
          "metadata": {
            "tags": []
          },
          "execution_count": 12
        }
      ]
    },
    {
      "cell_type": "code",
      "metadata": {
        "colab": {
          "base_uri": "https://localhost:8080/"
        },
        "id": "vDVqw9wJQWQ2",
        "outputId": "b8dab467-81ab-4805-c12f-077ac1cc19a8"
      },
      "source": [
        "# to avoid sharing memory with numpy use clone()\r\n",
        "b_pt = torch.tensor([1., 2., 3.])\r\n",
        "b_np = b_pt.clone().numpy()   # not sharing memory with b_pt\r\n",
        "b_np"
      ],
      "execution_count": 13,
      "outputs": [
        {
          "output_type": "execute_result",
          "data": {
            "text/plain": [
              "array([1., 2., 3.], dtype=float32)"
            ]
          },
          "metadata": {
            "tags": []
          },
          "execution_count": 13
        }
      ]
    },
    {
      "cell_type": "code",
      "metadata": {
        "colab": {
          "base_uri": "https://localhost:8080/"
        },
        "id": "Xux-UNT4RBQM",
        "outputId": "27aaad14-06d0-42d9-bcce-6c19cb7a2f4a"
      },
      "source": [
        "b_np[1] = -5\r\n",
        "b_pt"
      ],
      "execution_count": 14,
      "outputs": [
        {
          "output_type": "execute_result",
          "data": {
            "text/plain": [
              "tensor([1., 2., 3.])"
            ]
          },
          "metadata": {
            "tags": []
          },
          "execution_count": 14
        }
      ]
    },
    {
      "cell_type": "markdown",
      "metadata": {
        "id": "EwSgAkHMWkqg"
      },
      "source": [
        "# Tensor methods"
      ]
    },
    {
      "cell_type": "code",
      "metadata": {
        "colab": {
          "base_uri": "https://localhost:8080/"
        },
        "id": "F9S9SsOFWoYF",
        "outputId": "bbf93896-d3c3-4aae-c035-d0bbdeaf8641"
      },
      "source": [
        "x = torch.tensor([1., 2., 3., 4.])\r\n",
        "\r\n",
        "x_clipped = x.clip(min=2, max=3)\r\n",
        "x"
      ],
      "execution_count": 16,
      "outputs": [
        {
          "output_type": "execute_result",
          "data": {
            "text/plain": [
              "tensor([1., 2., 3., 4.])"
            ]
          },
          "metadata": {
            "tags": []
          },
          "execution_count": 16
        }
      ]
    },
    {
      "cell_type": "code",
      "metadata": {
        "colab": {
          "base_uri": "https://localhost:8080/"
        },
        "id": "GNcea2SRXEh-",
        "outputId": "f0f1328a-850e-4559-e464-46f03d46f3bb"
      },
      "source": [
        "x.clip_(min=2, max=3)   # methods ending with _ perform inplace\r\n",
        "x"
      ],
      "execution_count": 17,
      "outputs": [
        {
          "output_type": "execute_result",
          "data": {
            "text/plain": [
              "tensor([2., 2., 3., 3.])"
            ]
          },
          "metadata": {
            "tags": []
          },
          "execution_count": 17
        }
      ]
    },
    {
      "cell_type": "code",
      "metadata": {
        "colab": {
          "base_uri": "https://localhost:8080/"
        },
        "id": "hZ7Rd5hhXczK",
        "outputId": "90ab621d-7049-40d5-fe4f-8fec3efd6d41"
      },
      "source": [
        "x.clip_(min=2, max=3) is x    # inplace methods also\r\n",
        "                              # return the tensor itself"
      ],
      "execution_count": 18,
      "outputs": [
        {
          "output_type": "execute_result",
          "data": {
            "text/plain": [
              "True"
            ]
          },
          "metadata": {
            "tags": []
          },
          "execution_count": 18
        }
      ]
    },
    {
      "cell_type": "markdown",
      "metadata": {
        "id": "3sjEKoHXVinm"
      },
      "source": [
        "# Calculating gradients"
      ]
    },
    {
      "cell_type": "code",
      "metadata": {
        "colab": {
          "base_uri": "https://localhost:8080/"
        },
        "id": "CE84FlhIx7Wh",
        "outputId": "f318489c-adf4-4b65-f8f7-a201c636f936"
      },
      "source": [
        "X = torch.tensor([1., 2])\r\n",
        "W = torch.tensor([3., 4], requires_grad=True)\r\n",
        "b = torch.tensor([5.], requires_grad=True)\r\n",
        "W"
      ],
      "execution_count": 19,
      "outputs": [
        {
          "output_type": "execute_result",
          "data": {
            "text/plain": [
              "tensor([3., 4.], requires_grad=True)"
            ]
          },
          "metadata": {
            "tags": []
          },
          "execution_count": 19
        }
      ]
    },
    {
      "cell_type": "code",
      "metadata": {
        "colab": {
          "base_uri": "https://localhost:8080/"
        },
        "id": "HjJoXWOuYXHl",
        "outputId": "92df3398-4839-4046-af44-78048ae7b781"
      },
      "source": [
        "a = X * W\r\n",
        "print('a:', a)\r\n",
        "Y = a + b\r\n",
        "print('Y:', Y)"
      ],
      "execution_count": 24,
      "outputs": [
        {
          "output_type": "stream",
          "text": [
            "a: tensor([3., 8.], grad_fn=<MulBackward0>)\n",
            "Y: tensor([ 8., 13.], grad_fn=<AddBackward0>)\n"
          ],
          "name": "stdout"
        }
      ]
    },
    {
      "cell_type": "code",
      "metadata": {
        "colab": {
          "base_uri": "https://localhost:8080/"
        },
        "id": "eNakhfpOzanp",
        "outputId": "3b413500-6934-428b-eb22-dff20147ecae"
      },
      "source": [
        "loss = Y.sum()\r\n",
        "print('loss:', loss)\r\n",
        "\r\n",
        "loss.backward()   # loss should be a single value\r\n",
        "                  # to call backward without input"
      ],
      "execution_count": 25,
      "outputs": [
        {
          "output_type": "stream",
          "text": [
            "loss: tensor(21., grad_fn=<SumBackward0>)\n"
          ],
          "name": "stdout"
        }
      ]
    },
    {
      "cell_type": "code",
      "metadata": {
        "colab": {
          "base_uri": "https://localhost:8080/"
        },
        "id": "lIX52dudan7e",
        "outputId": "a4b84976-f98d-40cd-9f29-4edf4f64ac18"
      },
      "source": [
        "print('W.grad:', W.grad)\r\n",
        "print('b.grad:', b.grad)"
      ],
      "execution_count": 26,
      "outputs": [
        {
          "output_type": "stream",
          "text": [
            "W.grad: tensor([2., 4.])\n",
            "b.grad: tensor([6.])\n"
          ],
          "name": "stdout"
        }
      ]
    },
    {
      "cell_type": "markdown",
      "metadata": {
        "id": "s3lrd9eeaju_"
      },
      "source": [
        "# Applying gradients"
      ]
    },
    {
      "cell_type": "code",
      "metadata": {
        "id": "_wNfLGzV31C0"
      },
      "source": [
        "from torch.optim import SGD\r\n",
        "\r\n",
        "optimizer = torch.optim.SGD([W, b], lr=0.01)\r\n",
        "optimizer.step()"
      ],
      "execution_count": 27,
      "outputs": []
    },
    {
      "cell_type": "code",
      "metadata": {
        "colab": {
          "base_uri": "https://localhost:8080/"
        },
        "id": "I1VzfhhL5rDN",
        "outputId": "7e7c64d8-f1f0-42ea-d4c7-424de7e1c857"
      },
      "source": [
        "print('updated W:', W)\r\n",
        "print('updated b:', b)"
      ],
      "execution_count": 28,
      "outputs": [
        {
          "output_type": "stream",
          "text": [
            "updated W: tensor([2.9800, 3.9600], requires_grad=True)\n",
            "updated b: tensor([4.9400], requires_grad=True)\n"
          ],
          "name": "stdout"
        }
      ]
    }
  ]
}