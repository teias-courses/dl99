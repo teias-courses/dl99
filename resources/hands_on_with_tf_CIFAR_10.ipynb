{
  "nbformat": 4,
  "nbformat_minor": 0,
  "metadata": {
    "accelerator": "GPU",
    "colab": {
      "name": "hands_on_with_tf_CIFAR_10.ipynb",
      "provenance": [],
      "include_colab_link": true
    },
    "kernelspec": {
      "display_name": "Python 3",
      "name": "python3"
    }
  },
  "cells": [
    {
      "cell_type": "markdown",
      "metadata": {
        "id": "view-in-github",
        "colab_type": "text"
      },
      "source": [
        "<a href=\"https://colab.research.google.com/github/teias-courses/dl99/blob/gh-pages/resources/hands_on_with_tf_CIFAR_10.ipynb\" target=\"_parent\"><img src=\"https://colab.research.google.com/assets/colab-badge.svg\" alt=\"Open In Colab\"/></a>"
      ]
    },
    {
      "cell_type": "markdown",
      "metadata": {
        "id": "1IZdmRLsNEiq"
      },
      "source": [
        "# 1. Work with data "
      ]
    },
    {
      "cell_type": "code",
      "metadata": {
        "id": "qlEJwRqPPZEw",
        "cellView": "form"
      },
      "source": [
        "#@title download data\r\n",
        "!wget https://www.cs.toronto.edu/~kriz/cifar-10-python.tar.gz\r\n",
        "!tar -xvzf /content/cifar-10-python.tar.gz"
      ],
      "execution_count": null,
      "outputs": []
    },
    {
      "cell_type": "code",
      "metadata": {
        "id": "2hszVhPHQo90",
        "cellView": "form"
      },
      "source": [
        "#@title import libs\r\n",
        "\r\n",
        "import tensorflow as tf\r\n",
        "import os\r\n",
        "import numpy as np \r\n",
        "import pickle"
      ],
      "execution_count": null,
      "outputs": []
    },
    {
      "cell_type": "code",
      "metadata": {
        "cellView": "form",
        "id": "orMwRW0zIjwl"
      },
      "source": [
        "#@title load dataset from files\r\n",
        "\r\n",
        "def unpickle(file):\r\n",
        "  with open(file, 'rb') as fo:\r\n",
        "    data = pickle.load(fo, encoding='bytes')\r\n",
        "  return data\r\n",
        "\r\n",
        "raw_data_parts = []\r\n",
        "raw_labels_parts = []\r\n",
        "\r\n",
        "for file_name in (os.listdir(\"/content/cifar-10-batches-py\")):\r\n",
        "  if (\"data_batch\" in file_name):\r\n",
        "    part = unpickle(os.path.join(\"/content/cifar-10-batches-py\",\r\n",
        "                                 file_name))\r\n",
        "    raw_data_parts.append(part[b'data'])\r\n",
        "    raw_labels_parts.append(part[b'labels'])\r\n",
        "\r\n",
        "raw_data = np.concatenate(raw_data_parts, axis=0)\r\n",
        "raw_labels = np.concatenate(raw_labels_parts, axis=0)"
      ],
      "execution_count": null,
      "outputs": []
    },
    {
      "cell_type": "code",
      "metadata": {
        "id": "KAndn8gVTURb"
      },
      "source": [
        "#@title define data processor funcs (YOUR PART #1)\r\n",
        "\r\n",
        "def process_image(flat_images, labels):   # image is tensor of shape (3072), label is a scalar tensor\r\n",
        "  #################\r\n",
        "  # provess image #\r\n",
        "  #################\r\n",
        "  return (normalized_images, labels) # normalized tensor of shape (32, 32, 3), label unchanged\r\n",
        " \r\n",
        "def process_labels(images, labels):\r\n",
        "  one_hot_labels = tf.one_hot(labels, depth=10)\r\n",
        "  return (images, one_hot_labels) "
      ],
      "execution_count": null,
      "outputs": []
    },
    {
      "cell_type": "code",
      "metadata": {
        "id": "xQa8IrBhH6Ch"
      },
      "source": [
        "#@title data process, split using tf.data\r\n",
        "\r\n",
        "AUTOTUNE = tf.data.experimental.AUTOTUNE \r\n",
        "\r\n",
        "tf_dataset = tf.data.Dataset.from_tensor_slices((raw_data, raw_labels))\r\n",
        "\r\n",
        "tf_dataset = tf_dataset.map(process_image, num_parallel_calls=AUTOTUNE)\r\n",
        "tf_dataset = tf_dataset.map(process_labels, num_parallel_calls=AUTOTUNE)\r\n",
        "tf_dataset = tf_dataset.shuffle(1000)\r\n",
        "tf_dataset = tf_dataset.batch(64)\r\n",
        "tf_dataset = tf_dataset.prefetch(AUTOTUNE)\r\n",
        "\r\n",
        "test_size = 50\r\n",
        "val_size = 25\r\n",
        "train_size = 250\r\n",
        "\r\n",
        "tf_test_set = tf_dataset.take(test_size)\r\n",
        "tf_val_set = tf_dataset.skip(test_size).take(val_size)\r\n",
        "tf_train_set = tf_dataset.skip(test_size+val_size)\r\n",
        "\r\n",
        "a_batch = next(iter(tf_val_set))\r\n",
        "print('input batch shape:', a_batch[0].shape, '\\nlabel batch shape', a_batch[1].shape)\r\n",
        "print('\\ninput tensor:', a_batch[0][0], '\\nlabel tensor', a_batch[1][0])"
      ],
      "execution_count": null,
      "outputs": []
    },
    {
      "cell_type": "code",
      "metadata": {
        "colab": {
          "base_uri": "https://localhost:8080/",
          "height": 281
        },
        "cellView": "form",
        "id": "205X7ZXIKlOi",
        "outputId": "3b5e1cec-5b9c-4557-8b19-0dac719068e3"
      },
      "source": [
        "#@title view a data example\r\n",
        "a_batch = next(iter(tf_val_set))\r\n",
        "i = 2 #@param {type:\"integer\"}\r\n",
        "plt.title(f'Class: {a_batch[1][i].numpy()}')\r\n",
        "plt.imshow(a_batch[0][i])\r\n",
        "plt.show()"
      ],
      "execution_count": null,
      "outputs": [
        {
          "output_type": "display_data",
          "data": {
            "image/png": "[encoded data removed]",
            "text/plain": [
              "<Figure size 432x288 with 1 Axes>"
            ]
          },
          "metadata": {
            "tags": [],
            "needs_background": "light"
          }
        }
      ]
    },
    {
      "cell_type": "markdown",
      "metadata": {
        "id": "qUKvCinyNLQC"
      },
      "source": [
        "# 2. Design and train the model \r\n"
      ]
    },
    {
      "cell_type": "code",
      "metadata": {
        "colab": {
          "base_uri": "https://localhost:8080/"
        },
        "id": "8uICwdD7bkoY",
        "outputId": "9db5b0cd-02b5-4bdc-9538-41580d7e37a8"
      },
      "source": [
        "model.summary()"
      ],
      "execution_count": null,
      "outputs": [
        {
          "output_type": "stream",
          "text": [
            "Model: \"model_1\"\n",
            "_________________________________________________________________\n",
            "Layer (type)                 Output Shape              Param #   \n",
            "=================================================================\n",
            "input_2 (InputLayer)         [(None, 32, 32, 3)]       0         \n",
            "_________________________________________________________________\n",
            "conv2d_5 (Conv2D)            (None, 32, 32, 32)        896       \n",
            "_________________________________________________________________\n",
            "conv2d_6 (Conv2D)            (None, 32, 32, 32)        9248      \n",
            "_________________________________________________________________\n",
            "max_pooling2d_3 (MaxPooling2 (None, 16, 16, 32)        0         \n",
            "_________________________________________________________________\n",
            "conv2d_7 (Conv2D)            (None, 16, 16, 64)        51264     \n",
            "_________________________________________________________________\n",
            "conv2d_8 (Conv2D)            (None, 16, 16, 64)        102464    \n",
            "_________________________________________________________________\n",
            "max_pooling2d_4 (MaxPooling2 (None, 8, 8, 64)          0         \n",
            "_________________________________________________________________\n",
            "conv2d_9 (Conv2D)            (None, 8, 8, 128)         401536    \n",
            "_________________________________________________________________\n",
            "max_pooling2d_5 (MaxPooling2 (None, 4, 4, 128)         0         \n",
            "_________________________________________________________________\n",
            "flatten_1 (Flatten)          (None, 2048)              0         \n",
            "_________________________________________________________________\n",
            "dense_2 (Dense)              (None, 32)                65568     \n",
            "_________________________________________________________________\n",
            "dense_3 (Dense)              (None, 10)                330       \n",
            "=================================================================\n",
            "Total params: 631,306\n",
            "Trainable params: 631,306\n",
            "Non-trainable params: 0\n",
            "_________________________________________________________________\n"
          ],
          "name": "stdout"
        }
      ]
    },
    {
      "cell_type": "code",
      "metadata": {
        "id": "hj3t8SIPQv6M"
      },
      "source": [
        "#@ title define, compile model using functional api (YOUR PART #2)\r\n",
        "\r\n",
        "from tensorflow.keras.layers import Conv2D, MaxPooling2D, Dense, Flatten, Input\r\n",
        "from tensorflow.keras import Model\r\n",
        "from tensorflow.keras.optimizers import Adam\r\n",
        "\r\n",
        "input_image = Input((32,32, 3))\r\n",
        "x = Conv2D(32, (3, 3), activation='relu', padding='same')(input_image)\r\n",
        "\r\n",
        "################\r\n",
        "# define model #\r\n",
        "################\r\n",
        "\r\n",
        "model = Model(inputs=input_image, outputs=x)    # output?\r\n",
        "\r\n",
        "learning_rate = 0.002 #@param {\"type\": \"number\"}\r\n",
        "model.compile (optimizer=Adam(lr=learning_rate), \r\n",
        "               loss='categorical_crossentropy',\r\n",
        "               metrics=['accuracy'])"
      ],
      "execution_count": null,
      "outputs": []
    },
    {
      "cell_type": "code",
      "metadata": {
        "id": "d5kShkCUigr7"
      },
      "source": [
        "#@title train model\r\n",
        "epochs = 10 #@param {type:\"integer\"}\r\n",
        "\r\n",
        "history = model.fit(tf_train_set,\r\n",
        "                    validation_data=tf_val_set,\r\n",
        "                    epochs=epochs)"
      ],
      "execution_count": null,
      "outputs": []
    },
    {
      "cell_type": "code",
      "metadata": {
        "cellView": "form",
        "id": "D8vnUNm4FqF2"
      },
      "source": [
        "#@title plot learning curve\r\n",
        "from matplotlib import pyplot as plt\r\n",
        "\r\n",
        "plt.title('Loss')\r\n",
        "plt.plot(history.history['loss'], label='loss')\r\n",
        "plt.plot(history.history['val_loss'], label='val loss')\r\n",
        "\r\n",
        "plt.legend()\r\n",
        "plt.show()\r\n",
        "\r\n",
        "plt.title('Accuracy')\r\n",
        "plt.plot(history.history['accuracy'], label='accuracy')\r\n",
        "plt.plot(history.history['val_accuracy'], label='val accuracy')\r\n",
        "\r\n",
        "plt.legend()\r\n",
        "plt.show()"
      ],
      "execution_count": null,
      "outputs": []
    },
    {
      "cell_type": "code",
      "metadata": {
        "cellView": "form",
        "id": "FZr9jumiI09W"
      },
      "source": [
        "#@title evaluate model on test set\r\n",
        "model.evaluate(tf_test_set)"
      ],
      "execution_count": null,
      "outputs": []
    }
  ]
}